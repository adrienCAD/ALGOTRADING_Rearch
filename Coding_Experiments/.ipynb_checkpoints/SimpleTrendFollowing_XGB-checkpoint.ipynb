{
 "cells": [
  {
   "cell_type": "markdown",
   "metadata": {},
   "source": [
    "# Simple Tren-Following strategy\n",
    "\n",
    "## Background\n",
    "\n",
    "Applying a Simple Tren-Following strategy, where trades are made based on the direction of recent price movements. In this specific case, the strategy is based on the percentage change in the OHLC (open, high, low, close) prices, with a buy signal generated if the percentage change is positive and a sell signal generated if the percentage change is negative.\n",
    "\n",
    "---"
   ]
  },
  {
   "cell_type": "code",
   "execution_count": 1,
   "metadata": {
    "tags": []
   },
   "outputs": [],
   "source": [
    "# Imports\n",
    "import pandas as pd\n",
    "import numpy as np\n",
    "from pathlib import Path"
   ]
  },
  {
   "cell_type": "markdown",
   "metadata": {},
   "source": [
    "### Read the CSV file into Pandas DataFrame"
   ]
  },
  {
   "cell_type": "code",
   "execution_count": 2,
   "metadata": {
    "tags": []
   },
   "outputs": [
    {
     "data": {
      "text/html": [
       "<div>\n",
       "<style scoped>\n",
       "    .dataframe tbody tr th:only-of-type {\n",
       "        vertical-align: middle;\n",
       "    }\n",
       "\n",
       "    .dataframe tbody tr th {\n",
       "        vertical-align: top;\n",
       "    }\n",
       "\n",
       "    .dataframe thead th {\n",
       "        text-align: right;\n",
       "    }\n",
       "</style>\n",
       "<table border=\"1\" class=\"dataframe\">\n",
       "  <thead>\n",
       "    <tr style=\"text-align: right;\">\n",
       "      <th></th>\n",
       "      <th>open</th>\n",
       "      <th>high</th>\n",
       "      <th>low</th>\n",
       "      <th>close</th>\n",
       "      <th>volume</th>\n",
       "      <th>close_time</th>\n",
       "      <th>quote_av</th>\n",
       "      <th>trades</th>\n",
       "      <th>tb_base_av</th>\n",
       "      <th>tb_quote_av</th>\n",
       "      <th>ignore</th>\n",
       "    </tr>\n",
       "    <tr>\n",
       "      <th>timestamp</th>\n",
       "      <th></th>\n",
       "      <th></th>\n",
       "      <th></th>\n",
       "      <th></th>\n",
       "      <th></th>\n",
       "      <th></th>\n",
       "      <th></th>\n",
       "      <th></th>\n",
       "      <th></th>\n",
       "      <th></th>\n",
       "      <th></th>\n",
       "    </tr>\n",
       "  </thead>\n",
       "  <tbody>\n",
       "    <tr>\n",
       "      <th>2017-08-17 04:00:00</th>\n",
       "      <td>301.13</td>\n",
       "      <td>302.57</td>\n",
       "      <td>298.0</td>\n",
       "      <td>301.61</td>\n",
       "      <td>125.66877</td>\n",
       "      <td>1502945999999</td>\n",
       "      <td>37684.804181</td>\n",
       "      <td>129</td>\n",
       "      <td>80.56377</td>\n",
       "      <td>24193.440789</td>\n",
       "      <td>0</td>\n",
       "    </tr>\n",
       "    <tr>\n",
       "      <th>2017-08-17 05:00:00</th>\n",
       "      <td>301.61</td>\n",
       "      <td>303.28</td>\n",
       "      <td>300.0</td>\n",
       "      <td>303.10</td>\n",
       "      <td>377.67246</td>\n",
       "      <td>1502949599999</td>\n",
       "      <td>114043.282676</td>\n",
       "      <td>202</td>\n",
       "      <td>328.10428</td>\n",
       "      <td>99079.803569</td>\n",
       "      <td>0</td>\n",
       "    </tr>\n",
       "    <tr>\n",
       "      <th>2017-08-17 06:00:00</th>\n",
       "      <td>302.40</td>\n",
       "      <td>304.44</td>\n",
       "      <td>301.9</td>\n",
       "      <td>302.68</td>\n",
       "      <td>303.86672</td>\n",
       "      <td>1502953199999</td>\n",
       "      <td>92034.441294</td>\n",
       "      <td>182</td>\n",
       "      <td>259.28668</td>\n",
       "      <td>78525.948613</td>\n",
       "      <td>0</td>\n",
       "    </tr>\n",
       "    <tr>\n",
       "      <th>2017-08-17 07:00:00</th>\n",
       "      <td>302.68</td>\n",
       "      <td>307.96</td>\n",
       "      <td>302.6</td>\n",
       "      <td>307.96</td>\n",
       "      <td>754.74510</td>\n",
       "      <td>1502956799999</td>\n",
       "      <td>229725.136967</td>\n",
       "      <td>198</td>\n",
       "      <td>592.43176</td>\n",
       "      <td>180297.966961</td>\n",
       "      <td>0</td>\n",
       "    </tr>\n",
       "    <tr>\n",
       "      <th>2017-08-17 08:00:00</th>\n",
       "      <td>307.95</td>\n",
       "      <td>309.97</td>\n",
       "      <td>307.0</td>\n",
       "      <td>308.62</td>\n",
       "      <td>150.75029</td>\n",
       "      <td>1502960399999</td>\n",
       "      <td>46559.462371</td>\n",
       "      <td>182</td>\n",
       "      <td>140.68470</td>\n",
       "      <td>43451.495398</td>\n",
       "      <td>0</td>\n",
       "    </tr>\n",
       "  </tbody>\n",
       "</table>\n",
       "</div>"
      ],
      "text/plain": [
       "                       open    high    low   close     volume     close_time  \\\n",
       "timestamp                                                                      \n",
       "2017-08-17 04:00:00  301.13  302.57  298.0  301.61  125.66877  1502945999999   \n",
       "2017-08-17 05:00:00  301.61  303.28  300.0  303.10  377.67246  1502949599999   \n",
       "2017-08-17 06:00:00  302.40  304.44  301.9  302.68  303.86672  1502953199999   \n",
       "2017-08-17 07:00:00  302.68  307.96  302.6  307.96  754.74510  1502956799999   \n",
       "2017-08-17 08:00:00  307.95  309.97  307.0  308.62  150.75029  1502960399999   \n",
       "\n",
       "                          quote_av  trades  tb_base_av    tb_quote_av  ignore  \n",
       "timestamp                                                                      \n",
       "2017-08-17 04:00:00   37684.804181     129    80.56377   24193.440789       0  \n",
       "2017-08-17 05:00:00  114043.282676     202   328.10428   99079.803569       0  \n",
       "2017-08-17 06:00:00   92034.441294     182   259.28668   78525.948613       0  \n",
       "2017-08-17 07:00:00  229725.136967     198   592.43176  180297.966961       0  \n",
       "2017-08-17 08:00:00   46559.462371     182   140.68470   43451.495398       0  "
      ]
     },
     "execution_count": 2,
     "metadata": {},
     "output_type": "execute_result"
    }
   ],
   "source": [
    "# Import the OHLCV dataset into a Pandas Dataframe\n",
    "trading_df = pd.read_csv(\n",
    "    Path(\"../Resources/ETHUSDT-1h-data.csv\"), \n",
    "    index_col=\"timestamp\", \n",
    "    infer_datetime_format=True, \n",
    "    parse_dates=True\n",
    ")\n",
    "\n",
    "# Review the DataFrame\n",
    "trading_df.head()"
   ]
  },
  {
   "cell_type": "markdown",
   "metadata": {},
   "source": [
    "### Add a daily return values column to the DataFrame"
   ]
  },
  {
   "cell_type": "code",
   "execution_count": 3,
   "metadata": {
    "tags": []
   },
   "outputs": [
    {
     "data": {
      "text/html": [
       "<div>\n",
       "<style scoped>\n",
       "    .dataframe tbody tr th:only-of-type {\n",
       "        vertical-align: middle;\n",
       "    }\n",
       "\n",
       "    .dataframe tbody tr th {\n",
       "        vertical-align: top;\n",
       "    }\n",
       "\n",
       "    .dataframe thead th {\n",
       "        text-align: right;\n",
       "    }\n",
       "</style>\n",
       "<table border=\"1\" class=\"dataframe\">\n",
       "  <thead>\n",
       "    <tr style=\"text-align: right;\">\n",
       "      <th></th>\n",
       "      <th>open</th>\n",
       "      <th>high</th>\n",
       "      <th>low</th>\n",
       "      <th>close</th>\n",
       "      <th>volume</th>\n",
       "      <th>close_time</th>\n",
       "      <th>quote_av</th>\n",
       "      <th>trades</th>\n",
       "      <th>tb_base_av</th>\n",
       "      <th>tb_quote_av</th>\n",
       "      <th>ignore</th>\n",
       "      <th>actual_returns</th>\n",
       "    </tr>\n",
       "    <tr>\n",
       "      <th>timestamp</th>\n",
       "      <th></th>\n",
       "      <th></th>\n",
       "      <th></th>\n",
       "      <th></th>\n",
       "      <th></th>\n",
       "      <th></th>\n",
       "      <th></th>\n",
       "      <th></th>\n",
       "      <th></th>\n",
       "      <th></th>\n",
       "      <th></th>\n",
       "      <th></th>\n",
       "    </tr>\n",
       "  </thead>\n",
       "  <tbody>\n",
       "    <tr>\n",
       "      <th>2017-08-17 05:00:00</th>\n",
       "      <td>301.61</td>\n",
       "      <td>303.28</td>\n",
       "      <td>300.00</td>\n",
       "      <td>303.10</td>\n",
       "      <td>377.67246</td>\n",
       "      <td>1502949599999</td>\n",
       "      <td>114043.282676</td>\n",
       "      <td>202</td>\n",
       "      <td>328.10428</td>\n",
       "      <td>99079.803569</td>\n",
       "      <td>0</td>\n",
       "      <td>0.004940</td>\n",
       "    </tr>\n",
       "    <tr>\n",
       "      <th>2017-08-17 06:00:00</th>\n",
       "      <td>302.40</td>\n",
       "      <td>304.44</td>\n",
       "      <td>301.90</td>\n",
       "      <td>302.68</td>\n",
       "      <td>303.86672</td>\n",
       "      <td>1502953199999</td>\n",
       "      <td>92034.441294</td>\n",
       "      <td>182</td>\n",
       "      <td>259.28668</td>\n",
       "      <td>78525.948613</td>\n",
       "      <td>0</td>\n",
       "      <td>-0.001386</td>\n",
       "    </tr>\n",
       "    <tr>\n",
       "      <th>2017-08-17 07:00:00</th>\n",
       "      <td>302.68</td>\n",
       "      <td>307.96</td>\n",
       "      <td>302.60</td>\n",
       "      <td>307.96</td>\n",
       "      <td>754.74510</td>\n",
       "      <td>1502956799999</td>\n",
       "      <td>229725.136967</td>\n",
       "      <td>198</td>\n",
       "      <td>592.43176</td>\n",
       "      <td>180297.966961</td>\n",
       "      <td>0</td>\n",
       "      <td>0.017444</td>\n",
       "    </tr>\n",
       "    <tr>\n",
       "      <th>2017-08-17 08:00:00</th>\n",
       "      <td>307.95</td>\n",
       "      <td>309.97</td>\n",
       "      <td>307.00</td>\n",
       "      <td>308.62</td>\n",
       "      <td>150.75029</td>\n",
       "      <td>1502960399999</td>\n",
       "      <td>46559.462371</td>\n",
       "      <td>182</td>\n",
       "      <td>140.68470</td>\n",
       "      <td>43451.495398</td>\n",
       "      <td>0</td>\n",
       "      <td>0.002143</td>\n",
       "    </tr>\n",
       "    <tr>\n",
       "      <th>2017-08-17 09:00:00</th>\n",
       "      <td>308.62</td>\n",
       "      <td>312.00</td>\n",
       "      <td>308.62</td>\n",
       "      <td>310.00</td>\n",
       "      <td>469.27879</td>\n",
       "      <td>1502963999999</td>\n",
       "      <td>145510.063225</td>\n",
       "      <td>198</td>\n",
       "      <td>438.71878</td>\n",
       "      <td>136034.157708</td>\n",
       "      <td>0</td>\n",
       "      <td>0.004472</td>\n",
       "    </tr>\n",
       "  </tbody>\n",
       "</table>\n",
       "</div>"
      ],
      "text/plain": [
       "                       open    high     low   close     volume     close_time  \\\n",
       "timestamp                                                                       \n",
       "2017-08-17 05:00:00  301.61  303.28  300.00  303.10  377.67246  1502949599999   \n",
       "2017-08-17 06:00:00  302.40  304.44  301.90  302.68  303.86672  1502953199999   \n",
       "2017-08-17 07:00:00  302.68  307.96  302.60  307.96  754.74510  1502956799999   \n",
       "2017-08-17 08:00:00  307.95  309.97  307.00  308.62  150.75029  1502960399999   \n",
       "2017-08-17 09:00:00  308.62  312.00  308.62  310.00  469.27879  1502963999999   \n",
       "\n",
       "                          quote_av  trades  tb_base_av    tb_quote_av  ignore  \\\n",
       "timestamp                                                                       \n",
       "2017-08-17 05:00:00  114043.282676     202   328.10428   99079.803569       0   \n",
       "2017-08-17 06:00:00   92034.441294     182   259.28668   78525.948613       0   \n",
       "2017-08-17 07:00:00  229725.136967     198   592.43176  180297.966961       0   \n",
       "2017-08-17 08:00:00   46559.462371     182   140.68470   43451.495398       0   \n",
       "2017-08-17 09:00:00  145510.063225     198   438.71878  136034.157708       0   \n",
       "\n",
       "                     actual_returns  \n",
       "timestamp                            \n",
       "2017-08-17 05:00:00        0.004940  \n",
       "2017-08-17 06:00:00       -0.001386  \n",
       "2017-08-17 07:00:00        0.017444  \n",
       "2017-08-17 08:00:00        0.002143  \n",
       "2017-08-17 09:00:00        0.004472  "
      ]
     },
     "metadata": {},
     "output_type": "display_data"
    },
    {
     "data": {
      "text/html": [
       "<div>\n",
       "<style scoped>\n",
       "    .dataframe tbody tr th:only-of-type {\n",
       "        vertical-align: middle;\n",
       "    }\n",
       "\n",
       "    .dataframe tbody tr th {\n",
       "        vertical-align: top;\n",
       "    }\n",
       "\n",
       "    .dataframe thead th {\n",
       "        text-align: right;\n",
       "    }\n",
       "</style>\n",
       "<table border=\"1\" class=\"dataframe\">\n",
       "  <thead>\n",
       "    <tr style=\"text-align: right;\">\n",
       "      <th></th>\n",
       "      <th>open</th>\n",
       "      <th>high</th>\n",
       "      <th>low</th>\n",
       "      <th>close</th>\n",
       "      <th>volume</th>\n",
       "      <th>close_time</th>\n",
       "      <th>quote_av</th>\n",
       "      <th>trades</th>\n",
       "      <th>tb_base_av</th>\n",
       "      <th>tb_quote_av</th>\n",
       "      <th>ignore</th>\n",
       "      <th>actual_returns</th>\n",
       "    </tr>\n",
       "    <tr>\n",
       "      <th>timestamp</th>\n",
       "      <th></th>\n",
       "      <th></th>\n",
       "      <th></th>\n",
       "      <th></th>\n",
       "      <th></th>\n",
       "      <th></th>\n",
       "      <th></th>\n",
       "      <th></th>\n",
       "      <th></th>\n",
       "      <th></th>\n",
       "      <th></th>\n",
       "      <th></th>\n",
       "    </tr>\n",
       "  </thead>\n",
       "  <tbody>\n",
       "    <tr>\n",
       "      <th>2023-01-23 18:00:00</th>\n",
       "      <td>1629.03</td>\n",
       "      <td>1640.49</td>\n",
       "      <td>1626.06</td>\n",
       "      <td>1628.85</td>\n",
       "      <td>26815.5440</td>\n",
       "      <td>1674500399999</td>\n",
       "      <td>4.378866e+07</td>\n",
       "      <td>34634</td>\n",
       "      <td>13907.3933</td>\n",
       "      <td>2.270701e+07</td>\n",
       "      <td>0</td>\n",
       "      <td>-0.000104</td>\n",
       "    </tr>\n",
       "    <tr>\n",
       "      <th>2023-01-23 19:00:00</th>\n",
       "      <td>1628.85</td>\n",
       "      <td>1630.57</td>\n",
       "      <td>1610.04</td>\n",
       "      <td>1619.88</td>\n",
       "      <td>27357.8436</td>\n",
       "      <td>1674503999999</td>\n",
       "      <td>4.432545e+07</td>\n",
       "      <td>35086</td>\n",
       "      <td>12780.9097</td>\n",
       "      <td>2.070848e+07</td>\n",
       "      <td>0</td>\n",
       "      <td>-0.005507</td>\n",
       "    </tr>\n",
       "    <tr>\n",
       "      <th>2023-01-23 20:00:00</th>\n",
       "      <td>1619.89</td>\n",
       "      <td>1635.26</td>\n",
       "      <td>1618.65</td>\n",
       "      <td>1634.80</td>\n",
       "      <td>13128.4739</td>\n",
       "      <td>1674507599999</td>\n",
       "      <td>2.133510e+07</td>\n",
       "      <td>21144</td>\n",
       "      <td>6794.6870</td>\n",
       "      <td>1.104395e+07</td>\n",
       "      <td>0</td>\n",
       "      <td>0.009211</td>\n",
       "    </tr>\n",
       "    <tr>\n",
       "      <th>2023-01-23 21:00:00</th>\n",
       "      <td>1634.80</td>\n",
       "      <td>1635.50</td>\n",
       "      <td>1629.53</td>\n",
       "      <td>1631.84</td>\n",
       "      <td>9298.6748</td>\n",
       "      <td>1674511199999</td>\n",
       "      <td>1.518002e+07</td>\n",
       "      <td>15686</td>\n",
       "      <td>4916.0862</td>\n",
       "      <td>8.025556e+06</td>\n",
       "      <td>0</td>\n",
       "      <td>-0.001811</td>\n",
       "    </tr>\n",
       "    <tr>\n",
       "      <th>2023-01-23 22:00:00</th>\n",
       "      <td>1631.84</td>\n",
       "      <td>1635.75</td>\n",
       "      <td>1630.90</td>\n",
       "      <td>1632.64</td>\n",
       "      <td>5790.1341</td>\n",
       "      <td>1674514799999</td>\n",
       "      <td>9.458013e+06</td>\n",
       "      <td>7167</td>\n",
       "      <td>3912.6361</td>\n",
       "      <td>6.391575e+06</td>\n",
       "      <td>0</td>\n",
       "      <td>0.000490</td>\n",
       "    </tr>\n",
       "  </tbody>\n",
       "</table>\n",
       "</div>"
      ],
      "text/plain": [
       "                        open     high      low    close      volume  \\\n",
       "timestamp                                                             \n",
       "2023-01-23 18:00:00  1629.03  1640.49  1626.06  1628.85  26815.5440   \n",
       "2023-01-23 19:00:00  1628.85  1630.57  1610.04  1619.88  27357.8436   \n",
       "2023-01-23 20:00:00  1619.89  1635.26  1618.65  1634.80  13128.4739   \n",
       "2023-01-23 21:00:00  1634.80  1635.50  1629.53  1631.84   9298.6748   \n",
       "2023-01-23 22:00:00  1631.84  1635.75  1630.90  1632.64   5790.1341   \n",
       "\n",
       "                        close_time      quote_av  trades  tb_base_av  \\\n",
       "timestamp                                                              \n",
       "2023-01-23 18:00:00  1674500399999  4.378866e+07   34634  13907.3933   \n",
       "2023-01-23 19:00:00  1674503999999  4.432545e+07   35086  12780.9097   \n",
       "2023-01-23 20:00:00  1674507599999  2.133510e+07   21144   6794.6870   \n",
       "2023-01-23 21:00:00  1674511199999  1.518002e+07   15686   4916.0862   \n",
       "2023-01-23 22:00:00  1674514799999  9.458013e+06    7167   3912.6361   \n",
       "\n",
       "                      tb_quote_av  ignore  actual_returns  \n",
       "timestamp                                                  \n",
       "2023-01-23 18:00:00  2.270701e+07       0       -0.000104  \n",
       "2023-01-23 19:00:00  2.070848e+07       0       -0.005507  \n",
       "2023-01-23 20:00:00  1.104395e+07       0        0.009211  \n",
       "2023-01-23 21:00:00  8.025556e+06       0       -0.001811  \n",
       "2023-01-23 22:00:00  6.391575e+06       0        0.000490  "
      ]
     },
     "metadata": {},
     "output_type": "display_data"
    }
   ],
   "source": [
    "# Calculate the daily returns using the closing prices and the pct_change function\n",
    "trading_df[\"actual_returns\"] = trading_df[\"close\"].pct_change()\n",
    "\n",
    "# Drop all NaN values from the DataFrame\n",
    "trading_df = trading_df.dropna()\n",
    "\n",
    "# Review the DataFrame\n",
    "display(trading_df.head())\n",
    "display(trading_df.tail())"
   ]
  },
  {
   "cell_type": "markdown",
   "metadata": {},
   "source": [
    "---\n",
    "\n",
    "### Generating the Features and Target Sets"
   ]
  },
  {
   "cell_type": "code",
   "execution_count": 4,
   "metadata": {
    "tags": []
   },
   "outputs": [],
   "source": [
    "# Define a window size of 4\n",
    "short_window = 4\n",
    "\n",
    "# Create a simple moving average (SMA) using the short_window and assign this to a new columns called sma_fast\n",
    "trading_df[\"sma_fast\"] = trading_df[\"close\"].rolling(window=short_window).mean()"
   ]
  },
  {
   "cell_type": "code",
   "execution_count": 5,
   "metadata": {
    "tags": []
   },
   "outputs": [],
   "source": [
    "# Define a window size of 100\n",
    "long_window = 100\n",
    "\n",
    "# Create a simple moving average (SMA) using the long_window and assign this to a new columns called sma_slow\n",
    "trading_df[\"sma_slow\"] = trading_df[\"close\"].rolling(window=long_window).mean()"
   ]
  },
  {
   "cell_type": "code",
   "execution_count": 6,
   "metadata": {
    "tags": []
   },
   "outputs": [],
   "source": [
    "# Drop the NaNs using dropna()\n",
    "trading_df = trading_df.dropna()"
   ]
  },
  {
   "cell_type": "markdown",
   "metadata": {},
   "source": [
    "#### Create the features set"
   ]
  },
  {
   "cell_type": "code",
   "execution_count": 7,
   "metadata": {
    "tags": []
   },
   "outputs": [
    {
     "data": {
      "text/html": [
       "<div>\n",
       "<style scoped>\n",
       "    .dataframe tbody tr th:only-of-type {\n",
       "        vertical-align: middle;\n",
       "    }\n",
       "\n",
       "    .dataframe tbody tr th {\n",
       "        vertical-align: top;\n",
       "    }\n",
       "\n",
       "    .dataframe thead th {\n",
       "        text-align: right;\n",
       "    }\n",
       "</style>\n",
       "<table border=\"1\" class=\"dataframe\">\n",
       "  <thead>\n",
       "    <tr style=\"text-align: right;\">\n",
       "      <th></th>\n",
       "      <th>sma_fast</th>\n",
       "      <th>sma_slow</th>\n",
       "    </tr>\n",
       "    <tr>\n",
       "      <th>timestamp</th>\n",
       "      <th></th>\n",
       "      <th></th>\n",
       "    </tr>\n",
       "  </thead>\n",
       "  <tbody>\n",
       "    <tr>\n",
       "      <th>2017-08-21 08:00:00</th>\n",
       "      <td>318.2650</td>\n",
       "      <td>298.5687</td>\n",
       "    </tr>\n",
       "    <tr>\n",
       "      <th>2017-08-21 09:00:00</th>\n",
       "      <td>319.0750</td>\n",
       "      <td>298.7106</td>\n",
       "    </tr>\n",
       "    <tr>\n",
       "      <th>2017-08-21 10:00:00</th>\n",
       "      <td>318.9300</td>\n",
       "      <td>298.8959</td>\n",
       "    </tr>\n",
       "    <tr>\n",
       "      <th>2017-08-21 11:00:00</th>\n",
       "      <td>322.1875</td>\n",
       "      <td>299.1316</td>\n",
       "    </tr>\n",
       "    <tr>\n",
       "      <th>2017-08-21 12:00:00</th>\n",
       "      <td>325.3325</td>\n",
       "      <td>299.3584</td>\n",
       "    </tr>\n",
       "  </tbody>\n",
       "</table>\n",
       "</div>"
      ],
      "text/plain": [
       "                     sma_fast  sma_slow\n",
       "timestamp                              \n",
       "2017-08-21 08:00:00  318.2650  298.5687\n",
       "2017-08-21 09:00:00  319.0750  298.7106\n",
       "2017-08-21 10:00:00  318.9300  298.8959\n",
       "2017-08-21 11:00:00  322.1875  299.1316\n",
       "2017-08-21 12:00:00  325.3325  299.3584"
      ]
     },
     "metadata": {},
     "output_type": "display_data"
    },
    {
     "data": {
      "text/html": [
       "<div>\n",
       "<style scoped>\n",
       "    .dataframe tbody tr th:only-of-type {\n",
       "        vertical-align: middle;\n",
       "    }\n",
       "\n",
       "    .dataframe tbody tr th {\n",
       "        vertical-align: top;\n",
       "    }\n",
       "\n",
       "    .dataframe thead th {\n",
       "        text-align: right;\n",
       "    }\n",
       "</style>\n",
       "<table border=\"1\" class=\"dataframe\">\n",
       "  <thead>\n",
       "    <tr style=\"text-align: right;\">\n",
       "      <th></th>\n",
       "      <th>sma_fast</th>\n",
       "      <th>sma_slow</th>\n",
       "    </tr>\n",
       "    <tr>\n",
       "      <th>timestamp</th>\n",
       "      <th></th>\n",
       "      <th></th>\n",
       "    </tr>\n",
       "  </thead>\n",
       "  <tbody>\n",
       "    <tr>\n",
       "      <th>2023-01-23 18:00:00</th>\n",
       "      <td>1624.6350</td>\n",
       "      <td>1614.2020</td>\n",
       "    </tr>\n",
       "    <tr>\n",
       "      <th>2023-01-23 19:00:00</th>\n",
       "      <td>1624.3925</td>\n",
       "      <td>1615.0699</td>\n",
       "    </tr>\n",
       "    <tr>\n",
       "      <th>2023-01-23 20:00:00</th>\n",
       "      <td>1628.1375</td>\n",
       "      <td>1616.0668</td>\n",
       "    </tr>\n",
       "    <tr>\n",
       "      <th>2023-01-23 21:00:00</th>\n",
       "      <td>1628.8425</td>\n",
       "      <td>1617.0915</td>\n",
       "    </tr>\n",
       "    <tr>\n",
       "      <th>2023-01-23 22:00:00</th>\n",
       "      <td>1629.7900</td>\n",
       "      <td>1618.0271</td>\n",
       "    </tr>\n",
       "  </tbody>\n",
       "</table>\n",
       "</div>"
      ],
      "text/plain": [
       "                      sma_fast   sma_slow\n",
       "timestamp                                \n",
       "2023-01-23 18:00:00  1624.6350  1614.2020\n",
       "2023-01-23 19:00:00  1624.3925  1615.0699\n",
       "2023-01-23 20:00:00  1628.1375  1616.0668\n",
       "2023-01-23 21:00:00  1628.8425  1617.0915\n",
       "2023-01-23 22:00:00  1629.7900  1618.0271"
      ]
     },
     "metadata": {},
     "output_type": "display_data"
    }
   ],
   "source": [
    "# Assign a copy of the sma_fast and sma_slow columns to a new DataFrame called X\n",
    "X = trading_df[[\"sma_fast\", \"sma_slow\"]].copy()\n",
    "\n",
    "# Display sample data\n",
    "display(X.head())\n",
    "display(X.tail())"
   ]
  },
  {
   "cell_type": "markdown",
   "metadata": {},
   "source": [
    "#### Create the target set"
   ]
  },
  {
   "cell_type": "code",
   "execution_count": 8,
   "metadata": {
    "tags": []
   },
   "outputs": [],
   "source": [
    "# Create a new column in the trading_df called signal setting its value to zero.\n",
    "trading_df[\"signal\"] = 0.0"
   ]
  },
  {
   "cell_type": "code",
   "execution_count": 9,
   "metadata": {
    "tags": []
   },
   "outputs": [],
   "source": [
    "# Create the signal to buy\n",
    "trading_df.loc[(trading_df[\"actual_returns\"] >= 0), \"signal\"] = 1"
   ]
  },
  {
   "cell_type": "code",
   "execution_count": 10,
   "metadata": {
    "tags": []
   },
   "outputs": [],
   "source": [
    "# Create the signal to sell\n",
    "trading_df.loc[(trading_df[\"actual_returns\"] < 0), \"signal\"] = -1"
   ]
  },
  {
   "cell_type": "code",
   "execution_count": 11,
   "metadata": {
    "tags": []
   },
   "outputs": [],
   "source": [
    "# Copy the new signal column to a new Series called y.\n",
    "y = trading_df[\"signal\"].copy()"
   ]
  },
  {
   "cell_type": "markdown",
   "metadata": {},
   "source": [
    "---\n",
    "\n",
    "### Split the Data Into Training and Testing Datasets"
   ]
  },
  {
   "cell_type": "markdown",
   "metadata": {},
   "source": [
    "#### Creating the Training Datasets"
   ]
  },
  {
   "cell_type": "code",
   "execution_count": 12,
   "metadata": {
    "tags": []
   },
   "outputs": [],
   "source": [
    "# Imports \n",
    "from pandas.tseries.offsets import DateOffset"
   ]
  },
  {
   "cell_type": "code",
   "execution_count": 13,
   "metadata": {
    "tags": []
   },
   "outputs": [
    {
     "name": "stdout",
     "output_type": "stream",
     "text": [
      "2017-08-21 08:00:00\n"
     ]
    }
   ],
   "source": [
    "# Select the start of the training period\n",
    "training_begin = X.index.min()\n",
    "\n",
    "# Display the training begin date\n",
    "print(training_begin)"
   ]
  },
  {
   "cell_type": "code",
   "execution_count": 14,
   "metadata": {
    "tags": []
   },
   "outputs": [
    {
     "name": "stdout",
     "output_type": "stream",
     "text": [
      "2017-11-21 08:00:00\n"
     ]
    }
   ],
   "source": [
    "# Select the ending period for the training data with an offset of 3 months\n",
    "training_end = X.index.min() + DateOffset(months=3)\n",
    "\n",
    "# Display the training end date\n",
    "print(training_end)"
   ]
  },
  {
   "cell_type": "code",
   "execution_count": 15,
   "metadata": {
    "tags": []
   },
   "outputs": [
    {
     "data": {
      "text/html": [
       "<div>\n",
       "<style scoped>\n",
       "    .dataframe tbody tr th:only-of-type {\n",
       "        vertical-align: middle;\n",
       "    }\n",
       "\n",
       "    .dataframe tbody tr th {\n",
       "        vertical-align: top;\n",
       "    }\n",
       "\n",
       "    .dataframe thead th {\n",
       "        text-align: right;\n",
       "    }\n",
       "</style>\n",
       "<table border=\"1\" class=\"dataframe\">\n",
       "  <thead>\n",
       "    <tr style=\"text-align: right;\">\n",
       "      <th></th>\n",
       "      <th>sma_fast</th>\n",
       "      <th>sma_slow</th>\n",
       "    </tr>\n",
       "    <tr>\n",
       "      <th>timestamp</th>\n",
       "      <th></th>\n",
       "      <th></th>\n",
       "    </tr>\n",
       "  </thead>\n",
       "  <tbody>\n",
       "    <tr>\n",
       "      <th>2017-08-21 08:00:00</th>\n",
       "      <td>318.2650</td>\n",
       "      <td>298.5687</td>\n",
       "    </tr>\n",
       "    <tr>\n",
       "      <th>2017-08-21 09:00:00</th>\n",
       "      <td>319.0750</td>\n",
       "      <td>298.7106</td>\n",
       "    </tr>\n",
       "    <tr>\n",
       "      <th>2017-08-21 10:00:00</th>\n",
       "      <td>318.9300</td>\n",
       "      <td>298.8959</td>\n",
       "    </tr>\n",
       "    <tr>\n",
       "      <th>2017-08-21 11:00:00</th>\n",
       "      <td>322.1875</td>\n",
       "      <td>299.1316</td>\n",
       "    </tr>\n",
       "    <tr>\n",
       "      <th>2017-08-21 12:00:00</th>\n",
       "      <td>325.3325</td>\n",
       "      <td>299.3584</td>\n",
       "    </tr>\n",
       "  </tbody>\n",
       "</table>\n",
       "</div>"
      ],
      "text/plain": [
       "                     sma_fast  sma_slow\n",
       "timestamp                              \n",
       "2017-08-21 08:00:00  318.2650  298.5687\n",
       "2017-08-21 09:00:00  319.0750  298.7106\n",
       "2017-08-21 10:00:00  318.9300  298.8959\n",
       "2017-08-21 11:00:00  322.1875  299.1316\n",
       "2017-08-21 12:00:00  325.3325  299.3584"
      ]
     },
     "execution_count": 15,
     "metadata": {},
     "output_type": "execute_result"
    }
   ],
   "source": [
    "# Generate the X_train and y_train DataFrames\n",
    "X_train = X.loc[training_begin:training_end]\n",
    "y_train = y.loc[training_begin:training_end]\n",
    "\n",
    "# Display sample data\n",
    "X_train.head()"
   ]
  },
  {
   "cell_type": "markdown",
   "metadata": {},
   "source": [
    "#### Creating the Testing Datasets"
   ]
  },
  {
   "cell_type": "code",
   "execution_count": 16,
   "metadata": {
    "tags": []
   },
   "outputs": [
    {
     "data": {
      "text/html": [
       "<div>\n",
       "<style scoped>\n",
       "    .dataframe tbody tr th:only-of-type {\n",
       "        vertical-align: middle;\n",
       "    }\n",
       "\n",
       "    .dataframe tbody tr th {\n",
       "        vertical-align: top;\n",
       "    }\n",
       "\n",
       "    .dataframe thead th {\n",
       "        text-align: right;\n",
       "    }\n",
       "</style>\n",
       "<table border=\"1\" class=\"dataframe\">\n",
       "  <thead>\n",
       "    <tr style=\"text-align: right;\">\n",
       "      <th></th>\n",
       "      <th>sma_fast</th>\n",
       "      <th>sma_slow</th>\n",
       "    </tr>\n",
       "    <tr>\n",
       "      <th>timestamp</th>\n",
       "      <th></th>\n",
       "      <th></th>\n",
       "    </tr>\n",
       "  </thead>\n",
       "  <tbody>\n",
       "    <tr>\n",
       "      <th>2017-11-21 08:00:00</th>\n",
       "      <td>362.4675</td>\n",
       "      <td>347.2649</td>\n",
       "    </tr>\n",
       "    <tr>\n",
       "      <th>2017-11-21 09:00:00</th>\n",
       "      <td>363.3325</td>\n",
       "      <td>347.6091</td>\n",
       "    </tr>\n",
       "    <tr>\n",
       "      <th>2017-11-21 10:00:00</th>\n",
       "      <td>365.2525</td>\n",
       "      <td>347.9616</td>\n",
       "    </tr>\n",
       "    <tr>\n",
       "      <th>2017-11-21 11:00:00</th>\n",
       "      <td>366.8700</td>\n",
       "      <td>348.4051</td>\n",
       "    </tr>\n",
       "    <tr>\n",
       "      <th>2017-11-21 12:00:00</th>\n",
       "      <td>367.3550</td>\n",
       "      <td>348.8238</td>\n",
       "    </tr>\n",
       "  </tbody>\n",
       "</table>\n",
       "</div>"
      ],
      "text/plain": [
       "                     sma_fast  sma_slow\n",
       "timestamp                              \n",
       "2017-11-21 08:00:00  362.4675  347.2649\n",
       "2017-11-21 09:00:00  363.3325  347.6091\n",
       "2017-11-21 10:00:00  365.2525  347.9616\n",
       "2017-11-21 11:00:00  366.8700  348.4051\n",
       "2017-11-21 12:00:00  367.3550  348.8238"
      ]
     },
     "execution_count": 16,
     "metadata": {},
     "output_type": "execute_result"
    }
   ],
   "source": [
    "# Generate the X_test and y_test DataFrames\n",
    "X_test = X.loc[training_end:]\n",
    "y_test = y.loc[training_end:]\n",
    "\n",
    "# Display sample data\n",
    "X_test.head()"
   ]
  },
  {
   "cell_type": "markdown",
   "metadata": {},
   "source": [
    "#### Standardizing the Data"
   ]
  },
  {
   "cell_type": "code",
   "execution_count": 17,
   "metadata": {
    "tags": []
   },
   "outputs": [],
   "source": [
    "# Imports\n",
    "from sklearn.preprocessing import StandardScaler"
   ]
  },
  {
   "cell_type": "code",
   "execution_count": 18,
   "metadata": {
    "tags": []
   },
   "outputs": [],
   "source": [
    "# Create a StandardScaler instance\n",
    "scaler = StandardScaler()\n",
    " \n",
    "# Apply the scaler model to fit the X-train data\n",
    "X_scaler = scaler.fit(X_train)\n",
    " \n",
    "# Transform the X_train and X_test DataFrames using the X_scaler\n",
    "X_train_scaled = X_scaler.transform(X_train)\n",
    "X_test_scaled = X_scaler.transform(X_test)"
   ]
  },
  {
   "cell_type": "markdown",
   "metadata": {},
   "source": [
    "---\n",
    "\n",
    "### Incorporate the SVM Machine Learning Into the Trading Strategy"
   ]
  },
  {
   "cell_type": "code",
   "execution_count": 19,
   "metadata": {
    "tags": []
   },
   "outputs": [],
   "source": [
    "# Imports\n",
    "from sklearn import svm\n",
    "from sklearn.metrics import classification_report"
   ]
  },
  {
   "cell_type": "code",
   "execution_count": 20,
   "metadata": {
    "tags": []
   },
   "outputs": [
    {
     "data": {
      "text/plain": [
       "array([-1., -1., -1., -1., -1., -1., -1., -1., -1., -1.])"
      ]
     },
     "execution_count": 20,
     "metadata": {},
     "output_type": "execute_result"
    }
   ],
   "source": [
    "# Create the classifier model\n",
    "svm_model = svm.SVC()\n",
    " \n",
    "# Fit the model to the data using X_train_scaled and y_train\n",
    "svm_model = svm_model.fit(X_train_scaled, y_train)\n",
    "\n",
    "# Use the trained model to predict the trading signals for the training data\n",
    "training_signal_predictions = svm_model.predict(X_train_scaled)\n",
    "\n",
    "# Display the sample predictions\n",
    "training_signal_predictions[:10]"
   ]
  },
  {
   "cell_type": "code",
   "execution_count": 21,
   "metadata": {
    "tags": []
   },
   "outputs": [
    {
     "name": "stdout",
     "output_type": "stream",
     "text": [
      "              precision    recall  f1-score   support\n",
      "\n",
      "        -1.0       0.55      0.11      0.18      1081\n",
      "         1.0       0.52      0.92      0.66      1122\n",
      "\n",
      "    accuracy                           0.52      2203\n",
      "   macro avg       0.53      0.51      0.42      2203\n",
      "weighted avg       0.53      0.52      0.42      2203\n",
      "\n"
     ]
    }
   ],
   "source": [
    "# Evaluate the model using a classification report\n",
    "training_report = classification_report(y_train, training_signal_predictions)\n",
    "print(training_report)"
   ]
  },
  {
   "cell_type": "markdown",
   "metadata": {},
   "source": [
    "---\n",
    "\n",
    "### Backtesting a Machine Learning Trading Algorithm"
   ]
  },
  {
   "cell_type": "code",
   "execution_count": 22,
   "metadata": {
    "tags": []
   },
   "outputs": [],
   "source": [
    "# Use the trained model to predict the trading signals for the testing data.\n",
    "testing_signal_predictions = svm_model.predict(X_test_scaled)"
   ]
  },
  {
   "cell_type": "code",
   "execution_count": 23,
   "metadata": {
    "tags": []
   },
   "outputs": [
    {
     "name": "stdout",
     "output_type": "stream",
     "text": [
      "              precision    recall  f1-score   support\n",
      "\n",
      "        -1.0       0.49      0.86      0.63     22281\n",
      "         1.0       0.51      0.14      0.22     22949\n",
      "\n",
      "    accuracy                           0.49     45230\n",
      "   macro avg       0.50      0.50      0.42     45230\n",
      "weighted avg       0.50      0.49      0.42     45230\n",
      "\n"
     ]
    }
   ],
   "source": [
    "# Evaluate the model's ability to predict the trading signal for the testing data\n",
    "svm_testing_report = classification_report(y_test, testing_signal_predictions)\n",
    "print(svm_testing_report)"
   ]
  },
  {
   "cell_type": "code",
   "execution_count": 24,
   "metadata": {
    "tags": []
   },
   "outputs": [
    {
     "data": {
      "text/html": [
       "<div>\n",
       "<style scoped>\n",
       "    .dataframe tbody tr th:only-of-type {\n",
       "        vertical-align: middle;\n",
       "    }\n",
       "\n",
       "    .dataframe tbody tr th {\n",
       "        vertical-align: top;\n",
       "    }\n",
       "\n",
       "    .dataframe thead th {\n",
       "        text-align: right;\n",
       "    }\n",
       "</style>\n",
       "<table border=\"1\" class=\"dataframe\">\n",
       "  <thead>\n",
       "    <tr style=\"text-align: right;\">\n",
       "      <th></th>\n",
       "      <th>predicted_signal</th>\n",
       "      <th>actual_returns</th>\n",
       "      <th>trading_algorithm_returns</th>\n",
       "    </tr>\n",
       "    <tr>\n",
       "      <th>timestamp</th>\n",
       "      <th></th>\n",
       "      <th></th>\n",
       "      <th></th>\n",
       "    </tr>\n",
       "  </thead>\n",
       "  <tbody>\n",
       "    <tr>\n",
       "      <th>2017-11-21 08:00:00</th>\n",
       "      <td>1.0</td>\n",
       "      <td>0.007377</td>\n",
       "      <td>0.007377</td>\n",
       "    </tr>\n",
       "    <tr>\n",
       "      <th>2017-11-21 09:00:00</th>\n",
       "      <td>1.0</td>\n",
       "      <td>-0.001503</td>\n",
       "      <td>-0.001503</td>\n",
       "    </tr>\n",
       "    <tr>\n",
       "      <th>2017-11-21 10:00:00</th>\n",
       "      <td>1.0</td>\n",
       "      <td>0.002600</td>\n",
       "      <td>0.002600</td>\n",
       "    </tr>\n",
       "    <tr>\n",
       "      <th>2017-11-21 11:00:00</th>\n",
       "      <td>1.0</td>\n",
       "      <td>0.009253</td>\n",
       "      <td>0.009253</td>\n",
       "    </tr>\n",
       "    <tr>\n",
       "      <th>2017-11-21 12:00:00</th>\n",
       "      <td>1.0</td>\n",
       "      <td>-0.005003</td>\n",
       "      <td>-0.005003</td>\n",
       "    </tr>\n",
       "  </tbody>\n",
       "</table>\n",
       "</div>"
      ],
      "text/plain": [
       "                     predicted_signal  actual_returns  \\\n",
       "timestamp                                               \n",
       "2017-11-21 08:00:00               1.0        0.007377   \n",
       "2017-11-21 09:00:00               1.0       -0.001503   \n",
       "2017-11-21 10:00:00               1.0        0.002600   \n",
       "2017-11-21 11:00:00               1.0        0.009253   \n",
       "2017-11-21 12:00:00               1.0       -0.005003   \n",
       "\n",
       "                     trading_algorithm_returns  \n",
       "timestamp                                       \n",
       "2017-11-21 08:00:00                   0.007377  \n",
       "2017-11-21 09:00:00                  -0.001503  \n",
       "2017-11-21 10:00:00                   0.002600  \n",
       "2017-11-21 11:00:00                   0.009253  \n",
       "2017-11-21 12:00:00                  -0.005003  "
      ]
     },
     "execution_count": 24,
     "metadata": {},
     "output_type": "execute_result"
    }
   ],
   "source": [
    "# Create a new empty predictions DataFrame using code provided below.\n",
    "predictions_df = pd.DataFrame(index=X_test.index)\n",
    "predictions_df[\"predicted_signal\"] = testing_signal_predictions\n",
    "predictions_df[\"actual_returns\"] = trading_df[\"actual_returns\"]\n",
    "predictions_df[\"trading_algorithm_returns\"] = predictions_df[\"actual_returns\"] * predictions_df[\"predicted_signal\"]\n",
    "predictions_df.head()"
   ]
  },
  {
   "cell_type": "code",
   "execution_count": 25,
   "metadata": {
    "tags": []
   },
   "outputs": [
    {
     "data": {
      "text/plain": [
       "<Axes: xlabel='timestamp'>"
      ]
     },
     "execution_count": 25,
     "metadata": {},
     "output_type": "execute_result"
    },
    {
     "data": {
      "image/png": "[encoded data removed]",
      "text/plain": [
       "<Figure size 640x480 with 1 Axes>"
      ]
     },
     "metadata": {},
     "output_type": "display_data"
    }
   ],
   "source": [
    "# Calculate and plot the cumulative returns for the `actual_returns` and the `trading_algorithm_returns`\n",
    "(1 + predictions_df[[\"actual_returns\", \"trading_algorithm_returns\"]]).cumprod().plot()"
   ]
  },
  {
   "cell_type": "markdown",
   "metadata": {},
   "source": [
    "---\n",
    "\n",
    "# Add a New Machine Learning Model"
   ]
  },
  {
   "cell_type": "markdown",
   "metadata": {},
   "source": [
    "## Import the `LogisticRegression` model from scikit-learn.\n"
   ]
  },
  {
   "cell_type": "code",
   "execution_count": null,
   "metadata": {},
   "outputs": [],
   "source": []
  },
  {
   "cell_type": "code",
   "execution_count": 26,
   "metadata": {
    "tags": []
   },
   "outputs": [],
   "source": [
    "# Import LogisticRegression from sklearn\n",
    "from sklearn.linear_model import LogisticRegression"
   ]
  },
  {
   "cell_type": "code",
   "execution_count": 27,
   "metadata": {
    "tags": []
   },
   "outputs": [],
   "source": [
    "# Create an instance of the LogisticRegression model\n",
    "logistic_regression_model = LogisticRegression()"
   ]
  },
  {
   "cell_type": "markdown",
   "metadata": {},
   "source": [
    "## Using the same training data that the SVM model used (`X_train_scaled` and `y_train`), fit the `LogisticRegression` model."
   ]
  },
  {
   "cell_type": "code",
   "execution_count": 28,
   "metadata": {
    "tags": []
   },
   "outputs": [
    {
     "data": {
      "text/html": [
       "<style>#sk-container-id-1 {color: black;background-color: white;}#sk-container-id-1 pre{padding: 0;}#sk-container-id-1 div.sk-toggleable {background-color: white;}#sk-container-id-1 label.sk-toggleable__label {cursor: pointer;display: block;width: 100%;margin-bottom: 0;padding: 0.3em;box-sizing: border-box;text-align: center;}#sk-container-id-1 label.sk-toggleable__label-arrow:before {content: \"▸\";float: left;margin-right: 0.25em;color: #696969;}#sk-container-id-1 label.sk-toggleable__label-arrow:hover:before {color: black;}#sk-container-id-1 div.sk-estimator:hover label.sk-toggleable__label-arrow:before {color: black;}#sk-container-id-1 div.sk-toggleable__content {max-height: 0;max-width: 0;overflow: hidden;text-align: left;background-color: #f0f8ff;}#sk-container-id-1 div.sk-toggleable__content pre {margin: 0.2em;color: black;border-radius: 0.25em;background-color: #f0f8ff;}#sk-container-id-1 input.sk-toggleable__control:checked~div.sk-toggleable__content {max-height: 200px;max-width: 100%;overflow: auto;}#sk-container-id-1 input.sk-toggleable__control:checked~label.sk-toggleable__label-arrow:before {content: \"▾\";}#sk-container-id-1 div.sk-estimator input.sk-toggleable__control:checked~label.sk-toggleable__label {background-color: #d4ebff;}#sk-container-id-1 div.sk-label input.sk-toggleable__control:checked~label.sk-toggleable__label {background-color: #d4ebff;}#sk-container-id-1 input.sk-hidden--visually {border: 0;clip: rect(1px 1px 1px 1px);clip: rect(1px, 1px, 1px, 1px);height: 1px;margin: -1px;overflow: hidden;padding: 0;position: absolute;width: 1px;}#sk-container-id-1 div.sk-estimator {font-family: monospace;background-color: #f0f8ff;border: 1px dotted black;border-radius: 0.25em;box-sizing: border-box;margin-bottom: 0.5em;}#sk-container-id-1 div.sk-estimator:hover {background-color: #d4ebff;}#sk-container-id-1 div.sk-parallel-item::after {content: \"\";width: 100%;border-bottom: 1px solid gray;flex-grow: 1;}#sk-container-id-1 div.sk-label:hover label.sk-toggleable__label {background-color: #d4ebff;}#sk-container-id-1 div.sk-serial::before {content: \"\";position: absolute;border-left: 1px solid gray;box-sizing: border-box;top: 0;bottom: 0;left: 50%;z-index: 0;}#sk-container-id-1 div.sk-serial {display: flex;flex-direction: column;align-items: center;background-color: white;padding-right: 0.2em;padding-left: 0.2em;position: relative;}#sk-container-id-1 div.sk-item {position: relative;z-index: 1;}#sk-container-id-1 div.sk-parallel {display: flex;align-items: stretch;justify-content: center;background-color: white;position: relative;}#sk-container-id-1 div.sk-item::before, #sk-container-id-1 div.sk-parallel-item::before {content: \"\";position: absolute;border-left: 1px solid gray;box-sizing: border-box;top: 0;bottom: 0;left: 50%;z-index: -1;}#sk-container-id-1 div.sk-parallel-item {display: flex;flex-direction: column;z-index: 1;position: relative;background-color: white;}#sk-container-id-1 div.sk-parallel-item:first-child::after {align-self: flex-end;width: 50%;}#sk-container-id-1 div.sk-parallel-item:last-child::after {align-self: flex-start;width: 50%;}#sk-container-id-1 div.sk-parallel-item:only-child::after {width: 0;}#sk-container-id-1 div.sk-dashed-wrapped {border: 1px dashed gray;margin: 0 0.4em 0.5em 0.4em;box-sizing: border-box;padding-bottom: 0.4em;background-color: white;}#sk-container-id-1 div.sk-label label {font-family: monospace;font-weight: bold;display: inline-block;line-height: 1.2em;}#sk-container-id-1 div.sk-label-container {text-align: center;}#sk-container-id-1 div.sk-container {/* jupyter's `normalize.less` sets `[hidden] { display: none; }` but bootstrap.min.css set `[hidden] { display: none !important; }` so we also need the `!important` here to be able to override the default hidden behavior on the sphinx rendered scikit-learn.org. See: https://github.com/scikit-learn/scikit-learn/issues/21755 */display: inline-block !important;position: relative;}#sk-container-id-1 div.sk-text-repr-fallback {display: none;}</style><div id=\"sk-container-id-1\" class=\"sk-top-container\"><div class=\"sk-text-repr-fallback\"><pre>LogisticRegression()</pre><b>In a Jupyter environment, please rerun this cell to show the HTML representation or trust the notebook. <br />On GitHub, the HTML representation is unable to render, please try loading this page with nbviewer.org.</b></div><div class=\"sk-container\" hidden><div class=\"sk-item\"><div class=\"sk-estimator sk-toggleable\"><input class=\"sk-toggleable__control sk-hidden--visually\" id=\"sk-estimator-id-1\" type=\"checkbox\" checked><label for=\"sk-estimator-id-1\" class=\"sk-toggleable__label sk-toggleable__label-arrow\">LogisticRegression</label><div class=\"sk-toggleable__content\"><pre>LogisticRegression()</pre></div></div></div></div></div>"
      ],
      "text/plain": [
       "LogisticRegression()"
      ]
     },
     "execution_count": 28,
     "metadata": {},
     "output_type": "execute_result"
    }
   ],
   "source": [
    "# Fit the LogisticRegression model\n",
    "logistic_regression_model.fit(X_train_scaled, y_train)"
   ]
  },
  {
   "cell_type": "markdown",
   "metadata": {},
   "source": [
    "## Use the trained model to predict the trading signals for the training data. Use the `classification_report` module to evaluate the model."
   ]
  },
  {
   "cell_type": "code",
   "execution_count": 29,
   "metadata": {
    "tags": []
   },
   "outputs": [
    {
     "data": {
      "text/plain": [
       "array([1., 1., 1., ..., 1., 1., 1.])"
      ]
     },
     "execution_count": 29,
     "metadata": {},
     "output_type": "execute_result"
    }
   ],
   "source": [
    "# Use the trained LogisticRegression model to predict the trading signals for the training data\n",
    "lr_training_signal_predictions = logistic_regression_model.predict(X_train_scaled)\n",
    "\n",
    "# Display the predictions\n",
    "lr_training_signal_predictions"
   ]
  },
  {
   "cell_type": "code",
   "execution_count": 30,
   "metadata": {
    "tags": []
   },
   "outputs": [
    {
     "name": "stdout",
     "output_type": "stream",
     "text": [
      "              precision    recall  f1-score   support\n",
      "\n",
      "        -1.0       0.54      0.04      0.08      1081\n",
      "         1.0       0.51      0.97      0.67      1122\n",
      "\n",
      "    accuracy                           0.51      2203\n",
      "   macro avg       0.53      0.50      0.37      2203\n",
      "weighted avg       0.53      0.51      0.38      2203\n",
      "\n"
     ]
    }
   ],
   "source": [
    "# Generate a classification report using the training data and the logistic regression model's predications\n",
    "lr_training_report = classification_report(y_train, lr_training_signal_predictions)\n",
    "\n",
    "# Review the classification report\n",
    "print(lr_training_report)"
   ]
  },
  {
   "cell_type": "markdown",
   "metadata": {},
   "source": [
    "## Backtest the `LogisticRegression` model using the testing data to evaluate its performance."
   ]
  },
  {
   "cell_type": "code",
   "execution_count": 31,
   "metadata": {
    "tags": []
   },
   "outputs": [],
   "source": [
    "# Use the trained model to predict the trading signals for the testing data.\n",
    "lr_testing_signal_predictions = logistic_regression_model.predict(X_test_scaled)"
   ]
  },
  {
   "cell_type": "code",
   "execution_count": 32,
   "metadata": {
    "tags": []
   },
   "outputs": [
    {
     "name": "stdout",
     "output_type": "stream",
     "text": [
      "              precision    recall  f1-score   support\n",
      "\n",
      "        -1.0       0.49      0.60      0.54     22281\n",
      "         1.0       0.50      0.39      0.44     22949\n",
      "\n",
      "    accuracy                           0.50     45230\n",
      "   macro avg       0.50      0.50      0.49     45230\n",
      "weighted avg       0.50      0.50      0.49     45230\n",
      "\n"
     ]
    }
   ],
   "source": [
    "# Generate a classification report using the testing data and the logistic regression model's predictions\n",
    "lr_testing_report = classification_report(y_test, lr_testing_signal_predictions)\n",
    "\n",
    "# Review the testing classification report\n",
    "print(lr_testing_report)"
   ]
  },
  {
   "cell_type": "markdown",
   "metadata": {},
   "source": [
    "## Compare the performance of the logistic regression and SVM models using the classification reports generated with the testing data. "
   ]
  },
  {
   "cell_type": "code",
   "execution_count": 33,
   "metadata": {
    "tags": []
   },
   "outputs": [
    {
     "name": "stdout",
     "output_type": "stream",
     "text": [
      "Logistic Regression Classification Report\n",
      "              precision    recall  f1-score   support\n",
      "\n",
      "        -1.0       0.49      0.60      0.54     22281\n",
      "         1.0       0.50      0.39      0.44     22949\n",
      "\n",
      "    accuracy                           0.50     45230\n",
      "   macro avg       0.50      0.50      0.49     45230\n",
      "weighted avg       0.50      0.50      0.49     45230\n",
      "\n"
     ]
    }
   ],
   "source": [
    "# Print the classification report for the Logistic Regression model using the test data\n",
    "print(\"Logistic Regression Classification Report\")\n",
    "print(lr_testing_report)"
   ]
  },
  {
   "cell_type": "code",
   "execution_count": 34,
   "metadata": {
    "tags": []
   },
   "outputs": [
    {
     "name": "stdout",
     "output_type": "stream",
     "text": [
      "SVM Classification Report\n",
      "              precision    recall  f1-score   support\n",
      "\n",
      "        -1.0       0.49      0.86      0.63     22281\n",
      "         1.0       0.51      0.14      0.22     22949\n",
      "\n",
      "    accuracy                           0.49     45230\n",
      "   macro avg       0.50      0.50      0.42     45230\n",
      "weighted avg       0.50      0.49      0.42     45230\n",
      "\n"
     ]
    }
   ],
   "source": [
    "# Print the classification report for the SVM model using the test data\n",
    "print(\"SVM Classification Report\")\n",
    "print(svm_testing_report)"
   ]
  },
  {
   "cell_type": "code",
   "execution_count": 35,
   "metadata": {
    "tags": []
   },
   "outputs": [
    {
     "data": {
      "text/html": [
       "<div>\n",
       "<style scoped>\n",
       "    .dataframe tbody tr th:only-of-type {\n",
       "        vertical-align: middle;\n",
       "    }\n",
       "\n",
       "    .dataframe tbody tr th {\n",
       "        vertical-align: top;\n",
       "    }\n",
       "\n",
       "    .dataframe thead th {\n",
       "        text-align: right;\n",
       "    }\n",
       "</style>\n",
       "<table border=\"1\" class=\"dataframe\">\n",
       "  <thead>\n",
       "    <tr style=\"text-align: right;\">\n",
       "      <th></th>\n",
       "      <th>lr_predicted_signal</th>\n",
       "      <th>actual_returns</th>\n",
       "      <th>lr_trading_algorithm_returns</th>\n",
       "    </tr>\n",
       "    <tr>\n",
       "      <th>timestamp</th>\n",
       "      <th></th>\n",
       "      <th></th>\n",
       "      <th></th>\n",
       "    </tr>\n",
       "  </thead>\n",
       "  <tbody>\n",
       "    <tr>\n",
       "      <th>2017-11-21 08:00:00</th>\n",
       "      <td>1.0</td>\n",
       "      <td>0.007377</td>\n",
       "      <td>0.007377</td>\n",
       "    </tr>\n",
       "    <tr>\n",
       "      <th>2017-11-21 09:00:00</th>\n",
       "      <td>1.0</td>\n",
       "      <td>-0.001503</td>\n",
       "      <td>-0.001503</td>\n",
       "    </tr>\n",
       "    <tr>\n",
       "      <th>2017-11-21 10:00:00</th>\n",
       "      <td>1.0</td>\n",
       "      <td>0.002600</td>\n",
       "      <td>0.002600</td>\n",
       "    </tr>\n",
       "    <tr>\n",
       "      <th>2017-11-21 11:00:00</th>\n",
       "      <td>1.0</td>\n",
       "      <td>0.009253</td>\n",
       "      <td>0.009253</td>\n",
       "    </tr>\n",
       "    <tr>\n",
       "      <th>2017-11-21 12:00:00</th>\n",
       "      <td>1.0</td>\n",
       "      <td>-0.005003</td>\n",
       "      <td>-0.005003</td>\n",
       "    </tr>\n",
       "  </tbody>\n",
       "</table>\n",
       "</div>"
      ],
      "text/plain": [
       "                     lr_predicted_signal  actual_returns  \\\n",
       "timestamp                                                  \n",
       "2017-11-21 08:00:00                  1.0        0.007377   \n",
       "2017-11-21 09:00:00                  1.0       -0.001503   \n",
       "2017-11-21 10:00:00                  1.0        0.002600   \n",
       "2017-11-21 11:00:00                  1.0        0.009253   \n",
       "2017-11-21 12:00:00                  1.0       -0.005003   \n",
       "\n",
       "                     lr_trading_algorithm_returns  \n",
       "timestamp                                          \n",
       "2017-11-21 08:00:00                      0.007377  \n",
       "2017-11-21 09:00:00                     -0.001503  \n",
       "2017-11-21 10:00:00                      0.002600  \n",
       "2017-11-21 11:00:00                      0.009253  \n",
       "2017-11-21 12:00:00                     -0.005003  "
      ]
     },
     "execution_count": 35,
     "metadata": {},
     "output_type": "execute_result"
    }
   ],
   "source": [
    "# Create a new empty predictions DataFrame using code provided below.\n",
    "predictions_df = pd.DataFrame(index=X_test.index)\n",
    "predictions_df[\"lr_predicted_signal\"] = lr_testing_signal_predictions\n",
    "predictions_df[\"actual_returns\"] = trading_df[\"actual_returns\"]\n",
    "predictions_df[\"lr_trading_algorithm_returns\"] = predictions_df[\"actual_returns\"] * predictions_df[\"lr_predicted_signal\"]\n",
    "predictions_df.head()"
   ]
  },
  {
   "cell_type": "code",
   "execution_count": 36,
   "metadata": {
    "tags": []
   },
   "outputs": [
    {
     "data": {
      "text/plain": [
       "<Axes: xlabel='timestamp'>"
      ]
     },
     "execution_count": 36,
     "metadata": {},
     "output_type": "execute_result"
    },
    {
     "data": {
      "image/png": "[encoded data removed]",
      "text/plain": [
       "<Figure size 640x480 with 1 Axes>"
      ]
     },
     "metadata": {},
     "output_type": "display_data"
    }
   ],
   "source": [
    "# Calculate and plot the cumulative returns for the `actual_returns` and the `trading_algorithm_returns`\n",
    "(1 + predictions_df[[\"actual_returns\", \"lr_trading_algorithm_returns\"]]).cumprod().plot()"
   ]
  },
  {
   "cell_type": "markdown",
   "metadata": {},
   "source": [
    "### Answer the following question:"
   ]
  },
  {
   "cell_type": "markdown",
   "metadata": {},
   "source": [
    "**Question:** Did the `LogisticRegression` perform better than the `SVM`?\n",
    "\n",
    "**Answer:** Maybe. The logistic regression model performs a bit better than the SVM model since it has a higher accuracy score. However, the SVM model does a better job predicting profitable short opportunities, as evidenced by its higher recall score on the `-1.0` class. Ultimately, which model is best may depend on which class we care most about predicting, as well as which has better overall economic returns compared to a long-only investment."
   ]
  },
  {
   "cell_type": "markdown",
   "metadata": {},
   "source": [
    "#### Create the features set"
   ]
  },
  {
   "cell_type": "markdown",
   "metadata": {},
   "source": [
    "# Part 2 - Adding more Features, a test/train ratio of 40/60, and xgboost Classifier"
   ]
  },
  {
   "cell_type": "code",
   "execution_count": 38,
   "metadata": {
    "tags": []
   },
   "outputs": [],
   "source": [
    "from finta import TA\n",
    "\n",
    "ohlcv_df = trading_df\n",
    "\n",
    "# List of time periods to use for Moving Averages calculation\n",
    "timeperiods = [5,7,14,20,30,50,70,100,150,200]\n",
    "\n",
    "df = ohlcv_df.copy()\n",
    "\n",
    "# Calculate SMAs and add them to the DataFrame\n",
    "for t in timeperiods:\n",
    "    sma = TA.SMA(df, t)\n",
    "    ema = TA.SMA(df, t)\n",
    "    atr = TA.ATR(df, t)\n",
    "    adx = TA.ADX(df, t) \n",
    "    rsi = TA.RSI(df, t)\n",
    "    hma = TA.HMA(df, t)\n",
    "    vama = TA.VAMA(df, t)\n",
    "\n",
    "#   df[f'SMA_{t}'] = sma\n",
    "    df[f'EMA_{t}'] = ema\n",
    "    df[f'HMA_{t}'] = hma\n",
    "    df[f'VAMA_{t}'] = vama\n",
    "    df[f'ATR_{t}'] = atr\n",
    "    df[f'ADX_{t}'] = adx\n",
    "    df[f'RSI_{t}'] = rsi\n",
    "\n",
    "#df['UO'] = TA.UO(ohlcv_df)\n",
    "\n",
    "# Adding Awesome Indicator (AO)\n",
    "df['AO'] = TA.AO(ohlcv_df)\n",
    "#df['OBV'] =TA.OBV(ohlcv_df)\n",
    "\n",
    "# Adding Chaikin Indicator \n",
    "df['CHAIKIN'] = TA.CHAIKIN(ohlcv_df)\n",
    "\n",
    "# Adding Bollinger Bands\n",
    "df[['BB_UPPER','BB_MED','BB_LOWER']] =TA.BBANDS(ohlcv_df)"
   ]
  },
  {
   "cell_type": "markdown",
   "metadata": {},
   "source": [
    "### Add a daily return values column to the DataFrame"
   ]
  },
  {
   "cell_type": "code",
   "execution_count": 39,
   "metadata": {
    "tags": []
   },
   "outputs": [
    {
     "data": {
      "text/html": [
       "<div>\n",
       "<style scoped>\n",
       "    .dataframe tbody tr th:only-of-type {\n",
       "        vertical-align: middle;\n",
       "    }\n",
       "\n",
       "    .dataframe tbody tr th {\n",
       "        vertical-align: top;\n",
       "    }\n",
       "\n",
       "    .dataframe thead th {\n",
       "        text-align: right;\n",
       "    }\n",
       "</style>\n",
       "<table border=\"1\" class=\"dataframe\">\n",
       "  <thead>\n",
       "    <tr style=\"text-align: right;\">\n",
       "      <th></th>\n",
       "      <th>open</th>\n",
       "      <th>high</th>\n",
       "      <th>low</th>\n",
       "      <th>close</th>\n",
       "      <th>volume</th>\n",
       "      <th>close_time</th>\n",
       "      <th>quote_av</th>\n",
       "      <th>trades</th>\n",
       "      <th>tb_base_av</th>\n",
       "      <th>tb_quote_av</th>\n",
       "      <th>...</th>\n",
       "      <th>HMA_200</th>\n",
       "      <th>VAMA_200</th>\n",
       "      <th>ATR_200</th>\n",
       "      <th>ADX_200</th>\n",
       "      <th>RSI_200</th>\n",
       "      <th>AO</th>\n",
       "      <th>CHAIKIN</th>\n",
       "      <th>BB_UPPER</th>\n",
       "      <th>BB_MED</th>\n",
       "      <th>BB_LOWER</th>\n",
       "    </tr>\n",
       "    <tr>\n",
       "      <th>timestamp</th>\n",
       "      <th></th>\n",
       "      <th></th>\n",
       "      <th></th>\n",
       "      <th></th>\n",
       "      <th></th>\n",
       "      <th></th>\n",
       "      <th></th>\n",
       "      <th></th>\n",
       "      <th></th>\n",
       "      <th></th>\n",
       "      <th></th>\n",
       "      <th></th>\n",
       "      <th></th>\n",
       "      <th></th>\n",
       "      <th></th>\n",
       "      <th></th>\n",
       "      <th></th>\n",
       "      <th></th>\n",
       "      <th></th>\n",
       "      <th></th>\n",
       "      <th></th>\n",
       "    </tr>\n",
       "  </thead>\n",
       "  <tbody>\n",
       "    <tr>\n",
       "      <th>2017-09-07 04:00:00</th>\n",
       "      <td>326.59</td>\n",
       "      <td>329.31</td>\n",
       "      <td>325.41</td>\n",
       "      <td>328.32</td>\n",
       "      <td>39.14457</td>\n",
       "      <td>1504760399999</td>\n",
       "      <td>12772.602467</td>\n",
       "      <td>28</td>\n",
       "      <td>17.29839</td>\n",
       "      <td>5651.336392</td>\n",
       "      <td>...</td>\n",
       "      <td>292.118007</td>\n",
       "      <td>342.090567</td>\n",
       "      <td>9.65070</td>\n",
       "      <td>22.198686</td>\n",
       "      <td>49.600947</td>\n",
       "      <td>7.769059</td>\n",
       "      <td>-81.843810</td>\n",
       "      <td>338.578790</td>\n",
       "      <td>326.7900</td>\n",
       "      <td>315.001210</td>\n",
       "    </tr>\n",
       "    <tr>\n",
       "      <th>2017-09-07 05:00:00</th>\n",
       "      <td>327.49</td>\n",
       "      <td>330.00</td>\n",
       "      <td>326.03</td>\n",
       "      <td>328.02</td>\n",
       "      <td>80.83488</td>\n",
       "      <td>1504763999999</td>\n",
       "      <td>26594.346825</td>\n",
       "      <td>85</td>\n",
       "      <td>11.62327</td>\n",
       "      <td>3825.715368</td>\n",
       "      <td>...</td>\n",
       "      <td>292.742754</td>\n",
       "      <td>342.006163</td>\n",
       "      <td>9.64375</td>\n",
       "      <td>22.169671</td>\n",
       "      <td>49.582670</td>\n",
       "      <td>5.829882</td>\n",
       "      <td>-72.216918</td>\n",
       "      <td>338.694425</td>\n",
       "      <td>326.9045</td>\n",
       "      <td>315.114575</td>\n",
       "    </tr>\n",
       "    <tr>\n",
       "      <th>2017-09-07 06:00:00</th>\n",
       "      <td>329.06</td>\n",
       "      <td>330.45</td>\n",
       "      <td>325.21</td>\n",
       "      <td>326.61</td>\n",
       "      <td>53.93536</td>\n",
       "      <td>1504767599999</td>\n",
       "      <td>17621.368677</td>\n",
       "      <td>42</td>\n",
       "      <td>41.78398</td>\n",
       "      <td>13666.001671</td>\n",
       "      <td>...</td>\n",
       "      <td>293.360899</td>\n",
       "      <td>341.902710</td>\n",
       "      <td>9.63685</td>\n",
       "      <td>22.141757</td>\n",
       "      <td>49.496516</td>\n",
       "      <td>5.316029</td>\n",
       "      <td>-69.400306</td>\n",
       "      <td>338.298420</td>\n",
       "      <td>327.3580</td>\n",
       "      <td>316.417580</td>\n",
       "    </tr>\n",
       "    <tr>\n",
       "      <th>2017-09-07 07:00:00</th>\n",
       "      <td>325.21</td>\n",
       "      <td>325.96</td>\n",
       "      <td>321.31</td>\n",
       "      <td>323.57</td>\n",
       "      <td>83.60382</td>\n",
       "      <td>1504771199999</td>\n",
       "      <td>27044.577431</td>\n",
       "      <td>92</td>\n",
       "      <td>26.08999</td>\n",
       "      <td>8464.323183</td>\n",
       "      <td>...</td>\n",
       "      <td>293.960082</td>\n",
       "      <td>341.759046</td>\n",
       "      <td>9.62975</td>\n",
       "      <td>22.117883</td>\n",
       "      <td>49.310855</td>\n",
       "      <td>4.251735</td>\n",
       "      <td>-62.534188</td>\n",
       "      <td>338.115445</td>\n",
       "      <td>327.5185</td>\n",
       "      <td>316.921555</td>\n",
       "    </tr>\n",
       "    <tr>\n",
       "      <th>2017-09-07 08:00:00</th>\n",
       "      <td>323.57</td>\n",
       "      <td>325.41</td>\n",
       "      <td>320.17</td>\n",
       "      <td>325.30</td>\n",
       "      <td>134.11969</td>\n",
       "      <td>1504774799999</td>\n",
       "      <td>43226.983647</td>\n",
       "      <td>107</td>\n",
       "      <td>45.89500</td>\n",
       "      <td>14827.932319</td>\n",
       "      <td>...</td>\n",
       "      <td>294.549390</td>\n",
       "      <td>341.656559</td>\n",
       "      <td>9.62605</td>\n",
       "      <td>22.095351</td>\n",
       "      <td>49.419367</td>\n",
       "      <td>2.360412</td>\n",
       "      <td>-13.625789</td>\n",
       "      <td>337.186486</td>\n",
       "      <td>327.9810</td>\n",
       "      <td>318.775514</td>\n",
       "    </tr>\n",
       "  </tbody>\n",
       "</table>\n",
       "<p>5 rows × 80 columns</p>\n",
       "</div>"
      ],
      "text/plain": [
       "                       open    high     low   close     volume     close_time  \\\n",
       "timestamp                                                                       \n",
       "2017-09-07 04:00:00  326.59  329.31  325.41  328.32   39.14457  1504760399999   \n",
       "2017-09-07 05:00:00  327.49  330.00  326.03  328.02   80.83488  1504763999999   \n",
       "2017-09-07 06:00:00  329.06  330.45  325.21  326.61   53.93536  1504767599999   \n",
       "2017-09-07 07:00:00  325.21  325.96  321.31  323.57   83.60382  1504771199999   \n",
       "2017-09-07 08:00:00  323.57  325.41  320.17  325.30  134.11969  1504774799999   \n",
       "\n",
       "                         quote_av  trades  tb_base_av   tb_quote_av  ...  \\\n",
       "timestamp                                                            ...   \n",
       "2017-09-07 04:00:00  12772.602467      28    17.29839   5651.336392  ...   \n",
       "2017-09-07 05:00:00  26594.346825      85    11.62327   3825.715368  ...   \n",
       "2017-09-07 06:00:00  17621.368677      42    41.78398  13666.001671  ...   \n",
       "2017-09-07 07:00:00  27044.577431      92    26.08999   8464.323183  ...   \n",
       "2017-09-07 08:00:00  43226.983647     107    45.89500  14827.932319  ...   \n",
       "\n",
       "                        HMA_200    VAMA_200  ATR_200    ADX_200    RSI_200  \\\n",
       "timestamp                                                                    \n",
       "2017-09-07 04:00:00  292.118007  342.090567  9.65070  22.198686  49.600947   \n",
       "2017-09-07 05:00:00  292.742754  342.006163  9.64375  22.169671  49.582670   \n",
       "2017-09-07 06:00:00  293.360899  341.902710  9.63685  22.141757  49.496516   \n",
       "2017-09-07 07:00:00  293.960082  341.759046  9.62975  22.117883  49.310855   \n",
       "2017-09-07 08:00:00  294.549390  341.656559  9.62605  22.095351  49.419367   \n",
       "\n",
       "                           AO    CHAIKIN    BB_UPPER    BB_MED    BB_LOWER  \n",
       "timestamp                                                                   \n",
       "2017-09-07 04:00:00  7.769059 -81.843810  338.578790  326.7900  315.001210  \n",
       "2017-09-07 05:00:00  5.829882 -72.216918  338.694425  326.9045  315.114575  \n",
       "2017-09-07 06:00:00  5.316029 -69.400306  338.298420  327.3580  316.417580  \n",
       "2017-09-07 07:00:00  4.251735 -62.534188  338.115445  327.5185  316.921555  \n",
       "2017-09-07 08:00:00  2.360412 -13.625789  337.186486  327.9810  318.775514  \n",
       "\n",
       "[5 rows x 80 columns]"
      ]
     },
     "execution_count": 39,
     "metadata": {},
     "output_type": "execute_result"
    }
   ],
   "source": [
    "# Calculate the daily returns using the closing prices and the pct_change function\n",
    "df[\"actual_returns\"] = df[\"close\"].pct_change()\n",
    "\n",
    "# Drop all NaN values from the DataFrame\n",
    "df = df.dropna()\n",
    "\n",
    "# Review the DataFrame\n",
    "df.head()"
   ]
  },
  {
   "cell_type": "code",
   "execution_count": 40,
   "metadata": {
    "tags": []
   },
   "outputs": [],
   "source": [
    "# Create a new column in the trading_df called signal setting its value to zero.\n",
    "df[\"signal\"] = 0.0\n",
    "\n",
    "# Create the signal to buy\n",
    "df.loc[(df[\"actual_returns\"] >= 0), \"signal\"] = 1\n",
    "\n",
    "# Create the signal to sell\n",
    "df.loc[(df[\"actual_returns\"] < 0), \"signal\"] = -1"
   ]
  },
  {
   "cell_type": "code",
   "execution_count": 41,
   "metadata": {
    "tags": []
   },
   "outputs": [
    {
     "data": {
      "text/plain": [
       " 1.0    23860\n",
       "-1.0    23174\n",
       "Name: signal, dtype: int64"
      ]
     },
     "execution_count": 41,
     "metadata": {},
     "output_type": "execute_result"
    }
   ],
   "source": [
    "df[\"signal\"].value_counts()"
   ]
  },
  {
   "cell_type": "markdown",
   "metadata": {},
   "source": [
    "---\n",
    "### Dealing with Class Imbalance using Undersampling "
   ]
  },
  {
   "cell_type": "code",
   "execution_count": 72,
   "metadata": {},
   "outputs": [
    {
     "data": {
      "text/plain": [
       "\"import pandas as pd\\nfrom sklearn.utils import resample\\n\\n# Count the number of samples in each class\\nclass_counts = df['signal'].value_counts()\\n\\n# Find the class with fewer samples\\nminority_class = class_counts.idxmin()\\n\\n# Split the dataframe into the majority and minority classes\\nmajority_class = df[df['signal'] != minority_class]\\nminority_class = df[df['signal'] == minority_class]\\n\\n# Undersample the majority class to match the number of samples in the minority class\\nundersampled_majority = resample(majority_class,\\n                                 replace=False,\\n                                 n_samples=len(minority_class),\\n                                 random_state=42)\\n\\n# Combine the undersampled majority class with the minority class\\nbalanced_df = pd.concat([undersampled_majority, minority_class])\\n\\n# Shuffle the rows in the balanced dataframe\\nbalanced_df = balanced_df.sample(frac=1, random_state=42)\\n\""
      ]
     },
     "execution_count": 72,
     "metadata": {},
     "output_type": "execute_result"
    }
   ],
   "source": [
    "'''import pandas as pd\n",
    "from sklearn.utils import resample\n",
    "\n",
    "# Count the number of samples in each class\n",
    "class_counts = df['signal'].value_counts()\n",
    "\n",
    "# Find the class with fewer samples\n",
    "minority_class = class_counts.idxmin()\n",
    "\n",
    "# Split the dataframe into the majority and minority classes\n",
    "majority_class = df[df['signal'] != minority_class]\n",
    "minority_class = df[df['signal'] == minority_class]\n",
    "\n",
    "# Undersample the majority class to match the number of samples in the minority class\n",
    "undersampled_majority = resample(majority_class,\n",
    "                                 replace=False,\n",
    "                                 n_samples=len(minority_class),\n",
    "                                 random_state=42)\n",
    "\n",
    "# Combine the undersampled majority class with the minority class\n",
    "balanced_df = pd.concat([undersampled_majority, minority_class])\n",
    "\n",
    "# Shuffle the rows in the balanced dataframe\n",
    "balanced_df = balanced_df.sample(frac=1, random_state=42)\n",
    "'''"
   ]
  },
  {
   "cell_type": "code",
   "execution_count": 73,
   "metadata": {
    "tags": []
   },
   "outputs": [],
   "source": [
    "balanced_df = df"
   ]
  },
  {
   "cell_type": "code",
   "execution_count": 74,
   "metadata": {
    "tags": []
   },
   "outputs": [
    {
     "data": {
      "text/plain": [
       " 1.0    23860\n",
       "-1.0    23174\n",
       "Name: signal, dtype: int64"
      ]
     },
     "execution_count": 74,
     "metadata": {},
     "output_type": "execute_result"
    }
   ],
   "source": [
    "balanced_df[\"signal\"].value_counts()"
   ]
  },
  {
   "cell_type": "markdown",
   "metadata": {},
   "source": [
    "---\n",
    "\n",
    "### Generating the Feauture and Target Sets"
   ]
  },
  {
   "cell_type": "code",
   "execution_count": 75,
   "metadata": {
    "tags": []
   },
   "outputs": [],
   "source": [
    "# Create a new column in the trading_df called signal setting its value to zero.\n",
    "X= balanced_df.copy()\n",
    "X= X.drop([\"open\",\"high\",\"low\",\"close\",\"volume\",\"actual_returns\"], axis =1).shift().dropna().copy()"
   ]
  },
  {
   "cell_type": "markdown",
   "metadata": {},
   "source": [
    "#### Creating the feature set"
   ]
  },
  {
   "cell_type": "code",
   "execution_count": 76,
   "metadata": {
    "tags": []
   },
   "outputs": [
    {
     "data": {
      "text/html": [
       "<div>\n",
       "<style scoped>\n",
       "    .dataframe tbody tr th:only-of-type {\n",
       "        vertical-align: middle;\n",
       "    }\n",
       "\n",
       "    .dataframe tbody tr th {\n",
       "        vertical-align: top;\n",
       "    }\n",
       "\n",
       "    .dataframe thead th {\n",
       "        text-align: right;\n",
       "    }\n",
       "</style>\n",
       "<table border=\"1\" class=\"dataframe\">\n",
       "  <thead>\n",
       "    <tr style=\"text-align: right;\">\n",
       "      <th></th>\n",
       "      <th>close_time</th>\n",
       "      <th>quote_av</th>\n",
       "      <th>trades</th>\n",
       "      <th>tb_base_av</th>\n",
       "      <th>tb_quote_av</th>\n",
       "      <th>ignore</th>\n",
       "      <th>sma_fast</th>\n",
       "      <th>sma_slow</th>\n",
       "      <th>signal</th>\n",
       "      <th>EMA_5</th>\n",
       "      <th>...</th>\n",
       "      <th>HMA_200</th>\n",
       "      <th>VAMA_200</th>\n",
       "      <th>ATR_200</th>\n",
       "      <th>ADX_200</th>\n",
       "      <th>RSI_200</th>\n",
       "      <th>AO</th>\n",
       "      <th>CHAIKIN</th>\n",
       "      <th>BB_UPPER</th>\n",
       "      <th>BB_MED</th>\n",
       "      <th>BB_LOWER</th>\n",
       "    </tr>\n",
       "    <tr>\n",
       "      <th>timestamp</th>\n",
       "      <th></th>\n",
       "      <th></th>\n",
       "      <th></th>\n",
       "      <th></th>\n",
       "      <th></th>\n",
       "      <th></th>\n",
       "      <th></th>\n",
       "      <th></th>\n",
       "      <th></th>\n",
       "      <th></th>\n",
       "      <th></th>\n",
       "      <th></th>\n",
       "      <th></th>\n",
       "      <th></th>\n",
       "      <th></th>\n",
       "      <th></th>\n",
       "      <th></th>\n",
       "      <th></th>\n",
       "      <th></th>\n",
       "      <th></th>\n",
       "      <th></th>\n",
       "    </tr>\n",
       "  </thead>\n",
       "  <tbody>\n",
       "    <tr>\n",
       "      <th>2017-09-07 05:00:00</th>\n",
       "      <td>1.504760e+12</td>\n",
       "      <td>12772.602467</td>\n",
       "      <td>28.0</td>\n",
       "      <td>17.29839</td>\n",
       "      <td>5651.336392</td>\n",
       "      <td>0.0</td>\n",
       "      <td>325.4825</td>\n",
       "      <td>317.2461</td>\n",
       "      <td>1.0</td>\n",
       "      <td>326.836</td>\n",
       "      <td>...</td>\n",
       "      <td>292.118007</td>\n",
       "      <td>342.090567</td>\n",
       "      <td>9.65070</td>\n",
       "      <td>22.198686</td>\n",
       "      <td>49.600947</td>\n",
       "      <td>7.769059</td>\n",
       "      <td>-81.843810</td>\n",
       "      <td>338.578790</td>\n",
       "      <td>326.7900</td>\n",
       "      <td>315.001210</td>\n",
       "    </tr>\n",
       "    <tr>\n",
       "      <th>2017-09-07 06:00:00</th>\n",
       "      <td>1.504764e+12</td>\n",
       "      <td>26594.346825</td>\n",
       "      <td>85.0</td>\n",
       "      <td>11.62327</td>\n",
       "      <td>3825.715368</td>\n",
       "      <td>0.0</td>\n",
       "      <td>327.0325</td>\n",
       "      <td>317.1645</td>\n",
       "      <td>-1.0</td>\n",
       "      <td>325.990</td>\n",
       "      <td>...</td>\n",
       "      <td>292.742754</td>\n",
       "      <td>342.006163</td>\n",
       "      <td>9.64375</td>\n",
       "      <td>22.169671</td>\n",
       "      <td>49.582670</td>\n",
       "      <td>5.829882</td>\n",
       "      <td>-72.216918</td>\n",
       "      <td>338.694425</td>\n",
       "      <td>326.9045</td>\n",
       "      <td>315.114575</td>\n",
       "    </tr>\n",
       "    <tr>\n",
       "      <th>2017-09-07 07:00:00</th>\n",
       "      <td>1.504768e+12</td>\n",
       "      <td>17621.368677</td>\n",
       "      <td>42.0</td>\n",
       "      <td>41.78398</td>\n",
       "      <td>13666.001671</td>\n",
       "      <td>0.0</td>\n",
       "      <td>327.3850</td>\n",
       "      <td>317.1743</td>\n",
       "      <td>-1.0</td>\n",
       "      <td>326.948</td>\n",
       "      <td>...</td>\n",
       "      <td>293.360899</td>\n",
       "      <td>341.902710</td>\n",
       "      <td>9.63685</td>\n",
       "      <td>22.141757</td>\n",
       "      <td>49.496516</td>\n",
       "      <td>5.316029</td>\n",
       "      <td>-69.400306</td>\n",
       "      <td>338.298420</td>\n",
       "      <td>327.3580</td>\n",
       "      <td>316.417580</td>\n",
       "    </tr>\n",
       "    <tr>\n",
       "      <th>2017-09-07 08:00:00</th>\n",
       "      <td>1.504771e+12</td>\n",
       "      <td>27044.577431</td>\n",
       "      <td>92.0</td>\n",
       "      <td>26.08999</td>\n",
       "      <td>8464.323183</td>\n",
       "      <td>0.0</td>\n",
       "      <td>326.6300</td>\n",
       "      <td>317.1700</td>\n",
       "      <td>-1.0</td>\n",
       "      <td>326.622</td>\n",
       "      <td>...</td>\n",
       "      <td>293.960082</td>\n",
       "      <td>341.759046</td>\n",
       "      <td>9.62975</td>\n",
       "      <td>22.117883</td>\n",
       "      <td>49.310855</td>\n",
       "      <td>4.251735</td>\n",
       "      <td>-62.534188</td>\n",
       "      <td>338.115445</td>\n",
       "      <td>327.5185</td>\n",
       "      <td>316.921555</td>\n",
       "    </tr>\n",
       "    <tr>\n",
       "      <th>2017-09-07 09:00:00</th>\n",
       "      <td>1.504775e+12</td>\n",
       "      <td>43226.983647</td>\n",
       "      <td>107.0</td>\n",
       "      <td>45.89500</td>\n",
       "      <td>14827.932319</td>\n",
       "      <td>0.0</td>\n",
       "      <td>325.8750</td>\n",
       "      <td>317.1258</td>\n",
       "      <td>1.0</td>\n",
       "      <td>326.364</td>\n",
       "      <td>...</td>\n",
       "      <td>294.549390</td>\n",
       "      <td>341.656559</td>\n",
       "      <td>9.62605</td>\n",
       "      <td>22.095351</td>\n",
       "      <td>49.419367</td>\n",
       "      <td>2.360412</td>\n",
       "      <td>-13.625789</td>\n",
       "      <td>337.186486</td>\n",
       "      <td>327.9810</td>\n",
       "      <td>318.775514</td>\n",
       "    </tr>\n",
       "  </tbody>\n",
       "</table>\n",
       "<p>5 rows × 74 columns</p>\n",
       "</div>"
      ],
      "text/plain": [
       "                       close_time      quote_av  trades  tb_base_av  \\\n",
       "timestamp                                                             \n",
       "2017-09-07 05:00:00  1.504760e+12  12772.602467    28.0    17.29839   \n",
       "2017-09-07 06:00:00  1.504764e+12  26594.346825    85.0    11.62327   \n",
       "2017-09-07 07:00:00  1.504768e+12  17621.368677    42.0    41.78398   \n",
       "2017-09-07 08:00:00  1.504771e+12  27044.577431    92.0    26.08999   \n",
       "2017-09-07 09:00:00  1.504775e+12  43226.983647   107.0    45.89500   \n",
       "\n",
       "                      tb_quote_av  ignore  sma_fast  sma_slow  signal  \\\n",
       "timestamp                                                               \n",
       "2017-09-07 05:00:00   5651.336392     0.0  325.4825  317.2461     1.0   \n",
       "2017-09-07 06:00:00   3825.715368     0.0  327.0325  317.1645    -1.0   \n",
       "2017-09-07 07:00:00  13666.001671     0.0  327.3850  317.1743    -1.0   \n",
       "2017-09-07 08:00:00   8464.323183     0.0  326.6300  317.1700    -1.0   \n",
       "2017-09-07 09:00:00  14827.932319     0.0  325.8750  317.1258     1.0   \n",
       "\n",
       "                       EMA_5  ...     HMA_200    VAMA_200  ATR_200    ADX_200  \\\n",
       "timestamp                     ...                                               \n",
       "2017-09-07 05:00:00  326.836  ...  292.118007  342.090567  9.65070  22.198686   \n",
       "2017-09-07 06:00:00  325.990  ...  292.742754  342.006163  9.64375  22.169671   \n",
       "2017-09-07 07:00:00  326.948  ...  293.360899  341.902710  9.63685  22.141757   \n",
       "2017-09-07 08:00:00  326.622  ...  293.960082  341.759046  9.62975  22.117883   \n",
       "2017-09-07 09:00:00  326.364  ...  294.549390  341.656559  9.62605  22.095351   \n",
       "\n",
       "                       RSI_200        AO    CHAIKIN    BB_UPPER    BB_MED  \\\n",
       "timestamp                                                                   \n",
       "2017-09-07 05:00:00  49.600947  7.769059 -81.843810  338.578790  326.7900   \n",
       "2017-09-07 06:00:00  49.582670  5.829882 -72.216918  338.694425  326.9045   \n",
       "2017-09-07 07:00:00  49.496516  5.316029 -69.400306  338.298420  327.3580   \n",
       "2017-09-07 08:00:00  49.310855  4.251735 -62.534188  338.115445  327.5185   \n",
       "2017-09-07 09:00:00  49.419367  2.360412 -13.625789  337.186486  327.9810   \n",
       "\n",
       "                       BB_LOWER  \n",
       "timestamp                        \n",
       "2017-09-07 05:00:00  315.001210  \n",
       "2017-09-07 06:00:00  315.114575  \n",
       "2017-09-07 07:00:00  316.417580  \n",
       "2017-09-07 08:00:00  316.921555  \n",
       "2017-09-07 09:00:00  318.775514  \n",
       "\n",
       "[5 rows x 74 columns]"
      ]
     },
     "execution_count": 76,
     "metadata": {},
     "output_type": "execute_result"
    }
   ],
   "source": [
    "X.head()"
   ]
  },
  {
   "cell_type": "markdown",
   "metadata": {},
   "source": [
    "#### Creating the target set "
   ]
  },
  {
   "cell_type": "code",
   "execution_count": 77,
   "metadata": {
    "tags": []
   },
   "outputs": [],
   "source": [
    "# Copy the new signal column to a new Series called y.\n",
    "y = balanced_df[\"signal\"][1:].copy()"
   ]
  },
  {
   "cell_type": "code",
   "execution_count": 78,
   "metadata": {
    "tags": []
   },
   "outputs": [
    {
     "data": {
      "text/plain": [
       "(47033, 74)"
      ]
     },
     "execution_count": 78,
     "metadata": {},
     "output_type": "execute_result"
    }
   ],
   "source": [
    "X.shape"
   ]
  },
  {
   "cell_type": "code",
   "execution_count": 79,
   "metadata": {
    "tags": []
   },
   "outputs": [
    {
     "data": {
      "text/plain": [
       "(47033,)"
      ]
     },
     "execution_count": 79,
     "metadata": {},
     "output_type": "execute_result"
    }
   ],
   "source": [
    "y.shape"
   ]
  },
  {
   "cell_type": "code",
   "execution_count": 88,
   "metadata": {
    "tags": []
   },
   "outputs": [
    {
     "data": {
      "text/plain": [
       " 1.0    23859\n",
       "-1.0    23174\n",
       "Name: signal, dtype: int64"
      ]
     },
     "execution_count": 88,
     "metadata": {},
     "output_type": "execute_result"
    }
   ],
   "source": [
    "y.value_counts()"
   ]
  },
  {
   "cell_type": "markdown",
   "metadata": {},
   "source": [
    "#### Splitting the data and building the testing and training set using a 40/60 ratio"
   ]
  },
  {
   "cell_type": "code",
   "execution_count": 80,
   "metadata": {
    "tags": []
   },
   "outputs": [],
   "source": [
    "from sklearn.model_selection import train_test_split\n",
    "\n",
    "#splitting the data and building the training and testing set\n",
    "X_train, X_test, y_train, y_test = train_test_split(X, y, test_size=0.4 )#, random_state=1, stratify=y)"
   ]
  },
  {
   "cell_type": "markdown",
   "metadata": {},
   "source": [
    "#### Standardizing the Data"
   ]
  },
  {
   "cell_type": "code",
   "execution_count": 81,
   "metadata": {
    "tags": []
   },
   "outputs": [],
   "source": [
    "# Create a StandardScaler instance\n",
    "scaler = StandardScaler()\n",
    " \n",
    "# Apply the scaler model to fit the X-train data\n",
    "X_scaler = scaler.fit(X_train)\n",
    " \n",
    "# Transform the X_train and X_test DataFrames using the X_scaler\n",
    "X_train_scaled = X_scaler.transform(X_train)\n",
    "X_test_scaled = X_scaler.transform(X_test)"
   ]
  },
  {
   "cell_type": "code",
   "execution_count": 82,
   "metadata": {
    "tags": []
   },
   "outputs": [],
   "source": [
    "\n",
    "# calculate the correlation matrix\n",
    "corr_matrix = X.corr().abs()\n",
    "\n",
    "# get the upper triangle of the correlation matrix\n",
    "upper = corr_matrix.where(np.triu(np.ones(corr_matrix.shape), k=1).astype(np.bool_))\n",
    "\n",
    "# get the index of the features with the lowest correlation\n",
    "to_keep = [column for column in upper.columns if any(upper[column] < 0.8)]\n",
    "\n",
    "# keep only the features with the lowest correlation\n",
    "X = X[to_keep]"
   ]
  },
  {
   "cell_type": "markdown",
   "metadata": {},
   "source": [
    "---\n",
    "\n",
    "### Incorporate the xgboost Machine Learning Into the Trading Strategy"
   ]
  },
  {
   "cell_type": "code",
   "execution_count": 83,
   "metadata": {
    "tags": []
   },
   "outputs": [
    {
     "name": "stdout",
     "output_type": "stream",
     "text": [
      "Test accuracy: 0.52\n",
      "Test F1 score: 0.52\n"
     ]
    }
   ],
   "source": [
    "import xgboost as xgb\n",
    "#from xgboost import xgbClassifier\n",
    "from sklearn.metrics import accuracy_score, f1_score\n",
    "from sklearn.model_selection import GridSearchCV\n",
    "\n",
    "#replace -1 by 0 as xgboost expects a boolean target vector (only 0 and 1)\n",
    "y_train = y_train.replace(-1, 0)\n",
    "y_test = y_test.replace(-1, 0)\n",
    "\n",
    "# Create a xgb Classifier model\n",
    "xgb_clf = xgb.XGBClassifier()\n",
    "\n",
    "xgb_clf.fit(X_train_scaled, y_train)\n",
    "\n",
    "# Use the best model to make predictions on the test data\n",
    "y_pred_xgb = xgb_clf.predict(X_test_scaled)\n",
    "\n",
    "# Calculate the accuracy and F1 score for the test data\n",
    "accuracy = accuracy_score(y_test, y_pred_xgb)\n",
    "f1 = f1_score(y_test, y_pred_xgb, average='micro')\n",
    "\n",
    "# Print the results\n",
    "print(f'Test accuracy: {accuracy:.2f}')\n",
    "print(f'Test F1 score: {f1:.2f}')"
   ]
  },
  {
   "cell_type": "markdown",
   "metadata": {},
   "source": [
    "### Displaying ROC Curve"
   ]
  },
  {
   "cell_type": "code",
   "execution_count": 84,
   "metadata": {
    "tags": []
   },
   "outputs": [
    {
     "data": {
      "image/png": "[encoded data removed]",
      "text/plain": [
       "<Figure size 640x480 with 1 Axes>"
      ]
     },
     "metadata": {},
     "output_type": "display_data"
    }
   ],
   "source": [
    "from sklearn.metrics import roc_curve, roc_auc_score\n",
    "import matplotlib.pyplot as plt\n",
    "\n",
    "xgb_signal_predictions = xgb_clf.predict(X_test_scaled)\n",
    "\n",
    "#Calculate ROC Curve\n",
    "xgb_fpr, xgb_tpr, pca_thresholds = roc_curve(y_test, xgb_signal_predictions )\n",
    "\n",
    "# Calculate the AUC \n",
    "xgb_auc = roc_auc_score(y_test, xgb_signal_predictions )\n",
    "\n",
    "# Plot the ROC curve\n",
    "plt.plot(xgb_fpr, xgb_tpr, label='ROC curve xgb (AUC = {:.2f})'.format(xgb_auc))\n",
    "plt.plot([0, 1], [0, 1], linestyle='--', label='Random guess')\n",
    "plt.xlabel('False Positive Rate')\n",
    "plt.ylabel('True Positive Rate')\n",
    "plt.legend()\n",
    "plt.show()"
   ]
  },
  {
   "cell_type": "code",
   "execution_count": 85,
   "metadata": {
    "tags": []
   },
   "outputs": [
    {
     "name": "stdout",
     "output_type": "stream",
     "text": [
      "              precision    recall  f1-score   support\n",
      "\n",
      "         0.0       0.51      0.50      0.51      9245\n",
      "         1.0       0.53      0.55      0.54      9569\n",
      "\n",
      "    accuracy                           0.52     18814\n",
      "   macro avg       0.52      0.52      0.52     18814\n",
      "weighted avg       0.52      0.52      0.52     18814\n",
      "\n"
     ]
    }
   ],
   "source": [
    "# Generate a classification report using the testing data and the pca model's predictions\n",
    "xgb_testing_report = classification_report(y_test, xgb_signal_predictions)\n",
    "\n",
    "# Review the testing classification report\n",
    "print(xgb_testing_report)"
   ]
  },
  {
   "cell_type": "code",
   "execution_count": 86,
   "metadata": {
    "tags": []
   },
   "outputs": [
    {
     "data": {
      "text/html": [
       "<div>\n",
       "<style scoped>\n",
       "    .dataframe tbody tr th:only-of-type {\n",
       "        vertical-align: middle;\n",
       "    }\n",
       "\n",
       "    .dataframe tbody tr th {\n",
       "        vertical-align: top;\n",
       "    }\n",
       "\n",
       "    .dataframe thead th {\n",
       "        text-align: right;\n",
       "    }\n",
       "</style>\n",
       "<table border=\"1\" class=\"dataframe\">\n",
       "  <thead>\n",
       "    <tr style=\"text-align: right;\">\n",
       "      <th></th>\n",
       "      <th>xbg_predicted_signal</th>\n",
       "      <th>actual_returns</th>\n",
       "      <th>xgb_trading_algorithm_returns</th>\n",
       "    </tr>\n",
       "    <tr>\n",
       "      <th>timestamp</th>\n",
       "      <th></th>\n",
       "      <th></th>\n",
       "      <th></th>\n",
       "    </tr>\n",
       "  </thead>\n",
       "  <tbody>\n",
       "    <tr>\n",
       "      <th>2017-09-07 06:00:00</th>\n",
       "      <td>1</td>\n",
       "      <td>-0.004299</td>\n",
       "      <td>-0.004299</td>\n",
       "    </tr>\n",
       "    <tr>\n",
       "      <th>2017-09-07 07:00:00</th>\n",
       "      <td>1</td>\n",
       "      <td>-0.009308</td>\n",
       "      <td>-0.009308</td>\n",
       "    </tr>\n",
       "    <tr>\n",
       "      <th>2017-09-07 09:00:00</th>\n",
       "      <td>0</td>\n",
       "      <td>0.009069</td>\n",
       "      <td>0.000000</td>\n",
       "    </tr>\n",
       "    <tr>\n",
       "      <th>2017-09-07 17:00:00</th>\n",
       "      <td>0</td>\n",
       "      <td>-0.005231</td>\n",
       "      <td>-0.000000</td>\n",
       "    </tr>\n",
       "    <tr>\n",
       "      <th>2017-09-07 21:00:00</th>\n",
       "      <td>1</td>\n",
       "      <td>0.004325</td>\n",
       "      <td>0.004325</td>\n",
       "    </tr>\n",
       "  </tbody>\n",
       "</table>\n",
       "</div>"
      ],
      "text/plain": [
       "                     xbg_predicted_signal  actual_returns  \\\n",
       "timestamp                                                   \n",
       "2017-09-07 06:00:00                     1       -0.004299   \n",
       "2017-09-07 07:00:00                     1       -0.009308   \n",
       "2017-09-07 09:00:00                     0        0.009069   \n",
       "2017-09-07 17:00:00                     0       -0.005231   \n",
       "2017-09-07 21:00:00                     1        0.004325   \n",
       "\n",
       "                     xgb_trading_algorithm_returns  \n",
       "timestamp                                           \n",
       "2017-09-07 06:00:00                      -0.004299  \n",
       "2017-09-07 07:00:00                      -0.009308  \n",
       "2017-09-07 09:00:00                       0.000000  \n",
       "2017-09-07 17:00:00                      -0.000000  \n",
       "2017-09-07 21:00:00                       0.004325  "
      ]
     },
     "execution_count": 86,
     "metadata": {},
     "output_type": "execute_result"
    }
   ],
   "source": [
    "# Create a new empty predictions DataFrame using code provided below.\n",
    "xgb_predictions_df = pd.DataFrame(index=X_test.index)\n",
    "xgb_predictions_df[\"xbg_predicted_signal\"] = xgb_signal_predictions\n",
    "#replace -1 by 0 as xgboost expects a boolean target vector (only 0 and 1)\n",
    "#xgb_predictions_df = xgb_predictions_df.replace(0,-1)\n",
    "xgb_predictions_df[\"actual_returns\"] = df[\"actual_returns\"]\n",
    "xgb_predictions_df[\"xgb_trading_algorithm_returns\"] = xgb_predictions_df[\"actual_returns\"] * xgb_predictions_df[\"xbg_predicted_signal\"]\n",
    "xgb_predictions_df = xgb_predictions_df.sort_index()\n",
    "xgb_predictions_df.head()"
   ]
  },
  {
   "cell_type": "code",
   "execution_count": 87,
   "metadata": {
    "tags": []
   },
   "outputs": [
    {
     "data": {
      "text/plain": [
       "<Axes: xlabel='timestamp'>"
      ]
     },
     "execution_count": 87,
     "metadata": {},
     "output_type": "execute_result"
    },
    {
     "data": {
      "image/png": "[encoded data removed]",
      "text/plain": [
       "<Figure size 640x480 with 1 Axes>"
      ]
     },
     "metadata": {},
     "output_type": "display_data"
    }
   ],
   "source": [
    "# Calculate and plot the cumulative returns for the `actual_returns` and the `trading_algorithm_returns`\n",
    "(1 + xgb_predictions_df[[\"actual_returns\", \"xgb_trading_algorithm_returns\"]]).cumprod().plot()"
   ]
  },
  {
   "cell_type": "code",
   "execution_count": null,
   "metadata": {},
   "outputs": [],
   "source": []
  },
  {
   "cell_type": "code",
   "execution_count": null,
   "metadata": {},
   "outputs": [],
   "source": []
  }
 ],
 "metadata": {
  "kernelspec": {
   "display_name": "dev310",
   "language": "python",
   "name": "dev310"
  },
  "language_info": {
   "codemirror_mode": {
    "name": "ipython",
    "version": 3
   },
   "file_extension": ".py",
   "mimetype": "text/x-python",
   "name": "python",
   "nbconvert_exporter": "python",
   "pygments_lexer": "ipython3",
   "version": "3.10.9"
  }
 },
 "nbformat": 4,
 "nbformat_minor": 4
}
