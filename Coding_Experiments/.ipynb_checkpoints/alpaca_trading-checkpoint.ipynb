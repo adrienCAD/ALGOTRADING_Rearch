{
 "cells": [
  {
   "cell_type": "code",
   "execution_count": 1,
   "metadata": {
    "tags": []
   },
   "outputs": [],
   "source": [
    "import xgboost as xgb\n",
    "from sklearn.ensemble import GradientBoostingClassifier\n",
    "import alpaca_trade_api as tradeapi\n",
    "from finta import TA\n",
    "import pickle\n",
    "\n",
    "# Initial imports\n",
    "import os\n",
    "import requests\n",
    "import pandas as pd\n",
    "from dotenv import load_dotenv"
   ]
  },
  {
   "cell_type": "code",
   "execution_count": 2,
   "metadata": {
    "tags": []
   },
   "outputs": [],
   "source": [
    "with open('gbt_classifier.pkl', 'rb') as f:\n",
    "    papertrading_model = pickle.load(f)\n",
    "    \n",
    "#papertrading_model = xgb.XGBClassifier()\n",
    "#papertrading_model.load_model('xgb_clf.bst')\n",
    "scaler = pickle.load(open('scaler_model.pkl','rb'))\n",
    "\n"
   ]
  },
  {
   "cell_type": "code",
   "execution_count": 3,
   "metadata": {
    "tags": []
   },
   "outputs": [],
   "source": [
    "feats = ['HMA_5', 'RSI_5', 'ATR_14', 'RSI_14', 'RSI_150', 'cci']"
   ]
  },
  {
   "cell_type": "code",
   "execution_count": 4,
   "metadata": {
    "tags": []
   },
   "outputs": [],
   "source": [
    "# Load environment variables\n",
    "load_dotenv()\n",
    "\n",
    "# Set Alpaca API key and secret\n",
    "alpaca_api_key = os.getenv('ALPACA_API_KEY')\n",
    "alpaca_secret_key = os.getenv('ALPACA_SECRET_KEY')"
   ]
  },
  {
   "cell_type": "code",
   "execution_count": 5,
   "metadata": {
    "tags": []
   },
   "outputs": [
    {
     "name": "stdout",
     "output_type": "stream",
     "text": [
      "The Alpaca public key used by the REST API is : PK2RJWWRGDVPCFAT43MM\n"
     ]
    }
   ],
   "source": [
    "print(f'The Alpaca public key used by the REST API is : {alpaca_api_key}')"
   ]
  },
  {
   "cell_type": "code",
   "execution_count": 6,
   "metadata": {
    "tags": []
   },
   "outputs": [],
   "source": [
    "alpaca_api = tradeapi.REST(alpaca_api_key,alpaca_secret_key, 'https://paper-api.alpaca.markets')"
   ]
  },
  {
   "cell_type": "code",
   "execution_count": 7,
   "metadata": {
    "tags": []
   },
   "outputs": [],
   "source": [
    "data_trade = alpaca_api.get_crypto_bars(['BTC/USDT'], tradeapi.TimeFrame.Hour, \"2023-01-01\").df"
   ]
  },
  {
   "cell_type": "code",
   "execution_count": 8,
   "metadata": {
    "tags": []
   },
   "outputs": [],
   "source": [
    "for time in [5,14,150]:\n",
    "    data_trade['RSI_'+str(time)] = TA.RSI(data_trade, time)\n",
    "data_trade['ATR_14'] = TA.ATR(data_trade, 14)\n",
    "data_trade['HMA_5'] = TA.HMA(data_trade, 5)\n",
    "data_trade['cci'] = TA.CCI(data_trade)"
   ]
  },
  {
   "cell_type": "code",
   "execution_count": 9,
   "metadata": {
    "tags": []
   },
   "outputs": [
    {
     "data": {
      "text/plain": [
       "close          float64\n",
       "high           float64\n",
       "low            float64\n",
       "trade_count      int64\n",
       "open           float64\n",
       "volume         float64\n",
       "vwap           float64\n",
       "symbol          object\n",
       "RSI_5          float64\n",
       "RSI_14         float64\n",
       "RSI_150        float64\n",
       "ATR_14         float64\n",
       "HMA_5          float64\n",
       "cci            float64\n",
       "dtype: object"
      ]
     },
     "execution_count": 9,
     "metadata": {},
     "output_type": "execute_result"
    }
   ],
   "source": [
    "data_trade.dtypes"
   ]
  },
  {
   "cell_type": "code",
   "execution_count": 10,
   "metadata": {
    "tags": []
   },
   "outputs": [],
   "source": [
    "# transform preprocessed data to numpy array\n",
    "data_to_predict = scaler.transform(data_trade[feats].dropna())"
   ]
  },
  {
   "cell_type": "code",
   "execution_count": 11,
   "metadata": {
    "tags": []
   },
   "outputs": [
    {
     "data": {
      "text/plain": [
       "array([ 1.06439536e+02, -1.99557112e-01,  3.29848206e+01,  1.04524215e-02,\n",
       "        1.71257355e+00, -4.63454904e-01])"
      ]
     },
     "execution_count": 11,
     "metadata": {},
     "output_type": "execute_result"
    }
   ],
   "source": [
    "data_to_predict[-1]"
   ]
  },
  {
   "cell_type": "code",
   "execution_count": 12,
   "metadata": {
    "tags": []
   },
   "outputs": [],
   "source": [
    "# make predictions using the model\n",
    "predictions = papertrading_model.predict(data_to_predict)"
   ]
  },
  {
   "cell_type": "code",
   "execution_count": 13,
   "metadata": {
    "tags": []
   },
   "outputs": [
    {
     "data": {
      "text/plain": [
       "0.0"
      ]
     },
     "metadata": {},
     "output_type": "display_data"
    }
   ],
   "source": [
    "BUY = predictions[-1]\n",
    "display(BUY)"
   ]
  },
  {
   "cell_type": "code",
   "execution_count": 29,
   "metadata": {
    "tags": []
   },
   "outputs": [],
   "source": [
    "# Get the current price of BTC in USD\n",
    "eth_usd_price = alpaca_api.get_latest_crypto_orderbook(['ETH/USD'])['ETH/USD'].asks[0].p\n",
    "\n",
    "# Calculate the quantity of BTC to buy\n",
    "usd_balance = float(alpaca_api.get_account().cash)\n",
    "quantity_to_buy = usd_balance / eth_usd_price"
   ]
  },
  {
   "cell_type": "code",
   "execution_count": 32,
   "metadata": {
    "tags": []
   },
   "outputs": [
    {
     "name": "stdout",
     "output_type": "stream",
     "text": [
      "."
     ]
    }
   ],
   "source": [
    "# Get the current price of BTC in USD\n",
    "eth_usd_price = alpaca_api.get_latest_crypto_orderbook(['ETH/USD'])['ETH/USD'].asks[0].p\n",
    "\n",
    "    # Calculate the quantity of BTC to buy or sell\n",
    "usd_balance = float(alpaca_api.get_account().cash)\n",
    "quantity_to_trade = usd_balance / eth_usd_price * 0.1\n",
    "\n",
    "    # Define order parameters\n",
    "symbol = 'ETHUSD'\n",
    "order_type = 'limit'\n",
    "limit_price = eth_usd_price  # limit price for the order\n",
    "time_in_force = 'gtc'\n",
    "qty = quantity_to_trade  # quantity of ETH to trade\n",
    "\n",
    "    # check if BUY value changed from previous time\n",
    "if 'previous_buy' not in locals():\n",
    "    previous_buy = BUY\n",
    "\n",
    "if BUY != previous_buy:\n",
    "    if BUY:\n",
    "        side = 'buy'\n",
    "        limit_price += 0.0001\n",
    "    else:\n",
    "        side = 'sell'\n",
    "        qty = float(alpaca_api.get_position(symbol).qty)  # quantity of ETH to sell (same as the current position)\n",
    "        limit_price -= 0.0001\n",
    "\n",
    "        # Place order\n",
    "    try:\n",
    "        order = alpaca_api.submit_order(\n",
    "            symbol=symbol,\n",
    "            qty=qty,\n",
    "            side=side,\n",
    "            type=order_type,\n",
    "            time_in_force=time_in_force,\n",
    "            limit_price=limit_price\n",
    "        )\n",
    "        print(f\"{side.capitalize()} order for {qty} {symbol} at {limit_price} submitted successfully.\")\n",
    "\n",
    "    except Exception as e:\n",
    "        print(f\"Error submitting {side.capitalize()} order: \", e)\n",
    "\n",
    "        # Update previous_buy value\n",
    "    previous_buy = BUY\n",
    "else :\n",
    "    print('.', end='')"
   ]
  },
  {
   "cell_type": "code",
   "execution_count": 33,
   "metadata": {
    "tags": []
   },
   "outputs": [
    {
     "data": {
      "text/plain": [
       "1759.122"
      ]
     },
     "execution_count": 33,
     "metadata": {},
     "output_type": "execute_result"
    }
   ],
   "source": [
    "eth_usd_price"
   ]
  },
  {
   "cell_type": "code",
   "execution_count": 34,
   "metadata": {
    "tags": []
   },
   "outputs": [
    {
     "data": {
      "text/plain": [
       "53.26621345753518"
      ]
     },
     "execution_count": 34,
     "metadata": {},
     "output_type": "execute_result"
    }
   ],
   "source": [
    "quantity_to_buy"
   ]
  },
  {
   "cell_type": "code",
   "execution_count": 35,
   "metadata": {
    "tags": []
   },
   "outputs": [],
   "source": [
    "def trade_in_alpaca(quantity, tries=0):\n",
    "    if papertrading_model.predict(data_to_predict)[-1]==1 and papertrading_model.predict(data_to_predict)[-2]==0:\n",
    "        try:\n",
    "            alpaca_api.submit_order(symbol='BTC/USDT',qty=0.04,side=\"buy\",type='market', time_in_force='ioc')\n",
    "        except Exception as e:\n",
    "            if 'insufficient balance' in str(e) and tries<=10:\n",
    "                print(quantity, tries)\n",
    "                trade_in_alpaca(quantity=0.9*quantity, tries=tries+1)\n",
    "            else:\n",
    "                print(e)"
   ]
  },
  {
   "cell_type": "code",
   "execution_count": 19,
   "metadata": {
    "tags": []
   },
   "outputs": [],
   "source": [
    "trade_in_alpaca(quantity=quantity_to_buy)"
   ]
  },
  {
   "cell_type": "code",
   "execution_count": 20,
   "metadata": {
    "tags": []
   },
   "outputs": [
    {
     "data": {
      "text/plain": [
       "[Position({   'asset_class': 'crypto',\n",
       "     'asset_id': '35f33a69-f5d6-4dc9-b158-4485e5e92e4b',\n",
       "     'asset_marginable': False,\n",
       "     'avg_entry_price': '1726.9389622201723257',\n",
       "     'change_today': '-0.0387440192044649',\n",
       "     'cost_basis': '34538.259729355441819006',\n",
       "     'current_price': '1749.88',\n",
       "     'exchange': 'FTXU',\n",
       "     'lastday_price': '1820.41',\n",
       "     'market_value': '34997.0735835996',\n",
       "     'qty': '19.99969917',\n",
       "     'qty_available': '4.183035257',\n",
       "     'side': 'long',\n",
       "     'symbol': 'ETHUSD',\n",
       "     'unrealized_intraday_pl': '-104.3196048014504115240883194',\n",
       "     'unrealized_intraday_plpc': '-0.0029719505502682',\n",
       "     'unrealized_pl': '458.813854244158180994',\n",
       "     'unrealized_plpc': '0.0132842203932526'})]"
      ]
     },
     "execution_count": 20,
     "metadata": {},
     "output_type": "execute_result"
    }
   ],
   "source": [
    "alpaca_api.list_positions()"
   ]
  },
  {
   "cell_type": "code",
   "execution_count": 21,
   "metadata": {
    "tags": []
   },
   "outputs": [
    {
     "name": "stdout",
     "output_type": "stream",
     "text": [
      "Error submitting Sell order:  insufficient balance for ETH (requested: 19.99969917, available: 4.183035257)\n"
     ]
    }
   ],
   "source": [
    "import xgboost as xgb\n",
    "import alpaca_trade_api as tradeapi\n",
    "from finta import TA\n",
    "import pickle\n",
    "import os\n",
    "import time\n",
    "from dotenv import load_dotenv\n",
    "import pandas as pd\n",
    "\n",
    "# Load environment variables\n",
    "load_dotenv()\n",
    "\n",
    "# Set Alpaca API key and secret\n",
    "alpaca_api_key = os.getenv('ALPACA_API_KEY')\n",
    "alpaca_secret_key = os.getenv('ALPACA_SECRET_KEY')\n",
    "\n",
    "# Import saved XGB model\n",
    "with open('gbt_classifier.pkl', 'rb') as f:\n",
    "    papertrading_model = pickle.load(f)\n",
    "    \n",
    "scaler = pickle.load(open('scaler_model.pkl','rb'))\n",
    "\n",
    "# Load scaler model\n",
    "scaler = pickle.load(open('scaler_model.pkl', 'rb'))\n",
    "\n",
    "# Define list of features\n",
    "feats = ['HMA_5', 'RSI_5', 'ATR_14', 'RSI_14', 'RSI_150', 'cci']\n",
    "\n",
    "# Initialize Alpaca API\n",
    "alpaca_api = tradeapi.REST(alpaca_api_key, alpaca_secret_key, 'https://paper-api.alpaca.markets')\n",
    "\n",
    "\n",
    "# Get latest data on 1HR timeframe\n",
    "data_trade = alpaca_api.get_crypto_bars(['BTC/USDT'], tradeapi.TimeFrame.Hour, \"2023-01-01\").df\n",
    "\n",
    "# Compute the features needed for the prediction\n",
    "for time in [5, 14, 150]:\n",
    "    data_trade['RSI_'+str(time)] = TA.RSI(data_trade, time)\n",
    "data_trade['ATR_14'] = TA.ATR(data_trade, 14)\n",
    "data_trade['HMA_5'] = TA.HMA(data_trade, 5)\n",
    "data_trade['cci'] = TA.CCI(data_trade)\n",
    "\n",
    "# Transform preprocessed data to numpy array\n",
    "data_to_predict = scaler.transform(data_trade[feats].dropna())\n",
    "\n",
    "# Make predictions using the model\n",
    "predictions = papertrading_model.predict(data_to_predict)\n",
    "\n",
    "# Check the trade direction: BUY (=1) or SELL (=0)\n",
    "BUY = predictions[-1]\n",
    "\n",
    "# Get the current price of BTC in USD\n",
    "eth_usd_price = alpaca_api.get_latest_crypto_orderbook(['ETH/USD'])['ETH/USD'].asks[0].p\n",
    "\n",
    "# Calculate the quantity of BTC to buy or sell\n",
    "usd_balance = float(alpaca_api.get_account().cash)\n",
    "quantity_to_trade = usd_balance / eth_usd_price * 0.1\n",
    "\n",
    "# Define order parameters\n",
    "symbol = 'ETHUSD'\n",
    "order_type = 'limit'\n",
    "limit_price = eth_usd_price  # limit price for the order\n",
    "time_in_force = 'gtc'\n",
    "qty = quantity_to_trade  # quantity of ETH to trade\n",
    "\n",
    "if BUY:\n",
    "    side = 'buy'\n",
    "    limit_price += 0.0001\n",
    "else:\n",
    "    side = 'sell'\n",
    "    qty = float(alpaca_api.get_position(symbol).qty)  # quantity of ETH to sell (same as the current position)\n",
    "    limit_price -= 0.0001\n",
    "\n",
    "# Place order\n",
    "try:\n",
    "    order = alpaca_api.submit_order(\n",
    "        symbol=symbol,\n",
    "        qty=qty,\n",
    "        side=side,\n",
    "        type=order_type,\n",
    "        time_in_force=time_in_force,\n",
    "        limit_price=limit_price\n",
    "    )\n",
    "    print(f\"{side.capitalize()} order for {qty} {symbol} at {limit_price} submitted successfully.\")\n",
    "\n",
    "except Exception as e:\n",
    "    print(f\"Error submitting {side.capitalize()} order: \", e)\n",
    "\n"
   ]
  },
  {
   "cell_type": "code",
   "execution_count": 22,
   "metadata": {
    "tags": []
   },
   "outputs": [
    {
     "name": "stdout",
     "output_type": "stream",
     "text": [
      "AAAAA"
     ]
    }
   ],
   "source": [
    "print('A', end='')\n",
    "print('A', end='')\n",
    "print('A', end='')\n",
    "print('A', end='')\n",
    "print('A', end='')"
   ]
  },
  {
   "cell_type": "code",
   "execution_count": 23,
   "metadata": {
    "tags": []
   },
   "outputs": [
    {
     "name": "stdout",
     "output_type": "stream",
     "text": [
      "API is running! Status is ACTIVE for account #PA33SNGXN8PD \n"
     ]
    }
   ],
   "source": [
    "# Check if the API is running\n",
    "try:\n",
    "    account_info = alpaca_api.get_account()\n",
    "    print(f\"API is running! Status is {account_info.status} for account #{account_info.account_number} \")\n",
    "except Exception as e:\n",
    "    print(\"Error getting account info:\", e)"
   ]
  },
  {
   "cell_type": "code",
   "execution_count": 24,
   "metadata": {
    "tags": []
   },
   "outputs": [
    {
     "data": {
      "text/plain": [
       "Account({   'account_blocked': False,\n",
       "    'account_number': 'PA33SNGXN8PD',\n",
       "    'accrued_fees': '0',\n",
       "    'balance_asof': '2023-03-17',\n",
       "    'bod_dtbp': '0',\n",
       "    'buying_power': '132052.073155019068234666',\n",
       "    'cash': '66026.036577509534117333',\n",
       "    'created_at': '2022-06-05T15:16:17.049411Z',\n",
       "    'crypto_status': 'ACTIVE',\n",
       "    'crypto_tier': 2,\n",
       "    'currency': 'USD',\n",
       "    'daytrade_count': 0,\n",
       "    'daytrading_buying_power': '0',\n",
       "    'effective_buying_power': '132052.073155019068234666',\n",
       "    'equity': '101023.110161109134117333',\n",
       "    'id': '1db5bc60-d786-4889-8085-9b2adc0fe4b2',\n",
       "    'initial_margin': '0',\n",
       "    'last_equity': '101800.21333089512',\n",
       "    'last_maintenance_margin': '0',\n",
       "    'long_market_value': '34997.0735835996',\n",
       "    'maintenance_margin': '0',\n",
       "    'multiplier': '2',\n",
       "    'non_marginable_buying_power': '66026.03',\n",
       "    'pattern_day_trader': False,\n",
       "    'pending_transfer_in': '0',\n",
       "    'portfolio_value': '101023.110161109134117333',\n",
       "    'position_market_value': '34997.0735835996',\n",
       "    'regt_buying_power': '132052.073155019068234666',\n",
       "    'short_market_value': '0',\n",
       "    'shorting_enabled': True,\n",
       "    'sma': '90567.89',\n",
       "    'status': 'ACTIVE',\n",
       "    'trade_suspended_by_user': False,\n",
       "    'trading_blocked': False,\n",
       "    'transfers_blocked': False})"
      ]
     },
     "execution_count": 24,
     "metadata": {},
     "output_type": "execute_result"
    }
   ],
   "source": [
    "account_info\n",
    "\n"
   ]
  },
  {
   "cell_type": "code",
   "execution_count": 25,
   "metadata": {
    "tags": []
   },
   "outputs": [
    {
     "name": "stdout",
     "output_type": "stream",
     "text": [
      "ACTIVE\n"
     ]
    }
   ],
   "source": [
    "print(account_info.status)"
   ]
  },
  {
   "cell_type": "code",
   "execution_count": null,
   "metadata": {},
   "outputs": [],
   "source": []
  }
 ],
 "metadata": {
  "kernelspec": {
   "display_name": "Python 3 (ipykernel)",
   "language": "python",
   "name": "python3"
  },
  "language_info": {
   "codemirror_mode": {
    "name": "ipython",
    "version": 3
   },
   "file_extension": ".py",
   "mimetype": "text/x-python",
   "name": "python",
   "nbconvert_exporter": "python",
   "pygments_lexer": "ipython3",
   "version": "3.10.9"
  },
  "vscode": {
   "interpreter": {
    "hash": "b0fa6594d8f4cbf19f97940f81e996739fb7646882a419484c72d19e05852a7e"
   }
  }
 },
 "nbformat": 4,
 "nbformat_minor": 4
}
