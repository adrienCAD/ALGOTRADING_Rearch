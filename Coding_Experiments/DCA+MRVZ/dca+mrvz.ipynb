{
 "cells": [
  {
   "cell_type": "code",
   "execution_count": 3,
   "metadata": {},
   "outputs": [
    {
     "name": "stderr",
     "output_type": "stream",
     "text": [
      "/var/folders/x7/v571_3t12ddffkm6dh_29_tr0000gn/T/ipykernel_2018/3906328277.py:6: UserWarning: The argument 'infer_datetime_format' is deprecated and will be removed in a future version. A strict version of it is now the default, see https://pandas.pydata.org/pdeps/0004-consistent-to-datetime-parsing.html. You can safely remove this argument.\n",
      "  df['timestamp'] = pd.to_datetime(df['timestamp'], infer_datetime_format=True)\n"
     ]
    }
   ],
   "source": [
    "import pandas as pd\n",
    "import numpy as np\n",
    "\n",
    "# Load the data\n",
    "df = pd.read_csv(\"../../Resources/BTCUSDT-1h-data.csv\")\n",
    "df['timestamp'] = pd.to_datetime(df['timestamp'], infer_datetime_format=True)\n",
    "df.set_index('timestamp', inplace=True)\n",
    "\n",
    "# Calculate the daily returns\n",
    "df['return'] = df['close'].pct_change()\n",
    "\n",
    "# Calculate the cumulative sum of these returns\n",
    "df['cumulative_return'] = df['return'].cumsum()\n",
    "\n",
    "# Now we calculate the mean and standard deviation of these cumulative returns\n",
    "mean_cumulative_return = df['cumulative_return'].mean()\n",
    "std_cumulative_return = df['cumulative_return'].std()\n",
    "\n",
    "# Now we can calculate the MRV-Z score\n",
    "df['MRV_Z_score'] = (df['cumulative_return'] - mean_cumulative_return) / std_cumulative_return\n",
    "\n",
    "\n"
   ]
  },
  {
   "cell_type": "code",
   "execution_count": 4,
   "metadata": {},
   "outputs": [
    {
     "data": {
      "text/html": [
       "<div>\n",
       "<style scoped>\n",
       "    .dataframe tbody tr th:only-of-type {\n",
       "        vertical-align: middle;\n",
       "    }\n",
       "\n",
       "    .dataframe tbody tr th {\n",
       "        vertical-align: top;\n",
       "    }\n",
       "\n",
       "    .dataframe thead th {\n",
       "        text-align: right;\n",
       "    }\n",
       "</style>\n",
       "<table border=\"1\" class=\"dataframe\">\n",
       "  <thead>\n",
       "    <tr style=\"text-align: right;\">\n",
       "      <th></th>\n",
       "      <th>close</th>\n",
       "      <th>MRV_Z_score</th>\n",
       "    </tr>\n",
       "    <tr>\n",
       "      <th>timestamp</th>\n",
       "      <th></th>\n",
       "      <th></th>\n",
       "    </tr>\n",
       "  </thead>\n",
       "  <tbody>\n",
       "    <tr>\n",
       "      <th>2017-08-17 04:00:00</th>\n",
       "      <td>4308.83</td>\n",
       "      <td>NaN</td>\n",
       "    </tr>\n",
       "    <tr>\n",
       "      <th>2017-08-17 05:00:00</th>\n",
       "      <td>4315.32</td>\n",
       "      <td>-1.961481</td>\n",
       "    </tr>\n",
       "    <tr>\n",
       "      <th>2017-08-17 06:00:00</th>\n",
       "      <td>4324.35</td>\n",
       "      <td>-1.959810</td>\n",
       "    </tr>\n",
       "    <tr>\n",
       "      <th>2017-08-17 07:00:00</th>\n",
       "      <td>4349.99</td>\n",
       "      <td>-1.955077</td>\n",
       "    </tr>\n",
       "    <tr>\n",
       "      <th>2017-08-17 08:00:00</th>\n",
       "      <td>4360.69</td>\n",
       "      <td>-1.953114</td>\n",
       "    </tr>\n",
       "    <tr>\n",
       "      <th>...</th>\n",
       "      <td>...</td>\n",
       "      <td>...</td>\n",
       "    </tr>\n",
       "    <tr>\n",
       "      <th>2023-06-09 19:00:00</th>\n",
       "      <td>26407.15</td>\n",
       "      <td>1.072938</td>\n",
       "    </tr>\n",
       "    <tr>\n",
       "      <th>2023-06-09 20:00:00</th>\n",
       "      <td>26451.16</td>\n",
       "      <td>1.074269</td>\n",
       "    </tr>\n",
       "    <tr>\n",
       "      <th>2023-06-09 21:00:00</th>\n",
       "      <td>26479.52</td>\n",
       "      <td>1.075124</td>\n",
       "    </tr>\n",
       "    <tr>\n",
       "      <th>2023-06-09 22:00:00</th>\n",
       "      <td>26492.69</td>\n",
       "      <td>1.075521</td>\n",
       "    </tr>\n",
       "    <tr>\n",
       "      <th>2023-06-09 23:00:00</th>\n",
       "      <td>26467.09</td>\n",
       "      <td>1.074750</td>\n",
       "    </tr>\n",
       "  </tbody>\n",
       "</table>\n",
       "<p>50821 rows × 2 columns</p>\n",
       "</div>"
      ],
      "text/plain": [
       "                        close  MRV_Z_score\n",
       "timestamp                                 \n",
       "2017-08-17 04:00:00   4308.83          NaN\n",
       "2017-08-17 05:00:00   4315.32    -1.961481\n",
       "2017-08-17 06:00:00   4324.35    -1.959810\n",
       "2017-08-17 07:00:00   4349.99    -1.955077\n",
       "2017-08-17 08:00:00   4360.69    -1.953114\n",
       "...                       ...          ...\n",
       "2023-06-09 19:00:00  26407.15     1.072938\n",
       "2023-06-09 20:00:00  26451.16     1.074269\n",
       "2023-06-09 21:00:00  26479.52     1.075124\n",
       "2023-06-09 22:00:00  26492.69     1.075521\n",
       "2023-06-09 23:00:00  26467.09     1.074750\n",
       "\n",
       "[50821 rows x 2 columns]"
      ]
     },
     "execution_count": 4,
     "metadata": {},
     "output_type": "execute_result"
    }
   ],
   "source": [
    "df[['close','MRV_Z_score']]"
   ]
  },
  {
   "cell_type": "code",
   "execution_count": 7,
   "metadata": {},
   "outputs": [
    {
     "name": "stderr",
     "output_type": "stream",
     "text": [
      "WARNING:param.main: secondary_y option not found for line plot with bokeh; similar options include: []\n"
     ]
    },
    {
     "name": "stdout",
     "output_type": "stream",
     "text": [
      "Launching server at http://localhost:62574\n",
      "Launching server at http://localhost:62575\n"
     ]
    }
   ],
   "source": [
    "import hvplot.pandas  # Importing the hvplot functionality for pandas\n",
    "\n",
    "# Create an hvplot for 'MRV_Z_score'\n",
    "plot1 = df['MRV_Z_score'].hvplot(label='MRV_Z_score')\n",
    "\n",
    "# Create another hvplot for 'close'\n",
    "plot2 = df['close'].hvplot(label='Close', secondary_y=True)\n",
    "\n",
    "# Overlay the two plots\n",
    "final_plot = plot1 * plot2\n",
    "\n",
    "# Display the final plot\n",
    "hvplot.show(plot1)\n",
    "\n",
    "hvplot.show(plot2)\n"
   ]
  },
  {
   "cell_type": "code",
   "execution_count": null,
   "metadata": {},
   "outputs": [],
   "source": []
  }
 ],
 "metadata": {
  "kernelspec": {
   "display_name": "dev310",
   "language": "python",
   "name": "python3"
  },
  "language_info": {
   "codemirror_mode": {
    "name": "ipython",
    "version": 3
   },
   "file_extension": ".py",
   "mimetype": "text/x-python",
   "name": "python",
   "nbconvert_exporter": "python",
   "pygments_lexer": "ipython3",
   "version": "3.10.11"
  },
  "orig_nbformat": 4
 },
 "nbformat": 4,
 "nbformat_minor": 2
}
