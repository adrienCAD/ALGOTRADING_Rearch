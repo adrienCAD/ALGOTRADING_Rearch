{
 "cells": [
  {
   "cell_type": "code",
   "execution_count": 70,
   "metadata": {},
   "outputs": [],
   "source": [
    "import xgboost as xgb\n",
    "import alpaca_trade_api as tradeapi\n",
    "from finta import TA\n",
    "import pickle"
   ]
  },
  {
   "cell_type": "code",
   "execution_count": 72,
   "metadata": {},
   "outputs": [],
   "source": [
    "papertrading_model = xgb.XGBClassifier()\n",
    "papertrading_model.load_model('xgb_clf.bst')\n",
    "sclaer = pickle.load(open('scaler_model.pkl','rb'))\n",
    "\n"
   ]
  },
  {
   "cell_type": "code",
   "execution_count": 73,
   "metadata": {},
   "outputs": [],
   "source": [
    "columns_model = ['HMA_5', 'RSI_5', 'ATR_14', 'RSI_14', 'RSI_150', 'cci']"
   ]
  },
  {
   "cell_type": "code",
   "execution_count": 74,
   "metadata": {},
   "outputs": [],
   "source": [
    "alpaca_api = tradeapi.REST('','', 'https://paper-api.alpaca.markets')"
   ]
  },
  {
   "cell_type": "code",
   "execution_count": 84,
   "metadata": {},
   "outputs": [],
   "source": [
    "data_trade = alpaca_api.get_crypto_bars(['BTC/USDT'], tradeapi.TimeFrame.Hour, \"2023-01-01\").df"
   ]
  },
  {
   "cell_type": "code",
   "execution_count": 85,
   "metadata": {},
   "outputs": [],
   "source": [
    "for time in [5,14,150]:\n",
    "    data_trade['RSI_'+str(time)] = TA.RSI(data_trade, time)\n",
    "data_trade['ATR_14'] = TA.ATR(data_trade, 14)\n",
    "data_trade['HMA_5'] = TA.HMA(data_trade, 5)\n",
    "data_trade['cci'] = TA.CCI(data_trade)"
   ]
  },
  {
   "cell_type": "code",
   "execution_count": 86,
   "metadata": {},
   "outputs": [],
   "source": [
    "data_to_predict = sclaer.transform(data_trade[columns_model].dropna())"
   ]
  },
  {
   "cell_type": "code",
   "execution_count": 146,
   "metadata": {},
   "outputs": [],
   "source": [
    "quantity_to_buy = float(alpaca_api.get_position('USDTUSD').qty)/float(alpaca_api.get_latest_crypto_orderbook(['BTC/USDT'])['BTC/USDT'].bids[0].p)\n"
   ]
  },
  {
   "cell_type": "code",
   "execution_count": 145,
   "metadata": {},
   "outputs": [
    {
     "data": {
      "text/plain": [
       "20986.52579"
      ]
     },
     "execution_count": 145,
     "metadata": {},
     "output_type": "execute_result"
    }
   ],
   "source": [
    "alpaca_api.get_latest_crypto_orderbook(['BTC/USDT'])['BTC/USDT'].bids[0].p"
   ]
  },
  {
   "cell_type": "code",
   "execution_count": 147,
   "metadata": {},
   "outputs": [
    {
     "data": {
      "text/plain": [
       "0.04748258274826081"
      ]
     },
     "execution_count": 147,
     "metadata": {},
     "output_type": "execute_result"
    }
   ],
   "source": [
    "quantity_to_buy"
   ]
  },
  {
   "cell_type": "code",
   "execution_count": 177,
   "metadata": {},
   "outputs": [],
   "source": [
    "def trade_in_alpaca(quantity, tries=0):\n",
    "    if papertrading_model.predict(data_to_predict)[-1]==1 and papertrading_model.predict(data_to_predict)[-2]==0:\n",
    "        try:\n",
    "            alpaca_api.submit_order(symbol='BTC/USDT',qty=0.04,side=\"buy\",type='market', time_in_force='ioc')\n",
    "        except Exception as e:\n",
    "            if 'insufficient balance' in str(e) and tries<=10:\n",
    "                print(quantity, tries)\n",
    "                trade_in_alpaca(quantity=0.9*quantity, tries=tries+1)\n",
    "            else:\n",
    "                print(e)"
   ]
  },
  {
   "cell_type": "code",
   "execution_count": 178,
   "metadata": {},
   "outputs": [],
   "source": [
    "trade_in_alpaca(quantity=quantity_to_buy)"
   ]
  },
  {
   "cell_type": "code",
   "execution_count": 179,
   "metadata": {},
   "outputs": [
    {
     "data": {
      "text/plain": [
       "[Position({   'asset_class': 'crypto',\n",
       "     'asset_id': '2d8de014-3e11-499d-9578-59efc83522ba',\n",
       "     'asset_marginable': False,\n",
       "     'avg_entry_price': '1.00016629417383',\n",
       "     'change_today': '-0.0001000100010001',\n",
       "     'cost_basis': '996.691059344612548',\n",
       "     'current_price': '0.9998',\n",
       "     'exchange': 'FTXU',\n",
       "     'lastday_price': '0.9999',\n",
       "     'market_value': '996.3260379174028',\n",
       "     'qty': '996.525342986',\n",
       "     'qty_available': '996.525342986',\n",
       "     'side': 'long',\n",
       "     'symbol': 'USDTUSD',\n",
       "     'unrealized_intraday_pl': '-0.36502142720971425525638',\n",
       "     'unrealized_intraday_plpc': '-0.0003662332713707',\n",
       "     'unrealized_pl': '-0.365021427209748',\n",
       "     'unrealized_plpc': '-0.0003662332713707'})]"
      ]
     },
     "execution_count": 179,
     "metadata": {},
     "output_type": "execute_result"
    }
   ],
   "source": [
    "alpaca_api.list_positions()"
   ]
  }
 ],
 "metadata": {
  "kernelspec": {
   "display_name": "Python 3.10.8 64-bit",
   "language": "python",
   "name": "python3"
  },
  "language_info": {
   "codemirror_mode": {
    "name": "ipython",
    "version": 3
   },
   "file_extension": ".py",
   "mimetype": "text/x-python",
   "name": "python",
   "nbconvert_exporter": "python",
   "pygments_lexer": "ipython3",
   "version": "3.10.8"
  },
  "orig_nbformat": 4,
  "vscode": {
   "interpreter": {
    "hash": "b0fa6594d8f4cbf19f97940f81e996739fb7646882a419484c72d19e05852a7e"
   }
  }
 },
 "nbformat": 4,
 "nbformat_minor": 2
}
