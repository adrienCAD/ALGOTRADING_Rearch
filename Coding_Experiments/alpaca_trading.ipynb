{
 "cells": [
  {
   "cell_type": "code",
   "execution_count": 109,
   "metadata": {},
   "outputs": [],
   "source": [
    "import xgboost as xgb\n",
    "import alpaca_trade_api as tradeapi\n",
    "from finta import TA\n",
    "import pickle\n",
    "\n",
    "# Initial imports\n",
    "import os\n",
    "import requests\n",
    "import pandas as pd\n",
    "from dotenv import load_dotenv"
   ]
  },
  {
   "cell_type": "code",
   "execution_count": 110,
   "metadata": {},
   "outputs": [
    {
     "name": "stderr",
     "output_type": "stream",
     "text": [
      "/Users/adriencaudron/miniforge3/envs/dev310/lib/python3.10/site-packages/sklearn/base.py:318: UserWarning: Trying to unpickle estimator StandardScaler from version 1.2.1 when using version 1.2.2. This might lead to breaking code or invalid results. Use at your own risk. For more info please refer to:\n",
      "https://scikit-learn.org/stable/model_persistence.html#security-maintainability-limitations\n",
      "  warnings.warn(\n"
     ]
    }
   ],
   "source": [
    "papertrading_model = xgb.XGBClassifier()\n",
    "papertrading_model.load_model('xgb_clf.bst')\n",
    "scaler = pickle.load(open('scaler_model.pkl','rb'))\n",
    "\n"
   ]
  },
  {
   "cell_type": "code",
   "execution_count": 111,
   "metadata": {},
   "outputs": [],
   "source": [
    "feats = ['HMA_5', 'RSI_5', 'ATR_14', 'RSI_14', 'RSI_150', 'cci']"
   ]
  },
  {
   "cell_type": "code",
   "execution_count": 112,
   "metadata": {},
   "outputs": [],
   "source": [
    "alpaca_api = tradeapi.REST(alpaca_api_key,alpaca_secret_key, 'https://paper-api.alpaca.markets')"
   ]
  },
  {
   "cell_type": "code",
   "execution_count": 113,
   "metadata": {},
   "outputs": [],
   "source": [
    "data_trade = alpaca_api.get_crypto_bars(['BTC/USDT'], tradeapi.TimeFrame.Hour, \"2023-01-01\").df"
   ]
  },
  {
   "cell_type": "code",
   "execution_count": 114,
   "metadata": {},
   "outputs": [],
   "source": [
    "for time in [5,14,150]:\n",
    "    data_trade['RSI_'+str(time)] = TA.RSI(data_trade, time)\n",
    "data_trade['ATR_14'] = TA.ATR(data_trade, 14)\n",
    "data_trade['HMA_5'] = TA.HMA(data_trade, 5)\n",
    "data_trade['cci'] = TA.CCI(data_trade)"
   ]
  },
  {
   "cell_type": "code",
   "execution_count": 115,
   "metadata": {},
   "outputs": [
    {
     "data": {
      "text/plain": [
       "close          float64\n",
       "high           float64\n",
       "low            float64\n",
       "trade_count      int64\n",
       "open           float64\n",
       "volume         float64\n",
       "vwap           float64\n",
       "symbol          object\n",
       "RSI_5          float64\n",
       "RSI_14         float64\n",
       "RSI_150        float64\n",
       "ATR_14         float64\n",
       "HMA_5          float64\n",
       "cci            float64\n",
       "dtype: object"
      ]
     },
     "execution_count": 115,
     "metadata": {},
     "output_type": "execute_result"
    }
   ],
   "source": [
    "data_trade.dtypes"
   ]
  },
  {
   "cell_type": "code",
   "execution_count": 116,
   "metadata": {},
   "outputs": [],
   "source": [
    "# transform preprocessed data to numpy array\n",
    "data_to_predict = scaler.transform(data_trade[feats].dropna())"
   ]
  },
  {
   "cell_type": "code",
   "execution_count": 117,
   "metadata": {},
   "outputs": [
    {
     "data": {
      "text/plain": [
       "array([93.1525989 ,  1.08527707, 39.56610612,  2.13093867,  1.98656647,\n",
       "        0.56584018])"
      ]
     },
     "execution_count": 117,
     "metadata": {},
     "output_type": "execute_result"
    }
   ],
   "source": [
    "data_to_predict[-1]"
   ]
  },
  {
   "cell_type": "code",
   "execution_count": 118,
   "metadata": {},
   "outputs": [],
   "source": [
    "# make predictions using the model\n",
    "predictions = papertrading_model.predict(data_to_predict)"
   ]
  },
  {
   "cell_type": "code",
   "execution_count": 119,
   "metadata": {},
   "outputs": [
    {
     "data": {
      "text/plain": [
       "Order({   'asset_class': 'crypto',\n",
       "    'asset_id': 'a1733398-6acc-4e92-af24-0d0667f78713',\n",
       "    'canceled_at': None,\n",
       "    'client_order_id': 'a8ef9166-ff7e-4097-aa39-d7a291cb6913',\n",
       "    'created_at': '2023-03-14T03:28:22.333496888Z',\n",
       "    'expired_at': None,\n",
       "    'extended_hours': False,\n",
       "    'failed_at': None,\n",
       "    'filled_at': None,\n",
       "    'filled_avg_price': None,\n",
       "    'filled_qty': '0',\n",
       "    'hwm': None,\n",
       "    'id': '5fe2651b-df89-4185-8827-abe202577682',\n",
       "    'legs': None,\n",
       "    'limit_price': '1674.84753',\n",
       "    'notional': None,\n",
       "    'order_class': '',\n",
       "    'order_type': 'limit',\n",
       "    'qty': '5.742122469',\n",
       "    'replaced_at': None,\n",
       "    'replaced_by': None,\n",
       "    'replaces': None,\n",
       "    'side': 'buy',\n",
       "    'source': None,\n",
       "    'status': 'pending_new',\n",
       "    'stop_price': None,\n",
       "    'submitted_at': '2023-03-14T03:28:22.332410218Z',\n",
       "    'subtag': None,\n",
       "    'symbol': 'ETH/USD',\n",
       "    'time_in_force': 'gtc',\n",
       "    'trail_percent': None,\n",
       "    'trail_price': None,\n",
       "    'type': 'limit',\n",
       "    'updated_at': '2023-03-14T03:28:22.333557368Z'})"
      ]
     },
     "metadata": {},
     "output_type": "display_data"
    }
   ],
   "source": [
    "BUY = predictions[-1]\n",
    "display(order)"
   ]
  },
  {
   "cell_type": "code",
   "execution_count": 120,
   "metadata": {},
   "outputs": [],
   "source": [
    "# Get the current price of BTC in USD\n",
    "eth_usd_price = alpaca_api.get_latest_crypto_orderbook(['ETH/USD'])['ETH/USD'].asks[0].p\n",
    "\n",
    "# Calculate the quantity of BTC to buy\n",
    "usd_balance = float(alpaca_api.get_account().cash)\n",
    "quantity_to_buy = usd_balance / eth_usd_price * 0.1"
   ]
  },
  {
   "cell_type": "code",
   "execution_count": 121,
   "metadata": {},
   "outputs": [
    {
     "ename": "APIError",
     "evalue": "position does not exist",
     "output_type": "error",
     "traceback": [
      "\u001b[0;31m---------------------------------------------------------------------------\u001b[0m",
      "\u001b[0;31mHTTPError\u001b[0m                                 Traceback (most recent call last)",
      "File \u001b[0;32m~/miniforge3/envs/dev310/lib/python3.10/site-packages/alpaca_trade_api/rest.py:234\u001b[0m, in \u001b[0;36mREST._one_request\u001b[0;34m(self, method, url, opts, retry)\u001b[0m\n\u001b[1;32m    233\u001b[0m \u001b[39mtry\u001b[39;00m:\n\u001b[0;32m--> 234\u001b[0m     resp\u001b[39m.\u001b[39;49mraise_for_status()\n\u001b[1;32m    235\u001b[0m \u001b[39mexcept\u001b[39;00m HTTPError \u001b[39mas\u001b[39;00m http_error:\n\u001b[1;32m    236\u001b[0m     \u001b[39m# retry if we hit Rate Limit\u001b[39;00m\n",
      "File \u001b[0;32m~/miniforge3/envs/dev310/lib/python3.10/site-packages/requests/models.py:1021\u001b[0m, in \u001b[0;36mResponse.raise_for_status\u001b[0;34m(self)\u001b[0m\n\u001b[1;32m   1020\u001b[0m \u001b[39mif\u001b[39;00m http_error_msg:\n\u001b[0;32m-> 1021\u001b[0m     \u001b[39mraise\u001b[39;00m HTTPError(http_error_msg, response\u001b[39m=\u001b[39m\u001b[39mself\u001b[39m)\n",
      "\u001b[0;31mHTTPError\u001b[0m: 404 Client Error: Not Found for url: https://paper-api.alpaca.markets/v2/positions/ETHUSD",
      "\nDuring handling of the above exception, another exception occurred:\n",
      "\u001b[0;31mAPIError\u001b[0m                                  Traceback (most recent call last)",
      "Cell \u001b[0;32mIn[121], line 35\u001b[0m\n\u001b[1;32m     33\u001b[0m time_in_force \u001b[39m=\u001b[39m \u001b[39m'\u001b[39m\u001b[39mgtc\u001b[39m\u001b[39m'\u001b[39m\n\u001b[1;32m     34\u001b[0m qty \u001b[39m=\u001b[39m quantity_to_buy \u001b[39m# quantity of ETH to sell\u001b[39;00m\n\u001b[0;32m---> 35\u001b[0m qty \u001b[39m=\u001b[39m \u001b[39mfloat\u001b[39m(alpaca_api\u001b[39m.\u001b[39;49mget_position(symbol)\u001b[39m.\u001b[39mqty) \u001b[39m# quantity of ETH to sell (same as the current position)\u001b[39;00m\n\u001b[1;32m     36\u001b[0m side \u001b[39m=\u001b[39m \u001b[39m'\u001b[39m\u001b[39msell\u001b[39m\u001b[39m'\u001b[39m\n\u001b[1;32m     38\u001b[0m \u001b[39m# Place sell order\u001b[39;00m\n",
      "File \u001b[0;32m~/miniforge3/envs/dev310/lib/python3.10/site-packages/alpaca_trade_api/rest.py:504\u001b[0m, in \u001b[0;36mREST.get_position\u001b[0;34m(self, symbol)\u001b[0m\n\u001b[1;32m    502\u001b[0m \u001b[39mdef\u001b[39;00m \u001b[39mget_position\u001b[39m(\u001b[39mself\u001b[39m, symbol: \u001b[39mstr\u001b[39m) \u001b[39m-\u001b[39m\u001b[39m>\u001b[39m Position:\n\u001b[1;32m    503\u001b[0m \u001b[39m    \u001b[39m\u001b[39m\"\"\"Get an open position\"\"\"\u001b[39;00m\n\u001b[0;32m--> 504\u001b[0m     resp \u001b[39m=\u001b[39m \u001b[39mself\u001b[39;49m\u001b[39m.\u001b[39;49mget(\u001b[39m'\u001b[39;49m\u001b[39m/positions/\u001b[39;49m\u001b[39m{}\u001b[39;49;00m\u001b[39m'\u001b[39;49m\u001b[39m.\u001b[39;49mformat(symbol))\n\u001b[1;32m    505\u001b[0m     \u001b[39mreturn\u001b[39;00m \u001b[39mself\u001b[39m\u001b[39m.\u001b[39mresponse_wrapper(resp, Position)\n",
      "File \u001b[0;32m~/miniforge3/envs/dev310/lib/python3.10/site-packages/alpaca_trade_api/rest.py:250\u001b[0m, in \u001b[0;36mREST.get\u001b[0;34m(self, path, data)\u001b[0m\n\u001b[1;32m    249\u001b[0m \u001b[39mdef\u001b[39;00m \u001b[39mget\u001b[39m(\u001b[39mself\u001b[39m, path, data\u001b[39m=\u001b[39m\u001b[39mNone\u001b[39;00m):\n\u001b[0;32m--> 250\u001b[0m     \u001b[39mreturn\u001b[39;00m \u001b[39mself\u001b[39;49m\u001b[39m.\u001b[39;49m_request(\u001b[39m'\u001b[39;49m\u001b[39mGET\u001b[39;49m\u001b[39m'\u001b[39;49m, path, data)\n",
      "File \u001b[0;32m~/miniforge3/envs/dev310/lib/python3.10/site-packages/alpaca_trade_api/rest.py:213\u001b[0m, in \u001b[0;36mREST._request\u001b[0;34m(self, method, path, data, base_url, api_version)\u001b[0m\n\u001b[1;32m    211\u001b[0m \u001b[39mwhile\u001b[39;00m retry \u001b[39m>\u001b[39m\u001b[39m=\u001b[39m \u001b[39m0\u001b[39m:\n\u001b[1;32m    212\u001b[0m     \u001b[39mtry\u001b[39;00m:\n\u001b[0;32m--> 213\u001b[0m         \u001b[39mreturn\u001b[39;00m \u001b[39mself\u001b[39;49m\u001b[39m.\u001b[39;49m_one_request(method, url, opts, retry)\n\u001b[1;32m    214\u001b[0m     \u001b[39mexcept\u001b[39;00m RetryException:\n\u001b[1;32m    215\u001b[0m         retry_wait \u001b[39m=\u001b[39m \u001b[39mself\u001b[39m\u001b[39m.\u001b[39m_retry_wait\n",
      "File \u001b[0;32m~/miniforge3/envs/dev310/lib/python3.10/site-packages/alpaca_trade_api/rest.py:242\u001b[0m, in \u001b[0;36mREST._one_request\u001b[0;34m(self, method, url, opts, retry)\u001b[0m\n\u001b[1;32m    240\u001b[0m     error \u001b[39m=\u001b[39m resp\u001b[39m.\u001b[39mjson()\n\u001b[1;32m    241\u001b[0m     \u001b[39mif\u001b[39;00m \u001b[39m'\u001b[39m\u001b[39mcode\u001b[39m\u001b[39m'\u001b[39m \u001b[39min\u001b[39;00m error:\n\u001b[0;32m--> 242\u001b[0m         \u001b[39mraise\u001b[39;00m APIError(error, http_error)\n\u001b[1;32m    243\u001b[0m \u001b[39melse\u001b[39;00m:\n\u001b[1;32m    244\u001b[0m     \u001b[39mraise\u001b[39;00m\n",
      "\u001b[0;31mAPIError\u001b[0m: position does not exist"
     ]
    }
   ],
   "source": [
    "if BUY: \n",
    "\n",
    "## TEST to place a buy order for 500 USD worth of ETH using Alpaca API in Python:\n",
    "\n",
    "    # Define order parameters\n",
    "    symbol = 'ETHUSD'\n",
    "    order_type = 'limit'\n",
    "    limit_price = eth_usd_price # limit price for the buy order\n",
    "    time_in_force = 'gtc'\n",
    "    qty = quantity_to_buy # quantity of ETH to buy\n",
    "    side = 'buy'\n",
    "\n",
    "    # Place buy order\n",
    "    try:\n",
    "        order = alpaca_api.submit_order(\n",
    "            symbol=symbol,\n",
    "            qty=qty,\n",
    "            side=side,\n",
    "            type=order_type,\n",
    "            time_in_force=time_in_force,\n",
    "            limit_price=limit_price\n",
    "        )\n",
    "        print(f\"Buy order for {qty} {symbol} at {limit_price} submitted successfully.\")\n",
    "\n",
    "    except Exception as e:\n",
    "        print(\"Error submitting buy order: \", e)\n",
    "\n",
    "else:\n",
    "    # Define order parameters\n",
    "    symbol = 'ETHUSD'\n",
    "    order_type = 'limit'\n",
    "    limit_price = eth_usd_price # limit price for the sell order\n",
    "    time_in_force = 'gtc'\n",
    "    qty = quantity_to_buy # quantity of ETH to sell\n",
    "    qty = float(alpaca_api.get_position(symbol).qty) # quantity of ETH to sell (same as the current position)\n",
    "    side = 'sell'\n",
    "\n",
    "    # Place sell order\n",
    "    try:\n",
    "        order = alpaca_api.submit_order(\n",
    "            symbol=symbol,\n",
    "            qty=qty,\n",
    "            side=side,\n",
    "            type=order_type,\n",
    "            time_in_force=time_in_force,\n",
    "            limit_price=limit_price\n",
    "        )\n",
    "        print(f\"Sell order for {qty} {symbol} at {limit_price} submitted successfully.\")\n",
    "\n",
    "    except Exception as e:\n",
    "        print(\"Error submitting sell order: \", e)\n",
    "\n"
   ]
  },
  {
   "cell_type": "code",
   "execution_count": null,
   "metadata": {},
   "outputs": [
    {
     "data": {
      "text/plain": [
       "1674.84753"
      ]
     },
     "execution_count": 104,
     "metadata": {},
     "output_type": "execute_result"
    }
   ],
   "source": [
    "eth_usd_price"
   ]
  },
  {
   "cell_type": "code",
   "execution_count": null,
   "metadata": {},
   "outputs": [
    {
     "data": {
      "text/plain": [
       "5.742122469204705"
      ]
     },
     "execution_count": 105,
     "metadata": {},
     "output_type": "execute_result"
    }
   ],
   "source": [
    "quantity_to_buy"
   ]
  },
  {
   "cell_type": "code",
   "execution_count": null,
   "metadata": {},
   "outputs": [],
   "source": [
    "def trade_in_alpaca(quantity, tries=0):\n",
    "    if papertrading_model.predict(data_to_predict)[-1]==1 and papertrading_model.predict(data_to_predict)[-2]==0:\n",
    "        try:\n",
    "            alpaca_api.submit_order(symbol='BTC/USDT',qty=0.04,side=\"buy\",type='market', time_in_force='ioc')\n",
    "        except Exception as e:\n",
    "            if 'insufficient balance' in str(e) and tries<=10:\n",
    "                print(quantity, tries)\n",
    "                trade_in_alpaca(quantity=0.9*quantity, tries=tries+1)\n",
    "            else:\n",
    "                print(e)"
   ]
  },
  {
   "cell_type": "code",
   "execution_count": null,
   "metadata": {},
   "outputs": [],
   "source": [
    "trade_in_alpaca(quantity=quantity_to_buy)"
   ]
  },
  {
   "cell_type": "code",
   "execution_count": null,
   "metadata": {},
   "outputs": [
    {
     "data": {
      "text/plain": [
       "[Position({   'asset_class': 'us_equity',\n",
       "     'asset_id': 'b0b6dd9d-8b9b-48a9-ba46-b9d54906e415',\n",
       "     'asset_marginable': False,\n",
       "     'avg_entry_price': '125.25',\n",
       "     'change_today': '0.0028577125008307',\n",
       "     'cost_basis': '125.25',\n",
       "     'current_price': '150.9',\n",
       "     'exchange': 'NASDAQ',\n",
       "     'lastday_price': '150.47',\n",
       "     'market_value': '150.9',\n",
       "     'qty': '1',\n",
       "     'qty_available': '0',\n",
       "     'side': 'long',\n",
       "     'symbol': 'AAPL',\n",
       "     'unrealized_intraday_pl': '0.43',\n",
       "     'unrealized_intraday_plpc': '0.0028577125008307',\n",
       "     'unrealized_pl': '25.65',\n",
       "     'unrealized_plpc': '0.2047904191616766'}),\n",
       " Position({   'asset_class': 'us_equity',\n",
       "     'asset_id': 'f30d734c-2806-4d0d-b145-f9fade61432b',\n",
       "     'asset_marginable': False,\n",
       "     'avg_entry_price': '111.43',\n",
       "     'change_today': '0.0036002618372245',\n",
       "     'cost_basis': '2228.6',\n",
       "     'current_price': '91.99',\n",
       "     'exchange': 'NASDAQ',\n",
       "     'lastday_price': '91.66',\n",
       "     'market_value': '1839.8',\n",
       "     'qty': '20',\n",
       "     'qty_available': '0',\n",
       "     'side': 'long',\n",
       "     'symbol': 'GOOG',\n",
       "     'unrealized_intraday_pl': '6.6',\n",
       "     'unrealized_intraday_plpc': '0.0036002618372245',\n",
       "     'unrealized_pl': '-388.8',\n",
       "     'unrealized_plpc': '-0.174459301803823'}),\n",
       " Position({   'asset_class': 'us_equity',\n",
       "     'asset_id': '8ccae427-5dd0-45b3-b5fe-7ba5e422c766',\n",
       "     'asset_marginable': False,\n",
       "     'avg_entry_price': '159.3657142857142857',\n",
       "     'change_today': '-0.0004585052728106',\n",
       "     'cost_basis': '1115.56',\n",
       "     'current_price': '174.4',\n",
       "     'exchange': 'NASDAQ',\n",
       "     'lastday_price': '174.48',\n",
       "     'market_value': '1220.8',\n",
       "     'qty': '7',\n",
       "     'qty_available': '0',\n",
       "     'side': 'long',\n",
       "     'symbol': 'TSLA',\n",
       "     'unrealized_intraday_pl': '-0.56',\n",
       "     'unrealized_intraday_plpc': '-0.0004585052728106',\n",
       "     'unrealized_pl': '105.24',\n",
       "     'unrealized_plpc': '0.0943382695686471'})]"
      ]
     },
     "execution_count": 108,
     "metadata": {},
     "output_type": "execute_result"
    }
   ],
   "source": [
    "alpaca_api.list_positions()"
   ]
  }
 ],
 "metadata": {
  "kernelspec": {
   "display_name": "Python 3.10.8 64-bit",
   "language": "python",
   "name": "python3"
  },
  "language_info": {
   "codemirror_mode": {
    "name": "ipython",
    "version": 3
   },
   "file_extension": ".py",
   "mimetype": "text/x-python",
   "name": "python",
   "nbconvert_exporter": "python",
   "pygments_lexer": "ipython3",
   "version": "3.10.8"
  },
  "orig_nbformat": 4,
  "vscode": {
   "interpreter": {
    "hash": "b0fa6594d8f4cbf19f97940f81e996739fb7646882a419484c72d19e05852a7e"
   }
  }
 },
 "nbformat": 4,
 "nbformat_minor": 2
}
