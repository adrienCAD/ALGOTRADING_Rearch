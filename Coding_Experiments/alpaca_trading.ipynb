{
 "cells": [
  {
   "cell_type": "code",
   "execution_count": 1,
   "metadata": {
    "tags": []
   },
   "outputs": [],
   "source": [
    "import xgboost as xgb\n",
    "import alpaca_trade_api as tradeapi\n",
    "from finta import TA\n",
    "import pickle\n",
    "\n",
    "# Initial imports\n",
    "import os\n",
    "import requests\n",
    "import pandas as pd\n",
    "from dotenv import load_dotenv"
   ]
  },
  {
   "cell_type": "code",
   "execution_count": 2,
   "metadata": {
    "tags": []
   },
   "outputs": [
    {
     "name": "stderr",
     "output_type": "stream",
     "text": [
      "/Users/adriencaudron/miniforge3/envs/dev310/lib/python3.10/site-packages/sklearn/base.py:318: UserWarning: Trying to unpickle estimator StandardScaler from version 1.2.1 when using version 1.2.2. This might lead to breaking code or invalid results. Use at your own risk. For more info please refer to:\n",
      "https://scikit-learn.org/stable/model_persistence.html#security-maintainability-limitations\n",
      "  warnings.warn(\n"
     ]
    }
   ],
   "source": [
    "papertrading_model = xgb.XGBClassifier()\n",
    "papertrading_model.load_model('xgb_clf.bst')\n",
    "scaler = pickle.load(open('scaler_model.pkl','rb'))\n",
    "\n"
   ]
  },
  {
   "cell_type": "code",
   "execution_count": 3,
   "metadata": {
    "tags": []
   },
   "outputs": [],
   "source": [
    "feats = ['HMA_5', 'RSI_5', 'ATR_14', 'RSI_14', 'RSI_150', 'cci']"
   ]
  },
  {
   "cell_type": "code",
   "execution_count": 4,
   "metadata": {
    "tags": []
   },
   "outputs": [],
   "source": [
    "# Load environment variables\n",
    "load_dotenv()\n",
    "\n",
    "# Set Alpaca API key and secret\n",
    "alpaca_api_key = os.getenv('ALPACA_API_KEY')\n",
    "alpaca_secret_key = os.getenv('ALPACA_SECRET_KEY')"
   ]
  },
  {
   "cell_type": "code",
   "execution_count": 5,
   "metadata": {
    "tags": []
   },
   "outputs": [
    {
     "data": {
      "text/plain": [
       "'PK2RJWWRGDVPCFAT43MM'"
      ]
     },
     "execution_count": 5,
     "metadata": {},
     "output_type": "execute_result"
    }
   ],
   "source": [
    "alpaca_api_key"
   ]
  },
  {
   "cell_type": "code",
   "execution_count": 7,
   "metadata": {
    "tags": []
   },
   "outputs": [],
   "source": [
    "alpaca_api = tradeapi.REST(alpaca_api_key,alpaca_secret_key, 'https://paper-api.alpaca.markets')"
   ]
  },
  {
   "cell_type": "code",
   "execution_count": 8,
   "metadata": {
    "tags": []
   },
   "outputs": [],
   "source": [
    "data_trade = alpaca_api.get_crypto_bars(['BTC/USDT'], tradeapi.TimeFrame.Hour, \"2023-01-01\").df"
   ]
  },
  {
   "cell_type": "code",
   "execution_count": 9,
   "metadata": {
    "tags": []
   },
   "outputs": [],
   "source": [
    "for time in [5,14,150]:\n",
    "    data_trade['RSI_'+str(time)] = TA.RSI(data_trade, time)\n",
    "data_trade['ATR_14'] = TA.ATR(data_trade, 14)\n",
    "data_trade['HMA_5'] = TA.HMA(data_trade, 5)\n",
    "data_trade['cci'] = TA.CCI(data_trade)"
   ]
  },
  {
   "cell_type": "code",
   "execution_count": 10,
   "metadata": {
    "tags": []
   },
   "outputs": [
    {
     "data": {
      "text/plain": [
       "close          float64\n",
       "high           float64\n",
       "low            float64\n",
       "trade_count      int64\n",
       "open           float64\n",
       "volume         float64\n",
       "vwap           float64\n",
       "symbol          object\n",
       "RSI_5          float64\n",
       "RSI_14         float64\n",
       "RSI_150        float64\n",
       "ATR_14         float64\n",
       "HMA_5          float64\n",
       "cci            float64\n",
       "dtype: object"
      ]
     },
     "execution_count": 10,
     "metadata": {},
     "output_type": "execute_result"
    }
   ],
   "source": [
    "data_trade.dtypes"
   ]
  },
  {
   "cell_type": "code",
   "execution_count": 11,
   "metadata": {
    "tags": []
   },
   "outputs": [],
   "source": [
    "# transform preprocessed data to numpy array\n",
    "data_to_predict = scaler.transform(data_trade[feats].dropna())"
   ]
  },
  {
   "cell_type": "code",
   "execution_count": 12,
   "metadata": {
    "tags": []
   },
   "outputs": [
    {
     "data": {
      "text/plain": [
       "array([92.82887896, -0.32046975, 40.00417649, -0.42515975,  1.25311037,\n",
       "       -0.67546317])"
      ]
     },
     "execution_count": 12,
     "metadata": {},
     "output_type": "execute_result"
    }
   ],
   "source": [
    "data_to_predict[-1]"
   ]
  },
  {
   "cell_type": "code",
   "execution_count": 13,
   "metadata": {
    "tags": []
   },
   "outputs": [],
   "source": [
    "# make predictions using the model\n",
    "predictions = papertrading_model.predict(data_to_predict)"
   ]
  },
  {
   "cell_type": "code",
   "execution_count": 14,
   "metadata": {
    "tags": []
   },
   "outputs": [
    {
     "data": {
      "text/plain": [
       "1"
      ]
     },
     "metadata": {},
     "output_type": "display_data"
    }
   ],
   "source": [
    "BUY = predictions[-1]\n",
    "display(BUY)"
   ]
  },
  {
   "cell_type": "code",
   "execution_count": 15,
   "metadata": {
    "tags": []
   },
   "outputs": [],
   "source": [
    "# Get the current price of BTC in USD\n",
    "eth_usd_price = alpaca_api.get_latest_crypto_orderbook(['ETH/USD'])['ETH/USD'].asks[0].p\n",
    "\n",
    "# Calculate the quantity of BTC to buy\n",
    "usd_balance = float(alpaca_api.get_account().cash)\n",
    "quantity_to_buy = usd_balance / eth_usd_price * 0.1"
   ]
  },
  {
   "cell_type": "code",
   "execution_count": 16,
   "metadata": {
    "tags": []
   },
   "outputs": [
    {
     "name": "stdout",
     "output_type": "stream",
     "text": [
      "Buy order for 4.410182541971596 ETHUSD at 1662.3 submitted successfully.\n"
     ]
    }
   ],
   "source": [
    "if BUY: \n",
    "\n",
    "## TEST to place a buy order for 500 USD worth of ETH using Alpaca API in Python:\n",
    "\n",
    "    # Define order parameters\n",
    "    symbol = 'ETHUSD'\n",
    "    order_type = 'limit'\n",
    "    limit_price = eth_usd_price # limit price for the buy order\n",
    "    time_in_force = 'gtc'\n",
    "    qty = quantity_to_buy # quantity of ETH to trade\n",
    "    side = 'buy'\n",
    "\n",
    "    # Place buy order\n",
    "    try:\n",
    "        order = alpaca_api.submit_order(\n",
    "            symbol=symbol,\n",
    "            qty=qty,\n",
    "            side=side,\n",
    "            type=order_type,\n",
    "            time_in_force=time_in_force,\n",
    "            limit_price=limit_price +0.0001\n",
    "        )\n",
    "        print(f\"Buy order for {qty} {symbol} at {limit_price} submitted successfully.\")\n",
    "\n",
    "    except Exception as e:\n",
    "        print(\"Error submitting buy order: \", e)\n",
    "\n",
    "else:\n",
    "    # Define order parameters\n",
    "    symbol = 'ETHUSD'\n",
    "    order_type = 'limit'\n",
    "    limit_price = eth_usd_price  # limit price for the sell order\n",
    "    time_in_force = 'gtc'\n",
    "    qty = quantity_to_buy # quantity of ETH to sell\n",
    "    qty = float(alpaca_api.get_position(symbol).qty) # quantity of ETH to sell (same as the current position)\n",
    "    side = 'sell'\n",
    "\n",
    "    # Place sell order\n",
    "    try:\n",
    "        order = alpaca_api.submit_order(\n",
    "            symbol=symbol,\n",
    "            qty=qty,\n",
    "            side=side,\n",
    "            type=order_type,\n",
    "            time_in_force=time_in_force,\n",
    "            limit_price=limit_price -0.0001\n",
    "        )\n",
    "        print(f\"Sell order for {qty} {symbol} at {limit_price} submitted successfully.\")\n",
    "\n",
    "    except Exception as e:\n",
    "        print(\"Error submitting sell order: \", e)\n",
    "\n"
   ]
  },
  {
   "cell_type": "code",
   "execution_count": 17,
   "metadata": {
    "tags": []
   },
   "outputs": [
    {
     "data": {
      "text/plain": [
       "1662.3"
      ]
     },
     "execution_count": 17,
     "metadata": {},
     "output_type": "execute_result"
    }
   ],
   "source": [
    "eth_usd_price"
   ]
  },
  {
   "cell_type": "code",
   "execution_count": 18,
   "metadata": {
    "tags": []
   },
   "outputs": [
    {
     "data": {
      "text/plain": [
       "4.410182541971596"
      ]
     },
     "execution_count": 18,
     "metadata": {},
     "output_type": "execute_result"
    }
   ],
   "source": [
    "quantity_to_buy"
   ]
  },
  {
   "cell_type": "code",
   "execution_count": 19,
   "metadata": {
    "tags": []
   },
   "outputs": [],
   "source": [
    "def trade_in_alpaca(quantity, tries=0):\n",
    "    if papertrading_model.predict(data_to_predict)[-1]==1 and papertrading_model.predict(data_to_predict)[-2]==0:\n",
    "        try:\n",
    "            alpaca_api.submit_order(symbol='BTC/USDT',qty=0.04,side=\"buy\",type='market', time_in_force='ioc')\n",
    "        except Exception as e:\n",
    "            if 'insufficient balance' in str(e) and tries<=10:\n",
    "                print(quantity, tries)\n",
    "                trade_in_alpaca(quantity=0.9*quantity, tries=tries+1)\n",
    "            else:\n",
    "                print(e)"
   ]
  },
  {
   "cell_type": "code",
   "execution_count": 20,
   "metadata": {
    "tags": []
   },
   "outputs": [],
   "source": [
    "trade_in_alpaca(quantity=quantity_to_buy)"
   ]
  },
  {
   "cell_type": "code",
   "execution_count": 21,
   "metadata": {
    "tags": []
   },
   "outputs": [
    {
     "data": {
      "text/plain": [
       "[Position({   'asset_class': 'crypto',\n",
       "     'asset_id': '35f33a69-f5d6-4dc9-b158-4485e5e92e4b',\n",
       "     'asset_marginable': False,\n",
       "     'avg_entry_price': '1664.1606557645993435',\n",
       "     'change_today': '-0.0308052172289888',\n",
       "     'cost_basis': '34490.009209651345586',\n",
       "     'current_price': '1661.51',\n",
       "     'exchange': 'FTXU',\n",
       "     'lastday_price': '1714.32',\n",
       "     'market_value': '34435.07392355624',\n",
       "     'qty': '20.725168024',\n",
       "     'qty_available': '20.725168024',\n",
       "     'side': 'long',\n",
       "     'symbol': 'ETHUSD',\n",
       "     'unrealized_intraday_pl': '-54.935286095105585077592244',\n",
       "     'unrealized_intraday_plpc': '-0.0015927883857953',\n",
       "     'unrealized_pl': '-54.935286095105586',\n",
       "     'unrealized_plpc': '-0.0015927883857953'})]"
      ]
     },
     "execution_count": 21,
     "metadata": {},
     "output_type": "execute_result"
    }
   ],
   "source": [
    "alpaca_api.list_positions()"
   ]
  },
  {
   "cell_type": "code",
   "execution_count": 22,
   "metadata": {},
   "outputs": [
    {
     "name": "stderr",
     "output_type": "stream",
     "text": [
      "/Users/adriencaudron/miniforge3/envs/dev310/lib/python3.10/site-packages/sklearn/base.py:318: UserWarning: Trying to unpickle estimator StandardScaler from version 1.2.1 when using version 1.2.2. This might lead to breaking code or invalid results. Use at your own risk. For more info please refer to:\n",
      "https://scikit-learn.org/stable/model_persistence.html#security-maintainability-limitations\n",
      "  warnings.warn(\n"
     ]
    },
    {
     "name": "stdout",
     "output_type": "stream",
     "text": [
      "Buy order for 3.989147426002818 ETHUSD at 1654.0001 submitted successfully.\n"
     ]
    }
   ],
   "source": [
    "import xgboost as xgb\n",
    "import alpaca_trade_api as tradeapi\n",
    "from finta import TA\n",
    "import pickle\n",
    "import os\n",
    "import time\n",
    "from dotenv import load_dotenv\n",
    "import pandas as pd\n",
    "\n",
    "# Load environment variables\n",
    "load_dotenv()\n",
    "\n",
    "# Set Alpaca API key and secret\n",
    "alpaca_api_key = os.getenv('ALPACA_API_KEY')\n",
    "alpaca_secret_key = os.getenv('ALPACA_SECRET_KEY')\n",
    "\n",
    "# Import saved XGB model\n",
    "papertrading_model = xgb.XGBClassifier()\n",
    "papertrading_model.load_model('xgb_clf.bst')\n",
    "\n",
    "# Load scaler model\n",
    "scaler = pickle.load(open('scaler_model.pkl', 'rb'))\n",
    "\n",
    "# Define list of features\n",
    "feats = ['HMA_5', 'RSI_5', 'ATR_14', 'RSI_14', 'RSI_150', 'cci']\n",
    "\n",
    "# Initialize Alpaca API\n",
    "alpaca_api = tradeapi.REST(alpaca_api_key, alpaca_secret_key, 'https://paper-api.alpaca.markets')\n",
    "\n",
    "\n",
    "# Get latest data on 1HR timeframe\n",
    "data_trade = alpaca_api.get_crypto_bars(['BTC/USDT'], tradeapi.TimeFrame.Hour, \"2023-01-01\").df\n",
    "\n",
    "# Compute the features needed for the prediction\n",
    "for time in [5, 14, 150]:\n",
    "    data_trade['RSI_'+str(time)] = TA.RSI(data_trade, time)\n",
    "data_trade['ATR_14'] = TA.ATR(data_trade, 14)\n",
    "data_trade['HMA_5'] = TA.HMA(data_trade, 5)\n",
    "data_trade['cci'] = TA.CCI(data_trade)\n",
    "\n",
    "# Transform preprocessed data to numpy array\n",
    "data_to_predict = scaler.transform(data_trade[feats].dropna())\n",
    "\n",
    "# Make predictions using the model\n",
    "predictions = papertrading_model.predict(data_to_predict)\n",
    "\n",
    "# Check the trade direction: BUY (=1) or SELL (=0)\n",
    "BUY = predictions[-1]\n",
    "\n",
    "# Get the current price of BTC in USD\n",
    "eth_usd_price = alpaca_api.get_latest_crypto_orderbook(['ETH/USD'])['ETH/USD'].asks[0].p\n",
    "\n",
    "# Calculate the quantity of BTC to buy or sell\n",
    "usd_balance = float(alpaca_api.get_account().cash)\n",
    "quantity_to_trade = usd_balance / eth_usd_price * 0.1\n",
    "\n",
    "# Define order parameters\n",
    "symbol = 'ETHUSD'\n",
    "order_type = 'limit'\n",
    "limit_price = eth_usd_price  # limit price for the order\n",
    "time_in_force = 'gtc'\n",
    "qty = quantity_to_trade  # quantity of ETH to trade\n",
    "\n",
    "if BUY:\n",
    "    side = 'buy'\n",
    "    limit_price += 0.0001\n",
    "else:\n",
    "    side = 'sell'\n",
    "    qty = float(alpaca_api.get_position(symbol).qty)  # quantity of ETH to sell (same as the current position)\n",
    "    limit_price -= 0.0001\n",
    "\n",
    "# Place order\n",
    "try:\n",
    "    order = alpaca_api.submit_order(\n",
    "        symbol=symbol,\n",
    "        qty=qty,\n",
    "        side=side,\n",
    "        type=order_type,\n",
    "        time_in_force=time_in_force,\n",
    "        limit_price=limit_price\n",
    "    )\n",
    "    print(f\"{side.capitalize()} order for {qty} {symbol} at {limit_price} submitted successfully.\")\n",
    "\n",
    "except Exception as e:\n",
    "    print(f\"Error submitting {side.capitalize()} order: \", e)\n",
    "\n"
   ]
  },
  {
   "cell_type": "code",
   "execution_count": null,
   "metadata": {},
   "outputs": [],
   "source": []
  }
 ],
 "metadata": {
  "kernelspec": {
   "display_name": "Python 3 (ipykernel)",
   "language": "python",
   "name": "python3"
  },
  "language_info": {
   "codemirror_mode": {
    "name": "ipython",
    "version": 3
   },
   "file_extension": ".py",
   "mimetype": "text/x-python",
   "name": "python",
   "nbconvert_exporter": "python",
   "pygments_lexer": "ipython3",
   "version": "3.10.9"
  },
  "vscode": {
   "interpreter": {
    "hash": "b0fa6594d8f4cbf19f97940f81e996739fb7646882a419484c72d19e05852a7e"
   }
  }
 },
 "nbformat": 4,
 "nbformat_minor": 4
}
