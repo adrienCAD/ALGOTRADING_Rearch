{
 "cells": [
  {
   "cell_type": "code",
   "execution_count": 52,
   "metadata": {},
   "outputs": [],
   "source": [
    "import xgboost as xgb\n",
    "import alpaca_trade_api as tradeapi\n",
    "from finta import TA\n",
    "import pickle\n",
    "\n",
    "# Initial imports\n",
    "import os\n",
    "import requests\n",
    "import pandas as pd\n",
    "from dotenv import load_dotenv"
   ]
  },
  {
   "cell_type": "code",
   "execution_count": 53,
   "metadata": {},
   "outputs": [
    {
     "name": "stderr",
     "output_type": "stream",
     "text": [
      "/Users/adriencaudron/miniforge3/envs/dev310/lib/python3.10/site-packages/sklearn/base.py:318: UserWarning: Trying to unpickle estimator StandardScaler from version 1.2.1 when using version 1.2.2. This might lead to breaking code or invalid results. Use at your own risk. For more info please refer to:\n",
      "https://scikit-learn.org/stable/model_persistence.html#security-maintainability-limitations\n",
      "  warnings.warn(\n"
     ]
    }
   ],
   "source": [
    "papertrading_model = xgb.XGBClassifier()\n",
    "papertrading_model.load_model('xgb_clf.bst')\n",
    "scaler = pickle.load(open('scaler_model.pkl','rb'))\n",
    "\n"
   ]
  },
  {
   "cell_type": "code",
   "execution_count": 54,
   "metadata": {},
   "outputs": [],
   "source": [
    "feats = ['HMA_5', 'RSI_5', 'ATR_14', 'RSI_14', 'RSI_150', 'cci']"
   ]
  },
  {
   "cell_type": "code",
   "execution_count": 55,
   "metadata": {},
   "outputs": [],
   "source": [
    "alpaca_api = tradeapi.REST(alpaca_api_key,alpaca_secret_key, 'https://paper-api.alpaca.markets')"
   ]
  },
  {
   "cell_type": "code",
   "execution_count": 56,
   "metadata": {},
   "outputs": [],
   "source": [
    "data_trade = alpaca_api.get_crypto_bars(['BTC/USDT'], tradeapi.TimeFrame.Hour, \"2023-01-01\").df"
   ]
  },
  {
   "cell_type": "code",
   "execution_count": 57,
   "metadata": {},
   "outputs": [],
   "source": [
    "for time in [5,14,150]:\n",
    "    data_trade['RSI_'+str(time)] = TA.RSI(data_trade, time)\n",
    "data_trade['ATR_14'] = TA.ATR(data_trade, 14)\n",
    "data_trade['HMA_5'] = TA.HMA(data_trade, 5)\n",
    "data_trade['cci'] = TA.CCI(data_trade)"
   ]
  },
  {
   "cell_type": "code",
   "execution_count": 58,
   "metadata": {},
   "outputs": [
    {
     "data": {
      "text/html": [
       "<div>\n",
       "<style scoped>\n",
       "    .dataframe tbody tr th:only-of-type {\n",
       "        vertical-align: middle;\n",
       "    }\n",
       "\n",
       "    .dataframe tbody tr th {\n",
       "        vertical-align: top;\n",
       "    }\n",
       "\n",
       "    .dataframe thead th {\n",
       "        text-align: right;\n",
       "    }\n",
       "</style>\n",
       "<table border=\"1\" class=\"dataframe\">\n",
       "  <thead>\n",
       "    <tr style=\"text-align: right;\">\n",
       "      <th></th>\n",
       "      <th>close</th>\n",
       "      <th>high</th>\n",
       "      <th>low</th>\n",
       "      <th>trade_count</th>\n",
       "      <th>open</th>\n",
       "      <th>volume</th>\n",
       "      <th>vwap</th>\n",
       "      <th>symbol</th>\n",
       "      <th>RSI_5</th>\n",
       "      <th>RSI_14</th>\n",
       "      <th>RSI_150</th>\n",
       "      <th>ATR_14</th>\n",
       "      <th>HMA_5</th>\n",
       "      <th>cci</th>\n",
       "    </tr>\n",
       "    <tr>\n",
       "      <th>timestamp</th>\n",
       "      <th></th>\n",
       "      <th></th>\n",
       "      <th></th>\n",
       "      <th></th>\n",
       "      <th></th>\n",
       "      <th></th>\n",
       "      <th></th>\n",
       "      <th></th>\n",
       "      <th></th>\n",
       "      <th></th>\n",
       "      <th></th>\n",
       "      <th></th>\n",
       "      <th></th>\n",
       "      <th></th>\n",
       "    </tr>\n",
       "  </thead>\n",
       "  <tbody>\n",
       "    <tr>\n",
       "      <th>2023-01-01 00:00:00+00:00</th>\n",
       "      <td>16526.09</td>\n",
       "      <td>16533.00</td>\n",
       "      <td>16500.63</td>\n",
       "      <td>469</td>\n",
       "      <td>16524.41</td>\n",
       "      <td>16.810355</td>\n",
       "      <td>16519.905696</td>\n",
       "      <td>BTC/USDT</td>\n",
       "      <td>NaN</td>\n",
       "      <td>NaN</td>\n",
       "      <td>NaN</td>\n",
       "      <td>NaN</td>\n",
       "      <td>NaN</td>\n",
       "      <td>NaN</td>\n",
       "    </tr>\n",
       "    <tr>\n",
       "      <th>2023-01-01 01:00:00+00:00</th>\n",
       "      <td>16546.99</td>\n",
       "      <td>16546.99</td>\n",
       "      <td>16518.79</td>\n",
       "      <td>421</td>\n",
       "      <td>16528.29</td>\n",
       "      <td>11.604272</td>\n",
       "      <td>16530.709062</td>\n",
       "      <td>BTC/USDT</td>\n",
       "      <td>100.000000</td>\n",
       "      <td>100.000000</td>\n",
       "      <td>100.000000</td>\n",
       "      <td>NaN</td>\n",
       "      <td>NaN</td>\n",
       "      <td>66.666667</td>\n",
       "    </tr>\n",
       "    <tr>\n",
       "      <th>2023-01-01 02:00:00+00:00</th>\n",
       "      <td>16539.38</td>\n",
       "      <td>16554.60</td>\n",
       "      <td>16529.80</td>\n",
       "      <td>243</td>\n",
       "      <td>16537.70</td>\n",
       "      <td>9.440864</td>\n",
       "      <td>16539.153275</td>\n",
       "      <td>BTC/USDT</td>\n",
       "      <td>68.721743</td>\n",
       "      <td>71.832699</td>\n",
       "      <td>73.176520</td>\n",
       "      <td>NaN</td>\n",
       "      <td>NaN</td>\n",
       "      <td>64.102126</td>\n",
       "    </tr>\n",
       "    <tr>\n",
       "      <th>2023-01-01 03:00:00+00:00</th>\n",
       "      <td>16521.36</td>\n",
       "      <td>16537.40</td>\n",
       "      <td>16508.76</td>\n",
       "      <td>322</td>\n",
       "      <td>16536.57</td>\n",
       "      <td>12.603051</td>\n",
       "      <td>16527.232191</td>\n",
       "      <td>BTC/USDT</td>\n",
       "      <td>35.684559</td>\n",
       "      <td>41.804749</td>\n",
       "      <td>44.635454</td>\n",
       "      <td>NaN</td>\n",
       "      <td>NaN</td>\n",
       "      <td>-57.152441</td>\n",
       "    </tr>\n",
       "    <tr>\n",
       "      <th>2023-01-01 04:00:00+00:00</th>\n",
       "      <td>16520.57</td>\n",
       "      <td>16533.60</td>\n",
       "      <td>16514.69</td>\n",
       "      <td>245</td>\n",
       "      <td>16530.82</td>\n",
       "      <td>6.139097</td>\n",
       "      <td>16524.210877</td>\n",
       "      <td>BTC/USDT</td>\n",
       "      <td>34.768595</td>\n",
       "      <td>40.995657</td>\n",
       "      <td>43.880112</td>\n",
       "      <td>NaN</td>\n",
       "      <td>NaN</td>\n",
       "      <td>-46.385258</td>\n",
       "    </tr>\n",
       "    <tr>\n",
       "      <th>...</th>\n",
       "      <td>...</td>\n",
       "      <td>...</td>\n",
       "      <td>...</td>\n",
       "      <td>...</td>\n",
       "      <td>...</td>\n",
       "      <td>...</td>\n",
       "      <td>...</td>\n",
       "      <td>...</td>\n",
       "      <td>...</td>\n",
       "      <td>...</td>\n",
       "      <td>...</td>\n",
       "      <td>...</td>\n",
       "      <td>...</td>\n",
       "      <td>...</td>\n",
       "    </tr>\n",
       "    <tr>\n",
       "      <th>2023-03-13 20:00:00+00:00</th>\n",
       "      <td>24136.06</td>\n",
       "      <td>24311.82</td>\n",
       "      <td>24063.84</td>\n",
       "      <td>2593</td>\n",
       "      <td>24273.31</td>\n",
       "      <td>191.102030</td>\n",
       "      <td>24174.956257</td>\n",
       "      <td>BTC/USDT</td>\n",
       "      <td>79.026858</td>\n",
       "      <td>79.926357</td>\n",
       "      <td>57.942146</td>\n",
       "      <td>424.510000</td>\n",
       "      <td>24244.798222</td>\n",
       "      <td>113.115714</td>\n",
       "    </tr>\n",
       "    <tr>\n",
       "      <th>2023-03-13 21:00:00+00:00</th>\n",
       "      <td>24081.79</td>\n",
       "      <td>24213.42</td>\n",
       "      <td>24043.17</td>\n",
       "      <td>1181</td>\n",
       "      <td>24137.99</td>\n",
       "      <td>53.203990</td>\n",
       "      <td>24135.518584</td>\n",
       "      <td>BTC/USDT</td>\n",
       "      <td>73.636229</td>\n",
       "      <td>78.201474</td>\n",
       "      <td>57.723558</td>\n",
       "      <td>423.792143</td>\n",
       "      <td>24087.176222</td>\n",
       "      <td>93.901846</td>\n",
       "    </tr>\n",
       "    <tr>\n",
       "      <th>2023-03-13 22:00:00+00:00</th>\n",
       "      <td>24199.82</td>\n",
       "      <td>24232.95</td>\n",
       "      <td>24079.65</td>\n",
       "      <td>1555</td>\n",
       "      <td>24079.65</td>\n",
       "      <td>108.127990</td>\n",
       "      <td>24175.819906</td>\n",
       "      <td>BTC/USDT</td>\n",
       "      <td>77.760381</td>\n",
       "      <td>79.250289</td>\n",
       "      <td>58.069892</td>\n",
       "      <td>409.147143</td>\n",
       "      <td>24113.632667</td>\n",
       "      <td>87.032091</td>\n",
       "    </tr>\n",
       "    <tr>\n",
       "      <th>2023-03-13 23:00:00+00:00</th>\n",
       "      <td>24108.06</td>\n",
       "      <td>24212.48</td>\n",
       "      <td>23940.35</td>\n",
       "      <td>2609</td>\n",
       "      <td>24203.44</td>\n",
       "      <td>169.920350</td>\n",
       "      <td>24051.904942</td>\n",
       "      <td>BTC/USDT</td>\n",
       "      <td>67.499211</td>\n",
       "      <td>76.181501</td>\n",
       "      <td>57.699946</td>\n",
       "      <td>396.857143</td>\n",
       "      <td>24140.305333</td>\n",
       "      <td>72.482129</td>\n",
       "    </tr>\n",
       "    <tr>\n",
       "      <th>2023-03-14 00:00:00+00:00</th>\n",
       "      <td>24008.67</td>\n",
       "      <td>24151.63</td>\n",
       "      <td>23996.05</td>\n",
       "      <td>1100</td>\n",
       "      <td>24113.70</td>\n",
       "      <td>66.960910</td>\n",
       "      <td>24071.519581</td>\n",
       "      <td>BTC/USDT</td>\n",
       "      <td>57.267545</td>\n",
       "      <td>72.889173</td>\n",
       "      <td>57.301883</td>\n",
       "      <td>382.755000</td>\n",
       "      <td>24039.626000</td>\n",
       "      <td>63.015088</td>\n",
       "    </tr>\n",
       "  </tbody>\n",
       "</table>\n",
       "<p>1723 rows × 14 columns</p>\n",
       "</div>"
      ],
      "text/plain": [
       "                              close      high       low  trade_count  \\\n",
       "timestamp                                                              \n",
       "2023-01-01 00:00:00+00:00  16526.09  16533.00  16500.63          469   \n",
       "2023-01-01 01:00:00+00:00  16546.99  16546.99  16518.79          421   \n",
       "2023-01-01 02:00:00+00:00  16539.38  16554.60  16529.80          243   \n",
       "2023-01-01 03:00:00+00:00  16521.36  16537.40  16508.76          322   \n",
       "2023-01-01 04:00:00+00:00  16520.57  16533.60  16514.69          245   \n",
       "...                             ...       ...       ...          ...   \n",
       "2023-03-13 20:00:00+00:00  24136.06  24311.82  24063.84         2593   \n",
       "2023-03-13 21:00:00+00:00  24081.79  24213.42  24043.17         1181   \n",
       "2023-03-13 22:00:00+00:00  24199.82  24232.95  24079.65         1555   \n",
       "2023-03-13 23:00:00+00:00  24108.06  24212.48  23940.35         2609   \n",
       "2023-03-14 00:00:00+00:00  24008.67  24151.63  23996.05         1100   \n",
       "\n",
       "                               open      volume          vwap    symbol  \\\n",
       "timestamp                                                                 \n",
       "2023-01-01 00:00:00+00:00  16524.41   16.810355  16519.905696  BTC/USDT   \n",
       "2023-01-01 01:00:00+00:00  16528.29   11.604272  16530.709062  BTC/USDT   \n",
       "2023-01-01 02:00:00+00:00  16537.70    9.440864  16539.153275  BTC/USDT   \n",
       "2023-01-01 03:00:00+00:00  16536.57   12.603051  16527.232191  BTC/USDT   \n",
       "2023-01-01 04:00:00+00:00  16530.82    6.139097  16524.210877  BTC/USDT   \n",
       "...                             ...         ...           ...       ...   \n",
       "2023-03-13 20:00:00+00:00  24273.31  191.102030  24174.956257  BTC/USDT   \n",
       "2023-03-13 21:00:00+00:00  24137.99   53.203990  24135.518584  BTC/USDT   \n",
       "2023-03-13 22:00:00+00:00  24079.65  108.127990  24175.819906  BTC/USDT   \n",
       "2023-03-13 23:00:00+00:00  24203.44  169.920350  24051.904942  BTC/USDT   \n",
       "2023-03-14 00:00:00+00:00  24113.70   66.960910  24071.519581  BTC/USDT   \n",
       "\n",
       "                                RSI_5      RSI_14     RSI_150      ATR_14  \\\n",
       "timestamp                                                                   \n",
       "2023-01-01 00:00:00+00:00         NaN         NaN         NaN         NaN   \n",
       "2023-01-01 01:00:00+00:00  100.000000  100.000000  100.000000         NaN   \n",
       "2023-01-01 02:00:00+00:00   68.721743   71.832699   73.176520         NaN   \n",
       "2023-01-01 03:00:00+00:00   35.684559   41.804749   44.635454         NaN   \n",
       "2023-01-01 04:00:00+00:00   34.768595   40.995657   43.880112         NaN   \n",
       "...                               ...         ...         ...         ...   \n",
       "2023-03-13 20:00:00+00:00   79.026858   79.926357   57.942146  424.510000   \n",
       "2023-03-13 21:00:00+00:00   73.636229   78.201474   57.723558  423.792143   \n",
       "2023-03-13 22:00:00+00:00   77.760381   79.250289   58.069892  409.147143   \n",
       "2023-03-13 23:00:00+00:00   67.499211   76.181501   57.699946  396.857143   \n",
       "2023-03-14 00:00:00+00:00   57.267545   72.889173   57.301883  382.755000   \n",
       "\n",
       "                                  HMA_5         cci  \n",
       "timestamp                                            \n",
       "2023-01-01 00:00:00+00:00           NaN         NaN  \n",
       "2023-01-01 01:00:00+00:00           NaN   66.666667  \n",
       "2023-01-01 02:00:00+00:00           NaN   64.102126  \n",
       "2023-01-01 03:00:00+00:00           NaN  -57.152441  \n",
       "2023-01-01 04:00:00+00:00           NaN  -46.385258  \n",
       "...                                 ...         ...  \n",
       "2023-03-13 20:00:00+00:00  24244.798222  113.115714  \n",
       "2023-03-13 21:00:00+00:00  24087.176222   93.901846  \n",
       "2023-03-13 22:00:00+00:00  24113.632667   87.032091  \n",
       "2023-03-13 23:00:00+00:00  24140.305333   72.482129  \n",
       "2023-03-14 00:00:00+00:00  24039.626000   63.015088  \n",
       "\n",
       "[1723 rows x 14 columns]"
      ]
     },
     "execution_count": 58,
     "metadata": {},
     "output_type": "execute_result"
    }
   ],
   "source": [
    "data_trade"
   ]
  },
  {
   "cell_type": "code",
   "execution_count": 59,
   "metadata": {},
   "outputs": [],
   "source": [
    "data_to_predict = scaler.transform(data_trade[feats].dropna())"
   ]
  },
  {
   "cell_type": "code",
   "execution_count": 60,
   "metadata": {},
   "outputs": [
    {
     "data": {
      "text/plain": [
       "array([91.86807861,  0.38909019, 39.86967123,  1.89722956,  1.75711158,\n",
       "        0.55700817])"
      ]
     },
     "execution_count": 60,
     "metadata": {},
     "output_type": "execute_result"
    }
   ],
   "source": [
    "data_to_predict[-1]"
   ]
  },
  {
   "cell_type": "code",
   "execution_count": 64,
   "metadata": {},
   "outputs": [
    {
     "name": "stdout",
     "output_type": "stream",
     "text": [
      "Buy order for 0.25 ETHUSD at 1400 submitted successfully.\n"
     ]
    }
   ],
   "source": [
    "## TEST to place a buy order for 500 USD worth of ETH using Alpaca API in Python:\n",
    "\n",
    "# Define order parameters\n",
    "symbol = 'ETHUSD'\n",
    "order_type = 'limit'\n",
    "limit_price = '1400' # limit price for the buy order\n",
    "time_in_force = 'gtc'\n",
    "qty = '0.25' # quantity of ETH to buy\n",
    "side = 'buy'\n",
    "\n",
    "# Place buy order\n",
    "try:\n",
    "    order = alpaca_api.submit_order(\n",
    "        symbol=symbol,\n",
    "        qty=qty,\n",
    "        side=side,\n",
    "        type=order_type,\n",
    "        time_in_force=time_in_force,\n",
    "        limit_price=limit_price\n",
    "    )\n",
    "    print(f\"Buy order for {qty} {symbol} at {limit_price} submitted successfully.\")\n",
    "except Exception as e:\n",
    "    print(\"Error submitting buy order: \", e)\n"
   ]
  },
  {
   "cell_type": "code",
   "execution_count": 61,
   "metadata": {},
   "outputs": [
    {
     "ename": "APIError",
     "evalue": "position does not exist",
     "output_type": "error",
     "traceback": [
      "\u001b[0;31m---------------------------------------------------------------------------\u001b[0m",
      "\u001b[0;31mHTTPError\u001b[0m                                 Traceback (most recent call last)",
      "File \u001b[0;32m~/miniforge3/envs/dev310/lib/python3.10/site-packages/alpaca_trade_api/rest.py:234\u001b[0m, in \u001b[0;36mREST._one_request\u001b[0;34m(self, method, url, opts, retry)\u001b[0m\n\u001b[1;32m    233\u001b[0m \u001b[39mtry\u001b[39;00m:\n\u001b[0;32m--> 234\u001b[0m     resp\u001b[39m.\u001b[39;49mraise_for_status()\n\u001b[1;32m    235\u001b[0m \u001b[39mexcept\u001b[39;00m HTTPError \u001b[39mas\u001b[39;00m http_error:\n\u001b[1;32m    236\u001b[0m     \u001b[39m# retry if we hit Rate Limit\u001b[39;00m\n",
      "File \u001b[0;32m~/miniforge3/envs/dev310/lib/python3.10/site-packages/requests/models.py:1021\u001b[0m, in \u001b[0;36mResponse.raise_for_status\u001b[0;34m(self)\u001b[0m\n\u001b[1;32m   1020\u001b[0m \u001b[39mif\u001b[39;00m http_error_msg:\n\u001b[0;32m-> 1021\u001b[0m     \u001b[39mraise\u001b[39;00m HTTPError(http_error_msg, response\u001b[39m=\u001b[39m\u001b[39mself\u001b[39m)\n",
      "\u001b[0;31mHTTPError\u001b[0m: 404 Client Error: Not Found for url: https://paper-api.alpaca.markets/v2/positions/ETHUSD",
      "\nDuring handling of the above exception, another exception occurred:\n",
      "\u001b[0;31mAPIError\u001b[0m                                  Traceback (most recent call last)",
      "Cell \u001b[0;32mIn[61], line 1\u001b[0m\n\u001b[0;32m----> 1\u001b[0m quantity_to_buy \u001b[39m=\u001b[39m \u001b[39mfloat\u001b[39m(alpaca_api\u001b[39m.\u001b[39;49mget_position(\u001b[39m'\u001b[39;49m\u001b[39mETHUSD\u001b[39;49m\u001b[39m'\u001b[39;49m)\u001b[39m.\u001b[39mqty)\u001b[39m/\u001b[39m\u001b[39mfloat\u001b[39m(alpaca_api\u001b[39m.\u001b[39mget_latest_crypto_orderbook([\u001b[39m'\u001b[39m\u001b[39mBTC/USDT\u001b[39m\u001b[39m'\u001b[39m])[\u001b[39m'\u001b[39m\u001b[39mBTC/USDT\u001b[39m\u001b[39m'\u001b[39m]\u001b[39m.\u001b[39mbids[\u001b[39m0\u001b[39m]\u001b[39m.\u001b[39mp)\n",
      "File \u001b[0;32m~/miniforge3/envs/dev310/lib/python3.10/site-packages/alpaca_trade_api/rest.py:504\u001b[0m, in \u001b[0;36mREST.get_position\u001b[0;34m(self, symbol)\u001b[0m\n\u001b[1;32m    502\u001b[0m \u001b[39mdef\u001b[39;00m \u001b[39mget_position\u001b[39m(\u001b[39mself\u001b[39m, symbol: \u001b[39mstr\u001b[39m) \u001b[39m-\u001b[39m\u001b[39m>\u001b[39m Position:\n\u001b[1;32m    503\u001b[0m \u001b[39m    \u001b[39m\u001b[39m\"\"\"Get an open position\"\"\"\u001b[39;00m\n\u001b[0;32m--> 504\u001b[0m     resp \u001b[39m=\u001b[39m \u001b[39mself\u001b[39;49m\u001b[39m.\u001b[39;49mget(\u001b[39m'\u001b[39;49m\u001b[39m/positions/\u001b[39;49m\u001b[39m{}\u001b[39;49;00m\u001b[39m'\u001b[39;49m\u001b[39m.\u001b[39;49mformat(symbol))\n\u001b[1;32m    505\u001b[0m     \u001b[39mreturn\u001b[39;00m \u001b[39mself\u001b[39m\u001b[39m.\u001b[39mresponse_wrapper(resp, Position)\n",
      "File \u001b[0;32m~/miniforge3/envs/dev310/lib/python3.10/site-packages/alpaca_trade_api/rest.py:250\u001b[0m, in \u001b[0;36mREST.get\u001b[0;34m(self, path, data)\u001b[0m\n\u001b[1;32m    249\u001b[0m \u001b[39mdef\u001b[39;00m \u001b[39mget\u001b[39m(\u001b[39mself\u001b[39m, path, data\u001b[39m=\u001b[39m\u001b[39mNone\u001b[39;00m):\n\u001b[0;32m--> 250\u001b[0m     \u001b[39mreturn\u001b[39;00m \u001b[39mself\u001b[39;49m\u001b[39m.\u001b[39;49m_request(\u001b[39m'\u001b[39;49m\u001b[39mGET\u001b[39;49m\u001b[39m'\u001b[39;49m, path, data)\n",
      "File \u001b[0;32m~/miniforge3/envs/dev310/lib/python3.10/site-packages/alpaca_trade_api/rest.py:213\u001b[0m, in \u001b[0;36mREST._request\u001b[0;34m(self, method, path, data, base_url, api_version)\u001b[0m\n\u001b[1;32m    211\u001b[0m \u001b[39mwhile\u001b[39;00m retry \u001b[39m>\u001b[39m\u001b[39m=\u001b[39m \u001b[39m0\u001b[39m:\n\u001b[1;32m    212\u001b[0m     \u001b[39mtry\u001b[39;00m:\n\u001b[0;32m--> 213\u001b[0m         \u001b[39mreturn\u001b[39;00m \u001b[39mself\u001b[39;49m\u001b[39m.\u001b[39;49m_one_request(method, url, opts, retry)\n\u001b[1;32m    214\u001b[0m     \u001b[39mexcept\u001b[39;00m RetryException:\n\u001b[1;32m    215\u001b[0m         retry_wait \u001b[39m=\u001b[39m \u001b[39mself\u001b[39m\u001b[39m.\u001b[39m_retry_wait\n",
      "File \u001b[0;32m~/miniforge3/envs/dev310/lib/python3.10/site-packages/alpaca_trade_api/rest.py:242\u001b[0m, in \u001b[0;36mREST._one_request\u001b[0;34m(self, method, url, opts, retry)\u001b[0m\n\u001b[1;32m    240\u001b[0m     error \u001b[39m=\u001b[39m resp\u001b[39m.\u001b[39mjson()\n\u001b[1;32m    241\u001b[0m     \u001b[39mif\u001b[39;00m \u001b[39m'\u001b[39m\u001b[39mcode\u001b[39m\u001b[39m'\u001b[39m \u001b[39min\u001b[39;00m error:\n\u001b[0;32m--> 242\u001b[0m         \u001b[39mraise\u001b[39;00m APIError(error, http_error)\n\u001b[1;32m    243\u001b[0m \u001b[39melse\u001b[39;00m:\n\u001b[1;32m    244\u001b[0m     \u001b[39mraise\u001b[39;00m\n",
      "\u001b[0;31mAPIError\u001b[0m: position does not exist"
     ]
    }
   ],
   "source": [
    "quantity_to_buy = float(alpaca_api.get_position('USDTUSD').qty)/float(alpaca_api.get_latest_crypto_orderbook(['BTC/USDT'])['BTC/USDT'].bids[0].p)\n"
   ]
  },
  {
   "cell_type": "code",
   "execution_count": null,
   "metadata": {},
   "outputs": [
    {
     "data": {
      "text/plain": [
       "23995.808802"
      ]
     },
     "execution_count": 36,
     "metadata": {},
     "output_type": "execute_result"
    }
   ],
   "source": [
    "alpaca_api.get_latest_crypto_orderbook(['BTC/USDT'])['BTC/USDT'].bids[0].p"
   ]
  },
  {
   "cell_type": "code",
   "execution_count": null,
   "metadata": {},
   "outputs": [
    {
     "ename": "NameError",
     "evalue": "name 'quantity_to_buy' is not defined",
     "output_type": "error",
     "traceback": [
      "\u001b[0;31m---------------------------------------------------------------------------\u001b[0m",
      "\u001b[0;31mNameError\u001b[0m                                 Traceback (most recent call last)",
      "Cell \u001b[0;32mIn[37], line 1\u001b[0m\n\u001b[0;32m----> 1\u001b[0m quantity_to_buy\n",
      "\u001b[0;31mNameError\u001b[0m: name 'quantity_to_buy' is not defined"
     ]
    }
   ],
   "source": [
    "quantity_to_buy"
   ]
  },
  {
   "cell_type": "code",
   "execution_count": null,
   "metadata": {},
   "outputs": [],
   "source": [
    "def trade_in_alpaca(quantity, tries=0):\n",
    "    if papertrading_model.predict(data_to_predict)[-1]==1 and papertrading_model.predict(data_to_predict)[-2]==0:\n",
    "        try:\n",
    "            alpaca_api.submit_order(symbol='BTC/USDT',qty=0.04,side=\"buy\",type='market', time_in_force='ioc')\n",
    "        except Exception as e:\n",
    "            if 'insufficient balance' in str(e) and tries<=10:\n",
    "                print(quantity, tries)\n",
    "                trade_in_alpaca(quantity=0.9*quantity, tries=tries+1)\n",
    "            else:\n",
    "                print(e)"
   ]
  },
  {
   "cell_type": "code",
   "execution_count": null,
   "metadata": {},
   "outputs": [
    {
     "ename": "NameError",
     "evalue": "name 'quantity_to_buy' is not defined",
     "output_type": "error",
     "traceback": [
      "\u001b[0;31m---------------------------------------------------------------------------\u001b[0m",
      "\u001b[0;31mNameError\u001b[0m                                 Traceback (most recent call last)",
      "Cell \u001b[0;32mIn[39], line 1\u001b[0m\n\u001b[0;32m----> 1\u001b[0m trade_in_alpaca(quantity\u001b[39m=\u001b[39mquantity_to_buy)\n",
      "\u001b[0;31mNameError\u001b[0m: name 'quantity_to_buy' is not defined"
     ]
    }
   ],
   "source": [
    "trade_in_alpaca(quantity=quantity_to_buy)"
   ]
  },
  {
   "cell_type": "code",
   "execution_count": null,
   "metadata": {},
   "outputs": [
    {
     "data": {
      "text/plain": [
       "[Position({   'asset_class': 'us_equity',\n",
       "     'asset_id': 'b0b6dd9d-8b9b-48a9-ba46-b9d54906e415',\n",
       "     'asset_marginable': False,\n",
       "     'avg_entry_price': '125.25',\n",
       "     'change_today': '0.0161616161616162',\n",
       "     'cost_basis': '125.25',\n",
       "     'current_price': '150.9',\n",
       "     'exchange': 'NASDAQ',\n",
       "     'lastday_price': '148.5',\n",
       "     'market_value': '150.9',\n",
       "     'qty': '1',\n",
       "     'qty_available': '1',\n",
       "     'side': 'long',\n",
       "     'symbol': 'AAPL',\n",
       "     'unrealized_intraday_pl': '2.4',\n",
       "     'unrealized_intraday_plpc': '0.0161616161616162',\n",
       "     'unrealized_pl': '25.65',\n",
       "     'unrealized_plpc': '0.2047904191616766'}),\n",
       " Position({   'asset_class': 'us_equity',\n",
       "     'asset_id': 'f30d734c-2806-4d0d-b145-f9fade61432b',\n",
       "     'asset_marginable': False,\n",
       "     'avg_entry_price': '111.43',\n",
       "     'change_today': '0.0107680474673113',\n",
       "     'cost_basis': '2228.6',\n",
       "     'current_price': '91.99',\n",
       "     'exchange': 'NASDAQ',\n",
       "     'lastday_price': '91.01',\n",
       "     'market_value': '1839.8',\n",
       "     'qty': '20',\n",
       "     'qty_available': '20',\n",
       "     'side': 'long',\n",
       "     'symbol': 'GOOG',\n",
       "     'unrealized_intraday_pl': '19.6',\n",
       "     'unrealized_intraday_plpc': '0.0107680474673113',\n",
       "     'unrealized_pl': '-388.8',\n",
       "     'unrealized_plpc': '-0.174459301803823'}),\n",
       " Position({   'asset_class': 'us_equity',\n",
       "     'asset_id': '8ccae427-5dd0-45b3-b5fe-7ba5e422c766',\n",
       "     'asset_marginable': False,\n",
       "     'avg_entry_price': '159.3657142857142857',\n",
       "     'change_today': '0.0055350553505535',\n",
       "     'cost_basis': '1115.56',\n",
       "     'current_price': '174.4',\n",
       "     'exchange': 'NASDAQ',\n",
       "     'lastday_price': '173.44',\n",
       "     'market_value': '1220.8',\n",
       "     'qty': '7',\n",
       "     'qty_available': '7',\n",
       "     'side': 'long',\n",
       "     'symbol': 'TSLA',\n",
       "     'unrealized_intraday_pl': '6.72',\n",
       "     'unrealized_intraday_plpc': '0.0055350553505535',\n",
       "     'unrealized_pl': '105.24',\n",
       "     'unrealized_plpc': '0.0943382695686471'})]"
      ]
     },
     "execution_count": 40,
     "metadata": {},
     "output_type": "execute_result"
    }
   ],
   "source": [
    "alpaca_api.list_positions()"
   ]
  },
  {
   "cell_type": "code",
   "execution_count": null,
   "metadata": {},
   "outputs": [],
   "source": []
  }
 ],
 "metadata": {
  "kernelspec": {
   "display_name": "Python 3.10.8 64-bit",
   "language": "python",
   "name": "python3"
  },
  "language_info": {
   "codemirror_mode": {
    "name": "ipython",
    "version": 3
   },
   "file_extension": ".py",
   "mimetype": "text/x-python",
   "name": "python",
   "nbconvert_exporter": "python",
   "pygments_lexer": "ipython3",
   "version": "3.10.8"
  },
  "orig_nbformat": 4,
  "vscode": {
   "interpreter": {
    "hash": "b0fa6594d8f4cbf19f97940f81e996739fb7646882a419484c72d19e05852a7e"
   }
  }
 },
 "nbformat": 4,
 "nbformat_minor": 2
}
